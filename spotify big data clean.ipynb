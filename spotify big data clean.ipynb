{
 "cells": [
  {
   "cell_type": "markdown",
   "metadata": {},
   "source": [
    "# Spotify Song Clustering and Playlist Automation\n",
    "\n",
    "### Project Goal\n",
    "The goal of this project is to use unsupervised machine learning (K-Means clustering) to segment over 5,000 Spotify songs based on their audio features. By identifying distinct clusters of songs, we can understand the different musical profiles within the dataset, which forms the basis for creating curated and themed playlists automatically.\n",
    "\n",
    "### Process\n",
    "1.  **Data Loading and Cleaning:** Import the dataset and clean the column names for easier use.\n",
    "2.  **Exploratory Data Analysis (EDA):** Investigate the relationships between different audio features to inform our clustering model.\n",
    "3.  **Data Preprocessing:** Scale the numerical features to ensure that no single feature disproportionately influences the clustering algorithm.\n",
    "4.  **K-Means Model Training:**\n",
    "    *   Determine the optimal number of clusters (k) using the Elbow Method and Silhouette Score.\n",
    "    *   Train the K-Means model with the chosen number of clusters.\n",
    "5.  **Cluster Analysis & Interpretation:** Analyze the resulting clusters to understand their unique audio characteristics and assign descriptive profiles (e.g., \"High-Energy Dance,\" \"Mellow Acoustic\")."
   ]
  },
  {
   "cell_type": "code",
   "execution_count": 1,
   "metadata": {},
   "outputs": [],
   "source": [
    "import pandas as pd\n",
    "\n",
    "from sklearn.preprocessing import MinMaxScaler\n",
    "from sklearn.cluster import KMeans\n",
    "from sklearn.metrics import silhouette_score\n",
    "\n",
    "import seaborn as sns\n",
    "import plotly.graph_objects as go\n",
    "import matplotlib.pyplot as plt\n",
    "\n",
    "import os\n"
   ]
  },
  {
   "cell_type": "markdown",
   "metadata": {},
   "source": [
    "## 1. Data Loading and Cleaning\n",
    "First, we load the dataset from the CSV file. A preliminary check of the column names reveals trailing spaces, which need to be cleaned for easy access to the data."
   ]
  },
  {
   "cell_type": "code",
   "execution_count": 2,
   "metadata": {},
   "outputs": [],
   "source": [
    "spotify_df = pd.read_csv(\"3_spotify_5000_songs.csv\")\n",
    "\n",
    "# clean column names since they contain a space at the end\n",
    "songs_df_clean = spotify_df.copy()\n",
    "songs_df_clean.columns = songs_df_clean.columns.str.strip()\n",
    "# songs_df_clean.head()\n"
   ]
  },
  {
   "cell_type": "markdown",
   "metadata": {},
   "source": [
    "## 2. Exploratory Data Analysis (EDA)\n",
    "\n",
    "Before clustering, it's important to understand the data. I'll start by exploring the relationships between features. For instance, `tempo` (the speed of the music) and `time_signature` (the number of beats per measure) might be related. A correlation heatmap is a great way to check this.\n",
    "\n",
    "**Analysis:**\n",
    "The heatmap below shows a correlation coefficient of nearly zero between `tempo` and `time_signature`. This indicates that there is no significant linear relationship between them, and both can be kept as independent features for our model."
   ]
  },
  {
   "cell_type": "code",
   "execution_count": 3,
   "metadata": {},
   "outputs": [
    {
     "data": {
      "image/png": "[encoded data removed]",
      "text/plain": [
       "<Figure size 600x400 with 2 Axes>"
      ]
     },
     "metadata": {},
     "output_type": "display_data"
    }
   ],
   "source": [
    "# Calculate correlation matrix for 'time signature' and 'tempo'\n",
    "correlation_matrix = songs_df_clean[['time_signature', 'tempo']].corr()\n",
    "\n",
    "# Plot the correlation matrix as a heatmap\n",
    "plt.figure(figsize=(6, 4))\n",
    "sns.heatmap(correlation_matrix, annot=True, cmap='coolwarm', fmt=\".2f\", linewidths=0.5)\n",
    "plt.title(\"Correlation Matrix: Time Signature & Tempo\")\n",
    "plt.show()"
   ]
  },
  {
   "cell_type": "markdown",
   "metadata": {},
   "source": [
    "## 3. Data Preprocessing for Clustering\n",
    "\n",
    "K-Means is a distance-based algorithm, which means it is sensitive to the scale of the features. To prepare the data for clustering, we'll perform two key steps:\n",
    "\n",
    "1.  **Feature Selection:** We will select only the relevant audio features for clustering. Non-numeric columns (like `name`, `artist`) and identifier columns (`id`, `html`) will be set aside for later use but excluded from the model. I am also dropping `Unnamed: 0`, `mode`, and `type` as they are not needed for this analysis.\n",
    "\n",
    "2.  **Normalization:** All numeric audio features will be scaled to a common range (0 to 1) using `MinMaxScaler`. This prevents features with larger ranges (like `loudness` or `tempo`) from dominating the clustering process over features with smaller ranges (like `danceability`)."
   ]
  },
  {
   "cell_type": "code",
   "execution_count": 4,
   "metadata": {},
   "outputs": [],
   "source": [
    "# Select only the audio features for clustering\n",
    "audio_features = ['danceability', 'energy', 'key', 'loudness', 'speechiness', 'acousticness', 'instrumentalness', 'liveness', 'valence', 'tempo', 'duration_ms', 'time_signature']\n",
    "\n",
    "# Keep non-numeric data for later use\n",
    "song_metadata_df = songs_df_clean.drop(columns=audio_features)\n",
    "\n",
    "# Create a dataframe with only the numeric features for the model\n",
    "numeric_features_df = songs_df_clean[audio_features]\n",
    "\n",
    "    "
   ]
  },
  {
   "cell_type": "code",
   "execution_count": 5,
   "metadata": {},
   "outputs": [
    {
     "name": "stdout",
     "output_type": "stream",
     "text": [
      "   danceability  energy       key  loudness  speechiness  acousticness  \\\n",
      "0      0.680455  0.2590  1.000000  0.763897     0.076797      0.696787   \n",
      "1      0.767322  0.3990  0.181818  0.771967     0.037691      0.217871   \n",
      "2      0.880041  0.7300  0.181818  0.798018     0.377996      0.454819   \n",
      "3      0.729059  0.0502  0.363636  0.682811     0.051307      0.882530   \n",
      "4      0.673216  0.1190  0.545455  0.655228     0.041394      0.919679   \n",
      "\n",
      "   instrumentalness  liveness   valence     tempo  duration_ms  time_signature  \n",
      "0          0.000060  0.987842  0.310660  0.515800     0.059067             0.8  \n",
      "1          0.000002  0.108409  0.703553  0.584322     0.042058             0.8  \n",
      "2          0.000064  0.125633  0.918782  0.437862     0.031590             0.8  \n",
      "3          0.000041  0.391084  0.531980  0.499098     0.040567             0.8  \n",
      "4          0.000348  0.105370  0.408122  0.565171     0.063684             0.8  \n"
     ]
    }
   ],
   "source": [
    "## Normalization ##\n",
    "# Create a copy of the dataframe\n",
    "songs_df_clean_dropped_cols_minmax = numeric_features_df.copy()\n",
    "\n",
    "# Separate numeric and non-numeric columns\n",
    "numeric_cols = songs_df_clean_dropped_cols_minmax.select_dtypes(include=['number']).columns\n",
    "non_numeric_cols = songs_df_clean_dropped_cols_minmax.select_dtypes(exclude=['number']).columns\n",
    "\n",
    "# Extract the numeric and non-numeric data\n",
    "numeric_data = songs_df_clean_dropped_cols_minmax[numeric_cols]\n",
    "non_numeric_data = songs_df_clean_dropped_cols_minmax[non_numeric_cols]\n",
    "\n",
    "# Initialize the MinMaxScaler\n",
    "my_min_max = MinMaxScaler().set_output(transform=\"pandas\")\n",
    "\n",
    "# Normalize only the numeric columns\n",
    "scaled_features_df = my_min_max.fit_transform(numeric_data)\n",
    "\n",
    "# Recombine the normalized numeric data with the non-numeric data\n",
    "minmax_dropped_cols_df = non_numeric_data.join(scaled_features_df)\n",
    "\n",
    "# Display the final DataFrame\n",
    "print(minmax_dropped_cols_df.head())\n"
   ]
  },
  {
   "cell_type": "markdown",
   "metadata": {},
   "source": [
    "## 4. Introduction to K-Means Clustering: A 2D Example\n",
    "\n",
    "Before applying K-Means to the full, multi-dimensional dataset, it's helpful to visualize how the algorithm works in a simple 2D space. This helps build an intuition for what clustering achieves.\n",
    "\n",
    "I've selected two of the most intuitive features for music: danceability and tempo. The scatter plot below shows each song plotted based on these two features. To demonstrate how K-Means partitions the data, I have applied the algorithm with an illustrative k=80. The red 'X's mark the calculated center (or \"centroid\") for each cluster.\n",
    "\n",
    "This plot clearly shows how K-Means groups songs with similar tempo and danceability together. Now, we will apply this same logic to the full set of twelve audio features after first determining the optimal number of clusters to use.\""
   ]
  },
  {
   "cell_type": "code",
   "execution_count": 6,
   "metadata": {},
   "outputs": [
    {
     "data": {
      "image/png": "[encoded data removed]",
      "text/plain": [
       "<Figure size 640x480 with 1 Axes>"
      ]
     },
     "metadata": {},
     "output_type": "display_data"
    }
   ],
   "source": [
    "n_cluster = 80\n",
    "feature_1 = \"danceability\"\n",
    "feature_2 = \"tempo\"\n",
    "random_seed = 123\n",
    "two_song_features = minmax_dropped_cols_df.loc[: , [feature_1, feature_2]]\n",
    "\n",
    "\n",
    "# Initialise the and fit the K-Means model\n",
    "my_2d_kmeans = KMeans(n_clusters = n_cluster, \n",
    "                      random_state = random_seed\n",
    "                    )\n",
    "my_2d_kmeans.fit(two_song_features)\n",
    "\n",
    "\n",
    "# Plot the data points\n",
    "plt.scatter(x = two_song_features.iloc[:, 0],\n",
    "            y = two_song_features.iloc[:, 1],\n",
    "            c = my_2d_kmeans.labels_,\n",
    "            cmap = 'viridis')\n",
    "\n",
    "\n",
    "# Plot the centroids\n",
    "plt.scatter(x = my_2d_kmeans.cluster_centers_[:, 0],\n",
    "            y = my_2d_kmeans.cluster_centers_[:, 1],\n",
    "            marker='x',      # Set the marker to 'x'\n",
    "            s=50,           # Make the markers larger\n",
    "            color='red')     # Set a distinct color\n",
    "\n",
    "\n",
    "# Add labels and title\n",
    "plt.title('KMeans Clustering')\n",
    "plt.xlabel(two_song_features.columns[0])\n",
    "plt.ylabel(two_song_features.columns[1])\n",
    "\n",
    "# Display the plot\n",
    "plt.show()"
   ]
  },
  {
   "cell_type": "markdown",
   "metadata": {},
   "source": [
    "## 5. Determining the Optimal Number of Clusters (k)\n",
    "\n",
    "To find the best number of playlists (clusters) to create, I used two common techniques:\n",
    "\n",
    "1.  **The Elbow Method:** This method looks for the \"elbow\" point in the plot of inertia (within-cluster sum of squares) vs. the number of clusters. The elbow represents the point where adding more clusters doesn't significantly reduce inertia.\n",
    "2.  **Silhouette Score:** This score measures how similar a song is to its own cluster compared to other clusters. A higher score indicates better-defined clusters.\n",
    "\n",
    "**Analysis of Plots:**\n",
    "*   The **Inertia Plot** shows a significant \"elbow\" around k=15, after which the drop in inertia slows down considerably.\n",
    "*   The **Silhouette Score Plot** shows its highest peaks between k=2 and k=10, with a general decline afterward.\n",
    "\n",
    "**Conclusion on 'k':**\n",
    "While a smaller `k` (like 10) is technically optimal according to the metrics, the goal is to create a diverse set of playlists. For this prototype, I chose **k=50** to generate more granular and specific musical moods, accepting that some clusters might be less distinct than others. This allows for a wider variety of potential playlists to be explored."
   ]
  },
  {
   "cell_type": "code",
   "execution_count": 7,
   "metadata": {},
   "outputs": [],
   "source": [
    "### USE ELBOW METHOD\n",
    "\n",
    "# Separate numeric and non-numeric columns\n",
    "numeric_cols = minmax_dropped_cols_df.select_dtypes(include=['number']).columns\n",
    "non_numeric_cols = minmax_dropped_cols_df.select_dtypes(exclude=['number']).columns\n",
    "\n",
    "# Extract the numeric and non-numeric data\n",
    "numeric_data = minmax_dropped_cols_df[numeric_cols]\n",
    "non_numeric_data = minmax_dropped_cols_df[non_numeric_cols]\n",
    "\n",
    "\n",
    "# Decide on a random_state to use\n",
    "seed = 123\n",
    "\n",
    "# Set the maximum number of clusters to try\n",
    "max_k = 100\n",
    "\n",
    "# Create an empty list to store the inertia scores\n",
    "inertia_list = []\n",
    "\n",
    "# Iterate over the range of cluster numbers\n",
    "for i in range(1, max_k + 1):\n",
    "\n",
    "    # Create a KMeans object with the specified number of clusters\n",
    "    myKMeans = KMeans(n_clusters = i,\n",
    "                      n_init = \"auto\",\n",
    "                      random_state = seed\n",
    "                      )\n",
    "\n",
    "    # Fit the KMeans model to the scaled data\n",
    "    myKMeans.fit(numeric_data)\n",
    "\n",
    "    # Append the inertia score to the list\n",
    "    inertia_list.append(myKMeans.inertia_)"
   ]
  },
  {
   "cell_type": "code",
   "execution_count": 8,
   "metadata": {},
   "outputs": [
    {
     "data": {
      "image/png": "[encoded data removed]",
      "text/plain": [
       "<Figure size 1600x800 with 1 Axes>"
      ]
     },
     "metadata": {},
     "output_type": "display_data"
    }
   ],
   "source": [
    "sns.set_theme(style='darkgrid')\n",
    "\n",
    "(\n",
    "# Create a line plot of the inertia scores\n",
    "sns.relplot(y = inertia_list,\n",
    "            x = range(1, max_k + 1),\n",
    "            kind = 'line',\n",
    "            marker = 'o',\n",
    "            height = 8,\n",
    "            aspect = 2)\n",
    "# Set the title of the plot\n",
    ".set(title=f\"Inertia score from 1 to {max_k} clusters\")\n",
    "# Set the axis labels\n",
    ".set_axis_labels(\"Number of clusters\", \"Inertia score\")\n",
    ");"
   ]
  },
  {
   "cell_type": "code",
   "execution_count": 9,
   "metadata": {},
   "outputs": [],
   "source": [
    "#### SILHOUETTE SCORE\n",
    "# Set the maximum number of clusters to try\n",
    "max_k = 100\n",
    "\n",
    "# Create an empty list to store the silhouette scores\n",
    "sil_scores = []\n",
    "\n",
    "\n",
    "for j in range(2, max_k+1):\n",
    "\n",
    "    # Create a KMeans object with the specified number of clusters\n",
    "    kmeans = KMeans(n_clusters = j,\n",
    "                    n_init = \"auto\",\n",
    "                    random_state = seed)\n",
    "\n",
    "    # Fit the KMeans model to the scaled data\n",
    "    kmeans.fit(numeric_data)\n",
    "\n",
    "    # Get the cluster labels\n",
    "    labels = kmeans.labels_\n",
    "\n",
    "    # Calculate the silhouette score\n",
    "    score = silhouette_score(numeric_data, labels)\n",
    "\n",
    "    # Append the silhouette score to the list\n",
    "    sil_scores.append(score)"
   ]
  },
  {
   "cell_type": "code",
   "execution_count": 10,
   "metadata": {},
   "outputs": [
    {
     "data": {
      "image/png": "[encoded data removed]",
      "text/plain": [
       "<Figure size 1600x800 with 1 Axes>"
      ]
     },
     "metadata": {},
     "output_type": "display_data"
    }
   ],
   "source": [
    "(\n",
    "sns.relplot(y = sil_scores,\n",
    "            x = range(2, max_k+1),\n",
    "            kind = 'line',\n",
    "            marker = 'o',\n",
    "            height = 8,\n",
    "            aspect = 2)\n",
    ".set(title=f\"Silhouette score from 2 to {max_k - 1} clusters\")\n",
    ".set_axis_labels(\"Number of clusters\", \"Silhouette score\")\n",
    ");"
   ]
  },
  {
   "cell_type": "markdown",
   "metadata": {},
   "source": [
    "## 6. Applying K-Means and Profiling the Clusters\n",
    "\n",
    "With k=50, the K-Means algorithm was applied to the scaled audio features. Each of the 5,000+ songs is now assigned to one of 50 clusters.\n",
    "\n",
    "To understand the character of each cluster, I created a radar chart visualizing the mean audio feature values for each group. This helps us create a \"personality profile\" for every playlist."
   ]
  },
  {
   "cell_type": "code",
   "execution_count": 11,
   "metadata": {},
   "outputs": [
    {
     "name": "stdout",
     "output_type": "stream",
     "text": [
      "cluster\n",
      "16    154\n",
      "7     154\n",
      "55    120\n",
      "32    118\n",
      "1     116\n",
      "28    115\n",
      "9     114\n",
      "49    111\n",
      "45    109\n",
      "26    109\n",
      "Name: count, dtype: int64\n"
     ]
    }
   ],
   "source": [
    "numeric_data_df = numeric_data.copy()\n",
    "# Initialise the model\n",
    "my_kmeans = KMeans(n_clusters = n_cluster, # you always choose the number of k here\n",
    "                   random_state = random_seed)\n",
    "\n",
    "# Fit the model to the data\n",
    "my_kmeans.fit(numeric_data_df)\n",
    "\n",
    "# Obtain the cluster output\n",
    "clusters = my_kmeans.labels_\n",
    "\n",
    "# Attach the cluster output to our original DataFrame\n",
    "numeric_data_df[\"cluster\"] = clusters\n",
    "print(numeric_data_df[\"cluster\"].value_counts().head(10))"
   ]
  },
  {
   "cell_type": "code",
   "execution_count": 12,
   "metadata": {},
   "outputs": [
    {
     "data": {
      "application/vnd.plotly.v1+json": {
       "config": {
        "plotlyServerURL": "https://plot.ly"
       },
       "data": [
        {
         "fill": "toself",
         "name": "Cluster 0",
         "r": [
          0.36363502061537223,
          0.8504415584415583,
          0.8181818181818182,
          0.8257222546616437,
          0.07816540757717226,
          0.01337483479372034,
          0.8586063682510383,
          0.17276806273766757,
          0.38471356055112405,
          0.5940950026187654,
          0.06000399000211056,
          0.7844155844155842
         ],
         "theta": [
          "danceability",
          "energy",
          "key",
          "loudness",
          "speechiness",
          "acousticness",
          "instrumentalness",
          "liveness",
          "valence",
          "tempo",
          "duration_ms",
          "time_signature",
          "cluster"
         ],
         "type": "scatterpolar"
        },
        {
         "fill": "toself",
         "name": "Cluster 1",
         "r": [
          0.8104963805584283,
          0.784706896551724,
          0.07993730407523511,
          0.8868167335425242,
          0.11632860040567951,
          0.14504111272676917,
          0.0014051322422545072,
          0.1402202773992943,
          0.8478207596709261,
          0.5045176941880946,
          0.04965717883479607,
          0.7982758620689655
         ],
         "theta": [
          "danceability",
          "energy",
          "key",
          "loudness",
          "speechiness",
          "acousticness",
          "instrumentalness",
          "liveness",
          "valence",
          "tempo",
          "duration_ms",
          "time_signature",
          "cluster"
         ],
         "type": "scatterpolar"
        },
        {
         "fill": "toself",
         "name": "Cluster 2",
         "r": [
          0.2968355739400207,
          0.112992,
          0.7439393939393939,
          0.6109927401562824,
          0.04868917937545389,
          0.9572121820615797,
          0.8933840947546531,
          0.12183046268152652,
          0.1268223350253807,
          0.7076387525896849,
          0.05822248074535726,
          0.6933333333333334
         ],
         "theta": [
          "danceability",
          "energy",
          "key",
          "loudness",
          "speechiness",
          "acousticness",
          "instrumentalness",
          "liveness",
          "valence",
          "tempo",
          "duration_ms",
          "time_signature",
          "cluster"
         ],
         "type": "scatterpolar"
        },
        {
         "fill": "toself",
         "name": "Cluster 3",
         "r": [
          0.6840369887445109,
          0.4701434782608696,
          0.8524374176548091,
          0.8179177422471967,
          0.10067727574121436,
          0.29641822361911413,
          0.021076241153534906,
          0.14647225526041438,
          0.5422644007945266,
          0.5060294704276441,
          0.05323204047362381,
          0.7999999999999997
         ],
         "theta": [
          "danceability",
          "energy",
          "key",
          "loudness",
          "speechiness",
          "acousticness",
          "instrumentalness",
          "liveness",
          "valence",
          "tempo",
          "duration_ms",
          "time_signature",
          "cluster"
         ],
         "type": "scatterpolar"
        },
        {
         "fill": "toself",
         "name": "Cluster 4",
         "r": [
          0.2814567473617324,
          0.9466987951807232,
          0.9255202628696604,
          0.8681282464146306,
          0.13976559834107674,
          0.004904197150045968,
          0.060008101155892606,
          0.15496026659830814,
          0.19356002690966911,
          0.5524105675470704,
          0.05630069152151922,
          0.7686746987951807
         ],
         "theta": [
          "danceability",
          "energy",
          "key",
          "loudness",
          "speechiness",
          "acousticness",
          "instrumentalness",
          "liveness",
          "valence",
          "tempo",
          "duration_ms",
          "time_signature",
          "cluster"
         ],
         "type": "scatterpolar"
        },
        {
         "fill": "toself",
         "name": "Cluster 5",
         "r": [
          0.42148397104446744,
          0.8219125,
          0.11704545454545454,
          0.8817525105148185,
          0.10758169934640523,
          0.022894889432730926,
          0.016805848096446703,
          0.19542046605876395,
          0.5047588832487309,
          0.6997831674377307,
          0.04896303608195236,
          0.8049999999999999
         ],
         "theta": [
          "danceability",
          "energy",
          "key",
          "loudness",
          "speechiness",
          "acousticness",
          "instrumentalness",
          "liveness",
          "valence",
          "tempo",
          "duration_ms",
          "time_signature",
          "cluster"
         ],
         "type": "scatterpolar"
        },
        {
         "fill": "toself",
         "name": "Cluster 6",
         "r": [
          0.5815396455111711,
          0.2244981465116279,
          0.20084566596194503,
          0.7302246724995127,
          0.05376703653037442,
          0.8525030353974036,
          0.07543056616692244,
          0.14254141042859497,
          0.5192067052296069,
          0.538122733403104,
          0.049526366424386827,
          0.7813953488372093
         ],
         "theta": [
          "danceability",
          "energy",
          "key",
          "loudness",
          "speechiness",
          "acousticness",
          "instrumentalness",
          "liveness",
          "valence",
          "tempo",
          "duration_ms",
          "time_signature",
          "cluster"
         ],
         "type": "scatterpolar"
        },
        {
         "fill": "toself",
         "name": "Cluster 7",
         "r": [
          0.7306168495413583,
          0.7293051948051947,
          0.8701298701298701,
          0.8847957819624865,
          0.09541917777211896,
          0.08300954271631981,
          0.00845755356318808,
          0.15404873748338796,
          0.5242534115630562,
          0.5430116894647948,
          0.050260117920618366,
          0.7999999999999998
         ],
         "theta": [
          "danceability",
          "energy",
          "key",
          "loudness",
          "speechiness",
          "acousticness",
          "instrumentalness",
          "liveness",
          "valence",
          "tempo",
          "duration_ms",
          "time_signature",
          "cluster"
         ],
         "type": "scatterpolar"
        },
        {
         "fill": "toself",
         "name": "Cluster 8",
         "r": [
          0.6874396053367693,
          0.8600983606557379,
          0.6244411326378537,
          0.9036808412496239,
          0.08730133219043536,
          0.05177870646520509,
          0.030252767579262707,
          0.38523759695716453,
          0.4705833402679536,
          0.5596363856438825,
          0.049060157815248015,
          0.7999999999999997
         ],
         "theta": [
          "danceability",
          "energy",
          "key",
          "loudness",
          "speechiness",
          "acousticness",
          "instrumentalness",
          "liveness",
          "valence",
          "tempo",
          "duration_ms",
          "time_signature",
          "cluster"
         ],
         "type": "scatterpolar"
        },
        {
         "fill": "toself",
         "name": "Cluster 9",
         "r": [
          0.22205228687022627,
          0.9246140350877192,
          0.157097288676236,
          0.8403237643193437,
          0.13061384397813705,
          0.00602033467202142,
          0.8584468786178645,
          0.19214970049236565,
          0.11558197524267519,
          0.47652948203023104,
          0.05658937911963277,
          0.7771929824561403
         ],
         "theta": [
          "danceability",
          "energy",
          "key",
          "loudness",
          "speechiness",
          "acousticness",
          "instrumentalness",
          "liveness",
          "valence",
          "tempo",
          "duration_ms",
          "time_signature",
          "cluster"
         ],
         "type": "scatterpolar"
        },
        {
         "fill": "toself",
         "name": "Cluster 10",
         "r": [
          0.2529639727157824,
          0.9158080808080807,
          0.9201101928374656,
          0.845258031720814,
          0.12581919411984774,
          0.010158263052208837,
          0.8508229503153362,
          0.19414509840041755,
          0.15843613803004666,
          0.5303320602633654,
          0.058014538531331046,
          0.7636363636363636
         ],
         "theta": [
          "danceability",
          "energy",
          "key",
          "loudness",
          "speechiness",
          "acousticness",
          "instrumentalness",
          "liveness",
          "valence",
          "tempo",
          "duration_ms",
          "time_signature",
          "cluster"
         ],
         "type": "scatterpolar"
        },
        {
         "fill": "toself",
         "name": "Cluster 11",
         "r": [
          0.6650371345304128,
          0.7910545454545452,
          0.8330578512396695,
          0.8746111962440092,
          0.10659140423846306,
          0.5893939393939394,
          0.006750246792801107,
          0.18959565257437597,
          0.8245316105214582,
          0.6289126509734951,
          0.046694050702110926,
          0.796363636363636
         ],
         "theta": [
          "danceability",
          "energy",
          "key",
          "loudness",
          "speechiness",
          "acousticness",
          "instrumentalness",
          "liveness",
          "valence",
          "tempo",
          "duration_ms",
          "time_signature",
          "cluster"
         ],
         "type": "scatterpolar"
        },
        {
         "fill": "toself",
         "name": "Cluster 12",
         "r": [
          0.5930713547052741,
          0.5555999999999999,
          0.10909090909090909,
          0.8108856900655341,
          0.09313725490196077,
          0.6161646586345382,
          0.01037353654822335,
          0.7284194528875381,
          0.6962436548223351,
          0.568272349175195,
          0.05271348843135404,
          0.8000000000000002
         ],
         "theta": [
          "danceability",
          "energy",
          "key",
          "loudness",
          "speechiness",
          "acousticness",
          "instrumentalness",
          "liveness",
          "valence",
          "tempo",
          "duration_ms",
          "time_signature",
          "cluster"
         ],
         "type": "scatterpolar"
        },
        {
         "fill": "toself",
         "name": "Cluster 13",
         "r": [
          0.6313507022050238,
          0.3443548387096775,
          0.5043988269794722,
          0.7433358820615461,
          0.06441773842153349,
          0.8332037828734291,
          0.787850008187326,
          0.22751250122561034,
          0.720943179957426,
          0.5321590246152594,
          0.05786025403091398,
          0.7806451612903229
         ],
         "theta": [
          "danceability",
          "energy",
          "key",
          "loudness",
          "speechiness",
          "acousticness",
          "instrumentalness",
          "liveness",
          "valence",
          "tempo",
          "duration_ms",
          "time_signature",
          "cluster"
         ],
         "type": "scatterpolar"
        },
        {
         "fill": "toself",
         "name": "Cluster 14",
         "r": [
          0.4159683343436865,
          0.12779293103448278,
          0.4106583072100314,
          0.6426965717363028,
          0.04754714146194876,
          0.9661750450076168,
          0.8950463854367233,
          0.11544038011389442,
          0.21530019254332228,
          0.5850855905287228,
          0.05174518930894812,
          0.7517241379310342
         ],
         "theta": [
          "danceability",
          "energy",
          "key",
          "loudness",
          "speechiness",
          "acousticness",
          "instrumentalness",
          "liveness",
          "valence",
          "tempo",
          "duration_ms",
          "time_signature",
          "cluster"
         ],
         "type": "scatterpolar"
        },
        {
         "fill": "toself",
         "name": "Cluster 15",
         "r": [
          0.21370004674816906,
          0.9229041095890411,
          0.10087173100871732,
          0.8455242849097112,
          0.10997552750171606,
          0.0022536813005446443,
          0.8419164174953062,
          0.2182592885594926,
          0.23976218621792642,
          0.7548944484027227,
          0.06375286100800971,
          0.7753424657534246
         ],
         "theta": [
          "danceability",
          "energy",
          "key",
          "loudness",
          "speechiness",
          "acousticness",
          "instrumentalness",
          "liveness",
          "valence",
          "tempo",
          "duration_ms",
          "time_signature",
          "cluster"
         ],
         "type": "scatterpolar"
        },
        {
         "fill": "toself",
         "name": "Cluster 16",
         "r": [
          0.7762459877247881,
          0.8167857142857142,
          0.5082644628099174,
          0.8927582720171808,
          0.08267337237925473,
          0.06722900237312888,
          0.012798236930582109,
          0.14054329662232398,
          0.8118465291054123,
          0.5227843514959736,
          0.05000453512319804,
          0.8012987012987012
         ],
         "theta": [
          "danceability",
          "energy",
          "key",
          "loudness",
          "speechiness",
          "acousticness",
          "instrumentalness",
          "liveness",
          "valence",
          "tempo",
          "duration_ms",
          "time_signature",
          "cluster"
         ],
         "type": "scatterpolar"
        },
        {
         "fill": "toself",
         "name": "Cluster 17",
         "r": [
          0.2856367830721502,
          0.03920087692307692,
          0.10909090909090909,
          0.506749297131091,
          0.05002178649237472,
          0.9755637936360828,
          0.9071768840296758,
          0.10785129763853168,
          0.10287387739164389,
          0.3560557466739999,
          0.07805021257803911,
          0.7446153846153845
         ],
         "theta": [
          "danceability",
          "energy",
          "key",
          "loudness",
          "speechiness",
          "acousticness",
          "instrumentalness",
          "liveness",
          "valence",
          "tempo",
          "duration_ms",
          "time_signature",
          "cluster"
         ],
         "type": "scatterpolar"
        },
        {
         "fill": "toself",
         "name": "Cluster 18",
         "r": [
          0.23287132074889258,
          0.09686776119402986,
          0.5210312075983717,
          0.5864115404847887,
          0.046533671511722434,
          0.943984894803093,
          0.8967800590953859,
          0.12233513284640628,
          0.08904159406015606,
          0.37894984631029627,
          0.0777099846628781,
          0.7582089552238804
         ],
         "theta": [
          "danceability",
          "energy",
          "key",
          "loudness",
          "speechiness",
          "acousticness",
          "instrumentalness",
          "liveness",
          "valence",
          "tempo",
          "duration_ms",
          "time_signature",
          "cluster"
         ],
         "type": "scatterpolar"
        },
        {
         "fill": "toself",
         "name": "Cluster 19",
         "r": [
          0.5358039803304983,
          0.7705306122448979,
          0.2782931354359926,
          0.8815223980107513,
          0.08850873682806457,
          0.07802626833866078,
          0.008823859525536102,
          0.48332402869962576,
          0.31791981767326216,
          0.5841919944761866,
          0.056481052590630604,
          0.7918367346938775
         ],
         "theta": [
          "danceability",
          "energy",
          "key",
          "loudness",
          "speechiness",
          "acousticness",
          "instrumentalness",
          "liveness",
          "valence",
          "tempo",
          "duration_ms",
          "time_signature",
          "cluster"
         ],
         "type": "scatterpolar"
        },
        {
         "fill": "toself",
         "name": "Cluster 20",
         "r": [
          0.23644990571202631,
          0.14984676470588235,
          0.8074866310160429,
          0.6827305732374134,
          0.04690503652441369,
          0.9482341129222774,
          0.08090004956703493,
          0.1987692949520234,
          0.11188713048671244,
          0.44069555201864846,
          0.07011044485866819,
          0.6882352941176472
         ],
         "theta": [
          "danceability",
          "energy",
          "key",
          "loudness",
          "speechiness",
          "acousticness",
          "instrumentalness",
          "liveness",
          "valence",
          "tempo",
          "duration_ms",
          "time_signature",
          "cluster"
         ],
         "type": "scatterpolar"
        },
        {
         "fill": "toself",
         "name": "Cluster 21",
         "r": [
          0.6121534446250062,
          0.8255238095238095,
          0.12294372294372294,
          0.8781810334254011,
          0.07003112356053533,
          0.06544799770510615,
          0.023156651099830793,
          0.1211762435470642,
          0.8088373217307226,
          0.673897089094061,
          0.048630724247313815,
          0.7980952380952381
         ],
         "theta": [
          "danceability",
          "energy",
          "key",
          "loudness",
          "speechiness",
          "acousticness",
          "instrumentalness",
          "liveness",
          "valence",
          "tempo",
          "duration_ms",
          "time_signature",
          "cluster"
         ],
         "type": "scatterpolar"
        },
        {
         "fill": "toself",
         "name": "Cluster 22",
         "r": [
          0.44561436495252416,
          0.8734999999999999,
          0.5578512396694214,
          0.8683602514664429,
          0.09612794612794612,
          0.04514143756845565,
          0.7791878172588832,
          0.659850787510362,
          0.2922565759113982,
          0.620223544855537,
          0.06529819062402097,
          0.7727272727272729
         ],
         "theta": [
          "danceability",
          "energy",
          "key",
          "loudness",
          "speechiness",
          "acousticness",
          "instrumentalness",
          "liveness",
          "valence",
          "tempo",
          "duration_ms",
          "time_signature",
          "cluster"
         ],
         "type": "scatterpolar"
        },
        {
         "fill": "toself",
         "name": "Cluster 23",
         "r": [
          0.6225008617718029,
          0.3587291666666667,
          0.875,
          0.7867801288948302,
          0.06572939360929557,
          0.8153447121820617,
          0.046760654187817254,
          0.13774907125970956,
          0.548984771573604,
          0.5565077028521582,
          0.055993212137617134,
          0.7875
         ],
         "theta": [
          "danceability",
          "energy",
          "key",
          "loudness",
          "speechiness",
          "acousticness",
          "instrumentalness",
          "liveness",
          "valence",
          "tempo",
          "duration_ms",
          "time_signature",
          "cluster"
         ],
         "type": "scatterpolar"
        },
        {
         "fill": "toself",
         "name": "Cluster 24",
         "r": [
          0.6165748170643907,
          0.5577215189873419,
          0.12197928653624857,
          0.8577801403131398,
          0.07671327321364553,
          0.09935035077016928,
          0.012696831202210372,
          0.14128736870455158,
          0.22854205487373896,
          0.5790593550745599,
          0.057991254361298046,
          0.7898734177215186
         ],
         "theta": [
          "danceability",
          "energy",
          "key",
          "loudness",
          "speechiness",
          "acousticness",
          "instrumentalness",
          "liveness",
          "valence",
          "tempo",
          "duration_ms",
          "time_signature",
          "cluster"
         ],
         "type": "scatterpolar"
        },
        {
         "fill": "toself",
         "name": "Cluster 25",
         "r": [
          0.30572717871580335,
          0.9053454545454548,
          0.1471074380165289,
          0.8517130484526394,
          0.12138839374133492,
          0.008711976451259587,
          0.41772035071527464,
          0.2111319885787971,
          0.197153668666359,
          0.5341152730161564,
          0.060233670021387645,
          0.7709090909090907
         ],
         "theta": [
          "danceability",
          "energy",
          "key",
          "loudness",
          "speechiness",
          "acousticness",
          "instrumentalness",
          "liveness",
          "valence",
          "tempo",
          "duration_ms",
          "time_signature",
          "cluster"
         ],
         "type": "scatterpolar"
        },
        {
         "fill": "toself",
         "name": "Cluster 26",
         "r": [
          0.78675180023339,
          0.6944954128440367,
          0.08840700583819852,
          0.8764324486657602,
          0.1478173532409906,
          0.07765569894255923,
          0.013508424905695524,
          0.12950837957669895,
          0.5738741675592605,
          0.5137197528307719,
          0.05072616925279896,
          0.7981651376146788
         ],
         "theta": [
          "danceability",
          "energy",
          "key",
          "loudness",
          "speechiness",
          "acousticness",
          "instrumentalness",
          "liveness",
          "valence",
          "tempo",
          "duration_ms",
          "time_signature",
          "cluster"
         ],
         "type": "scatterpolar"
        },
        {
         "fill": "toself",
         "name": "Cluster 27",
         "r": [
          0.6254653567735264,
          0.8210000000000001,
          0.1977272727272727,
          0.8672932085683545,
          0.07209150326797385,
          0.09669920883534136,
          0.7159137055837563,
          0.2008080040526849,
          0.743959390862944,
          0.6494540632739848,
          0.05045254104715615,
          0.795
         ],
         "theta": [
          "danceability",
          "energy",
          "key",
          "loudness",
          "speechiness",
          "acousticness",
          "instrumentalness",
          "liveness",
          "valence",
          "tempo",
          "duration_ms",
          "time_signature",
          "cluster"
         ],
         "type": "scatterpolar"
        },
        {
         "fill": "toself",
         "name": "Cluster 28",
         "r": [
          0.5757744705723664,
          0.8541391304347826,
          0.9051383399209487,
          0.8970384147041603,
          0.08446812541441696,
          0.06780560083813514,
          0.023823539086294414,
          0.17498083784855295,
          0.32675612447583313,
          0.6033014545580148,
          0.05570027480064532,
          0.7930434782608696
         ],
         "theta": [
          "danceability",
          "energy",
          "key",
          "loudness",
          "speechiness",
          "acousticness",
          "instrumentalness",
          "liveness",
          "valence",
          "tempo",
          "duration_ms",
          "time_signature",
          "cluster"
         ],
         "type": "scatterpolar"
        },
        {
         "fill": "toself",
         "name": "Cluster 29",
         "r": [
          0.6603737283855607,
          0.8173953488372092,
          0.6955602536997886,
          0.8904525371667653,
          0.13521051831585346,
          0.11326176800224153,
          0.0013960675244953369,
          0.7517023632807899,
          0.5954904969897296,
          0.5149980927167863,
          0.053843175331952854,
          0.7999999999999998
         ],
         "theta": [
          "danceability",
          "energy",
          "key",
          "loudness",
          "speechiness",
          "acousticness",
          "instrumentalness",
          "liveness",
          "valence",
          "tempo",
          "duration_ms",
          "time_signature",
          "cluster"
         ],
         "type": "scatterpolar"
        },
        {
         "fill": "toself",
         "name": "Cluster 30",
         "r": [
          0.5067448006434563,
          0.4721333333333334,
          0.5131313131313131,
          0.8308275279942327,
          0.051917211328976025,
          0.4731593038821954,
          0.0027374608009024253,
          0.16396712822244738,
          0.3212205301748448,
          0.4872265059114912,
          0.060743514533614366,
          0.7822222222222222
         ],
         "theta": [
          "danceability",
          "energy",
          "key",
          "loudness",
          "speechiness",
          "acousticness",
          "instrumentalness",
          "liveness",
          "valence",
          "tempo",
          "duration_ms",
          "time_signature",
          "cluster"
         ],
         "type": "scatterpolar"
        },
        {
         "fill": "toself",
         "name": "Cluster 31",
         "r": [
          0.22235833797364307,
          0.1174102564102564,
          0.3006993006993008,
          0.6400759424462599,
          0.04590804982961846,
          0.9090464421789723,
          0.038801563712091626,
          0.1844439248694568,
          0.09145125601978395,
          0.4896829590647059,
          0.06410266238229399,
          0.7179487179487182
         ],
         "theta": [
          "danceability",
          "energy",
          "key",
          "loudness",
          "speechiness",
          "acousticness",
          "instrumentalness",
          "liveness",
          "valence",
          "tempo",
          "duration_ms",
          "time_signature",
          "cluster"
         ],
         "type": "scatterpolar"
        },
        {
         "fill": "toself",
         "name": "Cluster 32",
         "r": [
          0.28324365064063245,
          0.9447033898305084,
          0.6001540832049309,
          0.873860031200455,
          0.14395701783538273,
          0.00393354111360697,
          0.06697780779488943,
          0.18629041952157716,
          0.18725974361180414,
          0.5559606777126446,
          0.06035673800148015,
          0.7881355932203389
         ],
         "theta": [
          "danceability",
          "energy",
          "key",
          "loudness",
          "speechiness",
          "acousticness",
          "instrumentalness",
          "liveness",
          "valence",
          "tempo",
          "duration_ms",
          "time_signature",
          "cluster"
         ],
         "type": "scatterpolar"
        },
        {
         "fill": "toself",
         "name": "Cluster 33",
         "r": [
          0.6595252012049818,
          0.5743043478260871,
          0.42687747035573126,
          0.8331315660027244,
          0.0699559533958511,
          0.6974419416797626,
          0.014576185610240563,
          0.13745429716752564,
          0.8752151842860296,
          0.6080241457849512,
          0.040878295516308484,
          0.8043478260869562
         ],
         "theta": [
          "danceability",
          "energy",
          "key",
          "loudness",
          "speechiness",
          "acousticness",
          "instrumentalness",
          "liveness",
          "valence",
          "tempo",
          "duration_ms",
          "time_signature",
          "cluster"
         ],
         "type": "scatterpolar"
        },
        {
         "fill": "toself",
         "name": "Cluster 34",
         "r": [
          0.5751390075386298,
          0.5896376811594202,
          0.5125164690382082,
          0.8365079792600194,
          0.05447412459347668,
          0.19249636226063677,
          0.00851707555359376,
          0.16615127086912473,
          0.7348488192451996,
          0.5045845972756416,
          0.052084562004930474,
          0.7971014492753621
         ],
         "theta": [
          "danceability",
          "energy",
          "key",
          "loudness",
          "speechiness",
          "acousticness",
          "instrumentalness",
          "liveness",
          "valence",
          "tempo",
          "duration_ms",
          "time_signature",
          "cluster"
         ],
         "type": "scatterpolar"
        },
        {
         "fill": "toself",
         "name": "Cluster 35",
         "r": [
          0.4512418585242839,
          0.28128070175438596,
          0.5007974481658692,
          0.785438499250964,
          0.042363261093911246,
          0.8326816036074121,
          0.004201552943271885,
          0.1466947510620523,
          0.33174815210615366,
          0.5623451005662669,
          0.052895569717332884,
          0.7228070175438597
         ],
         "theta": [
          "danceability",
          "energy",
          "key",
          "loudness",
          "speechiness",
          "acousticness",
          "instrumentalness",
          "liveness",
          "valence",
          "tempo",
          "duration_ms",
          "time_signature",
          "cluster"
         ],
         "type": "scatterpolar"
        },
        {
         "fill": "toself",
         "name": "Cluster 36",
         "r": [
          0.29072733540158563,
          0.8672666666666665,
          0.1464646464646465,
          0.8236068091827604,
          0.08935729847494553,
          0.007024895247657296,
          0.8620417371686409,
          0.22651131374535638,
          0.36817822899041164,
          0.5229845631415798,
          0.05501317683784263,
          0.7799999999999999
         ],
         "theta": [
          "danceability",
          "energy",
          "key",
          "loudness",
          "speechiness",
          "acousticness",
          "instrumentalness",
          "liveness",
          "valence",
          "tempo",
          "duration_ms",
          "time_signature",
          "cluster"
         ],
         "type": "scatterpolar"
        },
        {
         "fill": "toself",
         "name": "Cluster 37",
         "r": [
          0.8192970775311301,
          0.544986301369863,
          0.7061021170610213,
          0.8368853180216197,
          0.08677738979914645,
          0.11207501237828026,
          0.018669105208260896,
          0.09654272667971299,
          0.8714971142479659,
          0.5408429020175696,
          0.04912765895510992,
          0.7999999999999999
         ],
         "theta": [
          "danceability",
          "energy",
          "key",
          "loudness",
          "speechiness",
          "acousticness",
          "instrumentalness",
          "liveness",
          "valence",
          "tempo",
          "duration_ms",
          "time_signature",
          "cluster"
         ],
         "type": "scatterpolar"
        },
        {
         "fill": "toself",
         "name": "Cluster 38",
         "r": [
          0.7117796371157281,
          0.8147272727272727,
          0.8297520661157023,
          0.8814313787676248,
          0.11979401861754803,
          0.10882832968236586,
          0.004785238024919244,
          0.4021921341070277,
          0.7791416705122287,
          0.5909066269027016,
          0.05037873831530339,
          0.7999999999999996
         ],
         "theta": [
          "danceability",
          "energy",
          "key",
          "loudness",
          "speechiness",
          "acousticness",
          "instrumentalness",
          "liveness",
          "valence",
          "tempo",
          "duration_ms",
          "time_signature",
          "cluster"
         ],
         "type": "scatterpolar"
        },
        {
         "fill": "toself",
         "name": "Cluster 39",
         "r": [
          0.6398420607314091,
          0.758621212121212,
          0.0743801652892562,
          0.862096561454261,
          0.07251435927906516,
          0.5643483023001095,
          0.03472553407168128,
          0.18096926713947992,
          0.8207814182433472,
          0.6080790379612755,
          0.03958314894715824,
          0.7969696969696969
         ],
         "theta": [
          "danceability",
          "energy",
          "key",
          "loudness",
          "speechiness",
          "acousticness",
          "instrumentalness",
          "liveness",
          "valence",
          "tempo",
          "duration_ms",
          "time_signature",
          "cluster"
         ],
         "type": "scatterpolar"
        },
        {
         "fill": "toself",
         "name": "Cluster 40",
         "r": [
          0.47356514994829374,
          0.5629166666666666,
          0.8617424242424243,
          0.84853193298773,
          0.05069671387073348,
          0.5016942771084337,
          0.030957042724196273,
          0.1873649105032084,
          0.38098561759729277,
          0.6342344657850055,
          0.05577316128063584,
          0.7416666666666666
         ],
         "theta": [
          "danceability",
          "energy",
          "key",
          "loudness",
          "speechiness",
          "acousticness",
          "instrumentalness",
          "liveness",
          "valence",
          "tempo",
          "duration_ms",
          "time_signature",
          "cluster"
         ],
         "type": "scatterpolar"
        },
        {
         "fill": "toself",
         "name": "Cluster 41",
         "r": [
          0.5249749675809656,
          0.4754761904761905,
          0.07792207792207792,
          0.8346315453354676,
          0.07083030743161463,
          0.5940587747816662,
          0.009083805978567398,
          0.1577829240443223,
          0.3558359519780839,
          0.6003243735614409,
          0.05321002265671178,
          0.7777777777777775
         ],
         "theta": [
          "danceability",
          "energy",
          "key",
          "loudness",
          "speechiness",
          "acousticness",
          "instrumentalness",
          "liveness",
          "valence",
          "tempo",
          "duration_ms",
          "time_signature",
          "cluster"
         ],
         "type": "scatterpolar"
        },
        {
         "fill": "toself",
         "name": "Cluster 42",
         "r": [
          0.3020941054808686,
          0.9058333333333334,
          0.1590909090909091,
          0.8597168334909199,
          0.1230392156862745,
          0.015484113119143243,
          0.45948391708967845,
          0.16908983451536644,
          0.2549407783417936,
          0.5629768525008957,
          0.05833011941671753,
          0.20000000000000004
         ],
         "theta": [
          "danceability",
          "energy",
          "key",
          "loudness",
          "speechiness",
          "acousticness",
          "instrumentalness",
          "liveness",
          "valence",
          "tempo",
          "duration_ms",
          "time_signature",
          "cluster"
         ],
         "type": "scatterpolar"
        },
        {
         "fill": "toself",
         "name": "Cluster 43",
         "r": [
          0.25669079627714575,
          0.11570949999999999,
          0.42727272727272725,
          0.588876300088031,
          0.048409586056644874,
          0.950050200803213,
          0.8837563451776649,
          0.0991033434650456,
          0.11756852791878174,
          0.473431936071779,
          0.058858924348147657,
          0.20000000000000004
         ],
         "theta": [
          "danceability",
          "energy",
          "key",
          "loudness",
          "speechiness",
          "acousticness",
          "instrumentalness",
          "liveness",
          "valence",
          "tempo",
          "duration_ms",
          "time_signature",
          "cluster"
         ],
         "type": "scatterpolar"
        },
        {
         "fill": "toself",
         "name": "Cluster 44",
         "r": [
          0.4909513960703206,
          0.22388750000000002,
          0.7897727272727273,
          0.7104451273189658,
          0.06401824618736382,
          0.8361571285140563,
          0.10797836040609138,
          0.8154761904761905,
          0.29901649746192893,
          0.4642635169867751,
          0.0590096237748237,
          0.8
         ],
         "theta": [
          "danceability",
          "energy",
          "key",
          "loudness",
          "speechiness",
          "acousticness",
          "instrumentalness",
          "liveness",
          "valence",
          "tempo",
          "duration_ms",
          "time_signature",
          "cluster"
         ],
         "type": "scatterpolar"
        },
        {
         "fill": "toself",
         "name": "Cluster 45",
         "r": [
          0.8306594688955724,
          0.7155596330275229,
          0.9157631359466223,
          0.8779971457962112,
          0.12602286582318964,
          0.1714620868796286,
          0.006452768965677827,
          0.11910989654499318,
          0.8061938248032413,
          0.48409880252485427,
          0.050128053491691645,
          0.7999999999999999
         ],
         "theta": [
          "danceability",
          "energy",
          "key",
          "loudness",
          "speechiness",
          "acousticness",
          "instrumentalness",
          "liveness",
          "valence",
          "tempo",
          "duration_ms",
          "time_signature",
          "cluster"
         ],
         "type": "scatterpolar"
        },
        {
         "fill": "toself",
         "name": "Cluster 46",
         "r": [
          0.42744788548413437,
          0.8910526315789475,
          0.7799043062200957,
          0.8821868420194628,
          0.1208691663800023,
          0.022968775100401604,
          0.036825338498530584,
          0.6554951207806751,
          0.22214800961795342,
          0.6253950627304278,
          0.06446333918092019,
          0.7736842105263161
         ],
         "theta": [
          "danceability",
          "energy",
          "key",
          "loudness",
          "speechiness",
          "acousticness",
          "instrumentalness",
          "liveness",
          "valence",
          "tempo",
          "duration_ms",
          "time_signature",
          "cluster"
         ],
         "type": "scatterpolar"
        },
        {
         "fill": "toself",
         "name": "Cluster 47",
         "r": [
          0.5154409230082934,
          0.17128039215686275,
          0.8128342245989305,
          0.7295318244672587,
          0.0474881455850314,
          0.8943223875895742,
          0.04632557459938289,
          0.12641794306375034,
          0.2607683885737036,
          0.5349324551541257,
          0.05637542758903977,
          0.776470588235294
         ],
         "theta": [
          "danceability",
          "energy",
          "key",
          "loudness",
          "speechiness",
          "acousticness",
          "instrumentalness",
          "liveness",
          "valence",
          "tempo",
          "duration_ms",
          "time_signature",
          "cluster"
         ],
         "type": "scatterpolar"
        },
        {
         "fill": "toself",
         "name": "Cluster 48",
         "r": [
          0.20781265636988358,
          0.10819290322580645,
          0.26099706744868034,
          0.6088282406097596,
          0.045333473891348654,
          0.8756639461070086,
          0.6330440478139839,
          0.14295192339118218,
          0.10293106271491731,
          0.43463894152424976,
          0.22658513339168737,
          0.7290322580645164
         ],
         "theta": [
          "danceability",
          "energy",
          "key",
          "loudness",
          "speechiness",
          "acousticness",
          "instrumentalness",
          "liveness",
          "valence",
          "tempo",
          "duration_ms",
          "time_signature",
          "cluster"
         ],
         "type": "scatterpolar"
        },
        {
         "fill": "toself",
         "name": "Cluster 49",
         "r": [
          0.6454531056392483,
          0.8221081081081082,
          0.10319410319410321,
          0.9006057017207618,
          0.07540874207540874,
          0.06675280943594197,
          0.020394245118214662,
          0.15285650392033373,
          0.38864041706681307,
          0.5518118005851078,
          0.05039783707025575,
          0.8018018018018017
         ],
         "theta": [
          "danceability",
          "energy",
          "key",
          "loudness",
          "speechiness",
          "acousticness",
          "instrumentalness",
          "liveness",
          "valence",
          "tempo",
          "duration_ms",
          "time_signature",
          "cluster"
         ],
         "type": "scatterpolar"
        },
        {
         "fill": "toself",
         "name": "Cluster 50",
         "r": [
          0.2567624823043945,
          0.9197766990291263,
          0.5913503971756399,
          0.8437971354617578,
          0.1256202804746494,
          0.004789726283775881,
          0.8646986348627471,
          0.1850080168402829,
          0.20096003154107725,
          0.47388136729009656,
          0.05609720285097325,
          0.8019417475728154
         ],
         "theta": [
          "danceability",
          "energy",
          "key",
          "loudness",
          "speechiness",
          "acousticness",
          "instrumentalness",
          "liveness",
          "valence",
          "tempo",
          "duration_ms",
          "time_signature",
          "cluster"
         ],
         "type": "scatterpolar"
        },
        {
         "fill": "toself",
         "name": "Cluster 51",
         "r": [
          0.6771537666056797,
          0.830576923076923,
          0.08624708624708624,
          0.8944708063827101,
          0.10102787553767946,
          0.08237237668623211,
          0.01219730925419758,
          0.4322993791078898,
          0.704724716907458,
          0.569896089081565,
          0.05026371399926227,
          0.7974358974358972
         ],
         "theta": [
          "danceability",
          "energy",
          "key",
          "loudness",
          "speechiness",
          "acousticness",
          "instrumentalness",
          "liveness",
          "valence",
          "tempo",
          "duration_ms",
          "time_signature",
          "cluster"
         ],
         "type": "scatterpolar"
        },
        {
         "fill": "toself",
         "name": "Cluster 52",
         "r": [
          0.6088196188506428,
          0.7587857142857143,
          0.5181818181818182,
          0.8911743061151297,
          0.08992997198879552,
          0.06126256454388984,
          0.021579455982596085,
          0.14346359820523955,
          0.19124147933284982,
          0.6213981294185977,
          0.052492242701035814,
          0.7942857142857142
         ],
         "theta": [
          "danceability",
          "energy",
          "key",
          "loudness",
          "speechiness",
          "acousticness",
          "instrumentalness",
          "liveness",
          "valence",
          "tempo",
          "duration_ms",
          "time_signature",
          "cluster"
         ],
         "type": "scatterpolar"
        },
        {
         "fill": "toself",
         "name": "Cluster 53",
         "r": [
          0.6592554291623579,
          0.8056739130434781,
          0.17391304347826084,
          0.8783374891733162,
          0.08472103817372359,
          0.041609435568360394,
          0.8132421099095124,
          0.1640478393022334,
          0.27320900463473846,
          0.5791207228293885,
          0.06154345276368921,
          0.7999999999999996
         ],
         "theta": [
          "danceability",
          "energy",
          "key",
          "loudness",
          "speechiness",
          "acousticness",
          "instrumentalness",
          "liveness",
          "valence",
          "tempo",
          "duration_ms",
          "time_signature",
          "cluster"
         ],
         "type": "scatterpolar"
        },
        {
         "fill": "toself",
         "name": "Cluster 54",
         "r": [
          0.4501321383431002,
          0.16288555555555553,
          0.0606060606060606,
          0.7167936414781969,
          0.04988299846687646,
          0.9144541127472854,
          0.048806094002632076,
          0.14468647979286275,
          0.23872720436172212,
          0.4823651330193692,
          0.06215748022044937,
          0.759259259259259
         ],
         "theta": [
          "danceability",
          "energy",
          "key",
          "loudness",
          "speechiness",
          "acousticness",
          "instrumentalness",
          "liveness",
          "valence",
          "tempo",
          "duration_ms",
          "time_signature",
          "cluster"
         ],
         "type": "scatterpolar"
        },
        {
         "fill": "toself",
         "name": "Cluster 55",
         "r": [
          0.295889348500517,
          0.9417166666666666,
          0.16060606060606059,
          0.8672743253670677,
          0.13611746550472043,
          0.004985390478580991,
          0.05107969111675127,
          0.1799273893954745,
          0.17131302876480542,
          0.5645846768540587,
          0.059489713308064324,
          0.7783333333333337
         ],
         "theta": [
          "danceability",
          "energy",
          "key",
          "loudness",
          "speechiness",
          "acousticness",
          "instrumentalness",
          "liveness",
          "valence",
          "tempo",
          "duration_ms",
          "time_signature",
          "cluster"
         ],
         "type": "scatterpolar"
        },
        {
         "fill": "toself",
         "name": "Cluster 56",
         "r": [
          0.5464982090133838,
          0.5692028985507247,
          0.7285902503293806,
          0.8557857372705842,
          0.055806573837264374,
          0.10137098684593449,
          0.013875998675789009,
          0.1400349470654744,
          0.2517251526521003,
          0.5419859115724628,
          0.05838450516485604,
          0.7942028985507243
         ],
         "theta": [
          "danceability",
          "energy",
          "key",
          "loudness",
          "speechiness",
          "acousticness",
          "instrumentalness",
          "liveness",
          "valence",
          "tempo",
          "duration_ms",
          "time_signature",
          "cluster"
         ],
         "type": "scatterpolar"
        },
        {
         "fill": "toself",
         "name": "Cluster 57",
         "r": [
          0.6684517654010932,
          0.7448035714285715,
          0.5535714285714286,
          0.8848106284670955,
          0.2347047152194211,
          0.13692878657487093,
          0.0017851769398114577,
          0.16808510638297874,
          0.7459934735315444,
          0.8053719132402717,
          0.04969004129686171,
          0.8035714285714286
         ],
         "theta": [
          "danceability",
          "energy",
          "key",
          "loudness",
          "speechiness",
          "acousticness",
          "instrumentalness",
          "liveness",
          "valence",
          "tempo",
          "duration_ms",
          "time_signature",
          "cluster"
         ],
         "type": "scatterpolar"
        },
        {
         "fill": "toself",
         "name": "Cluster 58",
         "r": [
          0.6731553014173611,
          0.7857352941176471,
          0.7834224598930482,
          0.8605930683707739,
          0.06423170575419711,
          0.08558545948499882,
          0.7680203045685278,
          0.23433160498241848,
          0.8073156166019708,
          0.6203977371125093,
          0.061022950824362425,
          0.8
         ],
         "theta": [
          "danceability",
          "energy",
          "key",
          "loudness",
          "speechiness",
          "acousticness",
          "instrumentalness",
          "liveness",
          "valence",
          "tempo",
          "duration_ms",
          "time_signature",
          "cluster"
         ],
         "type": "scatterpolar"
        },
        {
         "fill": "toself",
         "name": "Cluster 59",
         "r": [
          0.30797346931498065,
          0.8905689655172415,
          0.5595611285266457,
          0.8545011630665382,
          0.09081023213883255,
          0.0170827773161612,
          0.5624715561001224,
          0.162620969150683,
          0.25252231752144233,
          0.5926316247455972,
          0.0711948759369242,
          0.7827586206896553
         ],
         "theta": [
          "danceability",
          "energy",
          "key",
          "loudness",
          "speechiness",
          "acousticness",
          "instrumentalness",
          "liveness",
          "valence",
          "tempo",
          "duration_ms",
          "time_signature",
          "cluster"
         ],
         "type": "scatterpolar"
        },
        {
         "fill": "toself",
         "name": "Cluster 60",
         "r": [
          0.5905968385285864,
          0.44660714285714287,
          0.6493506493506492,
          0.7604076908387168,
          0.06997354497354498,
          0.6006884681583478,
          0.8222262509064541,
          0.13433564915327836,
          0.26548585931834656,
          0.5482585968636718,
          0.07363226779583046,
          0.7714285714285716
         ],
         "theta": [
          "danceability",
          "energy",
          "key",
          "loudness",
          "speechiness",
          "acousticness",
          "instrumentalness",
          "liveness",
          "valence",
          "tempo",
          "duration_ms",
          "time_signature",
          "cluster"
         ],
         "type": "scatterpolar"
        },
        {
         "fill": "toself",
         "name": "Cluster 61",
         "r": [
          0.654894863840055,
          0.5452999999999999,
          0.4954545454545454,
          0.8331589014595763,
          0.08911401597676107,
          0.6608099062918341,
          0.047996692385786806,
          0.1451671732522796,
          0.5152791878172588,
          0.5266376933501565,
          0.05835628453087964,
          0.7933333333333331
         ],
         "theta": [
          "danceability",
          "energy",
          "key",
          "loudness",
          "speechiness",
          "acousticness",
          "instrumentalness",
          "liveness",
          "valence",
          "tempo",
          "duration_ms",
          "time_signature",
          "cluster"
         ],
         "type": "scatterpolar"
        },
        {
         "fill": "toself",
         "name": "Cluster 62",
         "r": [
          0.1973927485819937,
          0.9371212121212121,
          0.5743801652892562,
          0.8429485754483308,
          0.12386941308509936,
          0.0021626039004502863,
          0.885632979541609,
          0.16699671486905532,
          0.17982156591293647,
          0.7367170230271309,
          0.058661854326675124,
          0.7515151515151516
         ],
         "theta": [
          "danceability",
          "energy",
          "key",
          "loudness",
          "speechiness",
          "acousticness",
          "instrumentalness",
          "liveness",
          "valence",
          "tempo",
          "duration_ms",
          "time_signature",
          "cluster"
         ],
         "type": "scatterpolar"
        },
        {
         "fill": "toself",
         "name": "Cluster 63",
         "r": [
          0.4998965873836609,
          0.8450666666666667,
          0.7010101010101011,
          0.8695369132622565,
          0.06417090292907286,
          0.008527691878625614,
          0.391043429216018,
          0.18887537993920975,
          0.49843203609701076,
          0.5765418944810506,
          0.05471800462668886,
          0.7822222222222222
         ],
         "theta": [
          "danceability",
          "energy",
          "key",
          "loudness",
          "speechiness",
          "acousticness",
          "instrumentalness",
          "liveness",
          "valence",
          "tempo",
          "duration_ms",
          "time_signature",
          "cluster"
         ],
         "type": "scatterpolar"
        },
        {
         "fill": "toself",
         "name": "Cluster 64",
         "r": [
          0.7971075804581492,
          0.7637878787878788,
          0.44490358126721763,
          0.8797054862801008,
          0.13756354393609296,
          0.35788608981380066,
          0.00921851253653284,
          0.2003223726627982,
          0.8358252576526688,
          0.482981858398934,
          0.04926636390606909,
          0.7999999999999998
         ],
         "theta": [
          "danceability",
          "energy",
          "key",
          "loudness",
          "speechiness",
          "acousticness",
          "instrumentalness",
          "liveness",
          "valence",
          "tempo",
          "duration_ms",
          "time_signature",
          "cluster"
         ],
         "type": "scatterpolar"
        },
        {
         "fill": "toself",
         "name": "Cluster 65",
         "r": [
          0.2610780765253361,
          0.9191093749999999,
          0.8480113636363638,
          0.8483382613054677,
          0.1450759123093682,
          0.004487819716365462,
          0.44317893401015224,
          0.22917141590678827,
          0.16384200507614213,
          0.5581100460301883,
          0.06744722050622426,
          0.771875
         ],
         "theta": [
          "danceability",
          "energy",
          "key",
          "loudness",
          "speechiness",
          "acousticness",
          "instrumentalness",
          "liveness",
          "valence",
          "tempo",
          "duration_ms",
          "time_signature",
          "cluster"
         ],
         "type": "scatterpolar"
        },
        {
         "fill": "toself",
         "name": "Cluster 66",
         "r": [
          0.22801363928561444,
          0.0924525,
          0.8660933660933662,
          0.5971244956279679,
          0.046574515692162755,
          0.9540730489525668,
          0.8965701742351488,
          0.12332895205235628,
          0.08357662230758678,
          0.3743482582540482,
          0.10022895007736513,
          0.7513513513513513
         ],
         "theta": [
          "danceability",
          "energy",
          "key",
          "loudness",
          "speechiness",
          "acousticness",
          "instrumentalness",
          "liveness",
          "valence",
          "tempo",
          "duration_ms",
          "time_signature",
          "cluster"
         ],
         "type": "scatterpolar"
        },
        {
         "fill": "toself",
         "name": "Cluster 67",
         "r": [
          0.8019226304792857,
          0.6430714285714286,
          0.5269016697588127,
          0.8657075852413935,
          0.10846560846560847,
          0.10322901811326941,
          0.008768961773541903,
          0.13641213324235468,
          0.5489899513104733,
          0.5154157022405206,
          0.051853330949107206,
          0.7918367346938775
         ],
         "theta": [
          "danceability",
          "energy",
          "key",
          "loudness",
          "speechiness",
          "acousticness",
          "instrumentalness",
          "liveness",
          "valence",
          "tempo",
          "duration_ms",
          "time_signature",
          "cluster"
         ],
         "type": "scatterpolar"
        },
        {
         "fill": "toself",
         "name": "Cluster 68",
         "r": [
          0.6210305950008828,
          0.2580731707317073,
          0.516629711751663,
          0.7471668239880208,
          0.0504543280726925,
          0.8138652169654226,
          0.037575001361891784,
          0.15237848123162084,
          0.6300111427510213,
          0.5256604195090038,
          0.047155824184591064,
          0.7951219512195122
         ],
         "theta": [
          "danceability",
          "energy",
          "key",
          "loudness",
          "speechiness",
          "acousticness",
          "instrumentalness",
          "liveness",
          "valence",
          "tempo",
          "duration_ms",
          "time_signature",
          "cluster"
         ],
         "type": "scatterpolar"
        },
        {
         "fill": "toself",
         "name": "Cluster 69",
         "r": [
          0.6301890973555917,
          0.6315714285714286,
          0.6396103896103896,
          0.8401508870640949,
          0.10880407718643012,
          0.5768430866322433,
          0.00004809717186366932,
          0.6568244319004197,
          0.7172226250906453,
          0.5670093061758561,
          0.04792760627175767,
          0.7857142857142858
         ],
         "theta": [
          "danceability",
          "energy",
          "key",
          "loudness",
          "speechiness",
          "acousticness",
          "instrumentalness",
          "liveness",
          "valence",
          "tempo",
          "duration_ms",
          "time_signature",
          "cluster"
         ],
         "type": "scatterpolar"
        },
        {
         "fill": "toself",
         "name": "Cluster 70",
         "r": [
          0.46180678818935317,
          0.16284776119402983,
          0.0705563093622795,
          0.6626238407908291,
          0.05157057848014828,
          0.9440448360606606,
          0.8925070081066747,
          0.11929864356031394,
          0.249971967573301,
          0.5473412413608392,
          0.05788450801868925,
          0.788059701492537
         ],
         "theta": [
          "danceability",
          "energy",
          "key",
          "loudness",
          "speechiness",
          "acousticness",
          "instrumentalness",
          "liveness",
          "valence",
          "tempo",
          "duration_ms",
          "time_signature",
          "cluster"
         ],
         "type": "scatterpolar"
        },
        {
         "fill": "toself",
         "name": "Cluster 71",
         "r": [
          0.4926069050599613,
          0.1389159649122807,
          0.8118022328548645,
          0.649134247048615,
          0.05531093529029545,
          0.9685936729373635,
          0.8909430937750467,
          0.11077694235588974,
          0.27778074628194854,
          0.5182977889604613,
          0.058951937675788345,
          0.7964912280701753
         ],
         "theta": [
          "danceability",
          "energy",
          "key",
          "loudness",
          "speechiness",
          "acousticness",
          "instrumentalness",
          "liveness",
          "valence",
          "tempo",
          "duration_ms",
          "time_signature",
          "cluster"
         ],
         "type": "scatterpolar"
        },
        {
         "fill": "toself",
         "name": "Cluster 72",
         "r": [
          0.6622410514727959,
          0.4929354838709677,
          0.7976539589442815,
          0.8084812174156316,
          0.06636270995853538,
          0.5941993781577923,
          0.0075555158015392174,
          0.14305977710233028,
          0.8558703127558538,
          0.5801799601729957,
          0.03932594957219656,
          0.7870967741935482
         ],
         "theta": [
          "danceability",
          "energy",
          "key",
          "loudness",
          "speechiness",
          "acousticness",
          "instrumentalness",
          "liveness",
          "valence",
          "tempo",
          "duration_ms",
          "time_signature",
          "cluster"
         ],
         "type": "scatterpolar"
        },
        {
         "fill": "toself",
         "name": "Cluster 73",
         "r": [
          0.6832342295760082,
          0.416796875,
          0.05681818181818182,
          0.8029877571647485,
          0.06758238017429194,
          0.7360692771084337,
          0.037200579473350245,
          0.1660540146909828,
          0.7275222081218273,
          0.49274403885695595,
          0.04177398813172627,
          0.796875
         ],
         "theta": [
          "danceability",
          "energy",
          "key",
          "loudness",
          "speechiness",
          "acousticness",
          "instrumentalness",
          "liveness",
          "valence",
          "tempo",
          "duration_ms",
          "time_signature",
          "cluster"
         ],
         "type": "scatterpolar"
        },
        {
         "fill": "toself",
         "name": "Cluster 74",
         "r": [
          0.2953774560496381,
          0.21195,
          0.3727272727272727,
          0.6243422125134492,
          0.05102396514161219,
          0.9304216867469879,
          0.8751269035532994,
          0.6668693009118541,
          0.15171573604060912,
          0.5004523575868032,
          0.1192871475672788,
          0.76
         ],
         "theta": [
          "danceability",
          "energy",
          "key",
          "loudness",
          "speechiness",
          "acousticness",
          "instrumentalness",
          "liveness",
          "valence",
          "tempo",
          "duration_ms",
          "time_signature",
          "cluster"
         ],
         "type": "scatterpolar"
        },
        {
         "fill": "toself",
         "name": "Cluster 75",
         "r": [
          0.6127432546770707,
          0.8742159090909092,
          0.8801652892561985,
          0.8918681698139491,
          0.07179391958803723,
          0.06832105193501278,
          0.015773923281033688,
          0.12965598231555678,
          0.8003922473465621,
          0.6515411722722811,
          0.046212662505448684,
          0.8022727272727272
         ],
         "theta": [
          "danceability",
          "energy",
          "key",
          "loudness",
          "speechiness",
          "acousticness",
          "instrumentalness",
          "liveness",
          "valence",
          "tempo",
          "duration_ms",
          "time_signature",
          "cluster"
         ],
         "type": "scatterpolar"
        },
        {
         "fill": "toself",
         "name": "Cluster 76",
         "r": [
          0.18868665977249227,
          0.19637555555555555,
          0.1616161616161616,
          0.6760733084817726,
          0.04487533284918906,
          0.8784248103525212,
          0.909238578680203,
          0.13802093887200273,
          0.07373265651438239,
          0.523544506233417,
          0.10419469793780366,
          0.7466666666666666
         ],
         "theta": [
          "danceability",
          "energy",
          "key",
          "loudness",
          "speechiness",
          "acousticness",
          "instrumentalness",
          "liveness",
          "valence",
          "tempo",
          "duration_ms",
          "time_signature",
          "cluster"
         ],
         "type": "scatterpolar"
        },
        {
         "fill": "toself",
         "name": "Cluster 77",
         "r": [
          0.5677689852074997,
          0.8525434782608697,
          0.516798418972332,
          0.8999646316517658,
          0.07802524391399071,
          0.04582176215732495,
          0.011428743875524162,
          0.15623210431258536,
          0.5149856543809314,
          0.5930516358952166,
          0.05034174611563933,
          0.7891304347826085
         ],
         "theta": [
          "danceability",
          "energy",
          "key",
          "loudness",
          "speechiness",
          "acousticness",
          "instrumentalness",
          "liveness",
          "valence",
          "tempo",
          "duration_ms",
          "time_signature",
          "cluster"
         ],
         "type": "scatterpolar"
        },
        {
         "fill": "toself",
         "name": "Cluster 78",
         "r": [
          0.6605218590291204,
          0.5803188405797102,
          0.12648221343873522,
          0.8526380251561807,
          0.07123867260269647,
          0.3578080437692801,
          0.00814461693518723,
          0.1281162357018046,
          0.5262267343485617,
          0.5152506787869675,
          0.051081397079065546,
          0.797101449275362
         ],
         "theta": [
          "danceability",
          "energy",
          "key",
          "loudness",
          "speechiness",
          "acousticness",
          "instrumentalness",
          "liveness",
          "valence",
          "tempo",
          "duration_ms",
          "time_signature",
          "cluster"
         ],
         "type": "scatterpolar"
        },
        {
         "fill": "toself",
         "name": "Cluster 79",
         "r": [
          0.7731268214722197,
          0.527,
          0.14359504132231404,
          0.8118384704532857,
          0.06928723509605862,
          0.19523710752099308,
          0.012655717812644211,
          0.10752740167633786,
          0.84611213659437,
          0.5515058583876052,
          0.05122069215039606,
          0.7977272727272726
         ],
         "theta": [
          "danceability",
          "energy",
          "key",
          "loudness",
          "speechiness",
          "acousticness",
          "instrumentalness",
          "liveness",
          "valence",
          "tempo",
          "duration_ms",
          "time_signature",
          "cluster"
         ],
         "type": "scatterpolar"
        }
       ],
       "layout": {
        "font": {
         "color": "#00cf61"
        },
        "height": 600,
        "paper_bgcolor": "#000000",
        "plot_bgcolor": "#000000",
        "polar": {
         "radialaxis": {
          "range": [
           0,
           1
          ],
          "visible": true
         }
        },
        "showlegend": true,
        "template": {
         "data": {
          "bar": [
           {
            "error_x": {
             "color": "#2a3f5f"
            },
            "error_y": {
             "color": "#2a3f5f"
            },
            "marker": {
             "line": {
              "color": "#E5ECF6",
              "width": 0.5
             },
             "pattern": {
              "fillmode": "overlay",
              "size": 10,
              "solidity": 0.2
             }
            },
            "type": "bar"
           }
          ],
          "barpolar": [
           {
            "marker": {
             "line": {
              "color": "#E5ECF6",
              "width": 0.5
             },
             "pattern": {
              "fillmode": "overlay",
              "size": 10,
              "solidity": 0.2
             }
            },
            "type": "barpolar"
           }
          ],
          "carpet": [
           {
            "aaxis": {
             "endlinecolor": "#2a3f5f",
             "gridcolor": "white",
             "linecolor": "white",
             "minorgridcolor": "white",
             "startlinecolor": "#2a3f5f"
            },
            "baxis": {
             "endlinecolor": "#2a3f5f",
             "gridcolor": "white",
             "linecolor": "white",
             "minorgridcolor": "white",
             "startlinecolor": "#2a3f5f"
            },
            "type": "carpet"
           }
          ],
          "choropleth": [
           {
            "colorbar": {
             "outlinewidth": 0,
             "ticks": ""
            },
            "type": "choropleth"
           }
          ],
          "contour": [
           {
            "colorbar": {
             "outlinewidth": 0,
             "ticks": ""
            },
            "colorscale": [
             [
              0,
              "#0d0887"
             ],
             [
              0.1111111111111111,
              "#46039f"
             ],
             [
              0.2222222222222222,
              "#7201a8"
             ],
             [
              0.3333333333333333,
              "#9c179e"
             ],
             [
              0.4444444444444444,
              "#bd3786"
             ],
             [
              0.5555555555555556,
              "#d8576b"
             ],
             [
              0.6666666666666666,
              "#ed7953"
             ],
             [
              0.7777777777777778,
              "#fb9f3a"
             ],
             [
              0.8888888888888888,
              "#fdca26"
             ],
             [
              1,
              "#f0f921"
             ]
            ],
            "type": "contour"
           }
          ],
          "contourcarpet": [
           {
            "colorbar": {
             "outlinewidth": 0,
             "ticks": ""
            },
            "type": "contourcarpet"
           }
          ],
          "heatmap": [
           {
            "colorbar": {
             "outlinewidth": 0,
             "ticks": ""
            },
            "colorscale": [
             [
              0,
              "#0d0887"
             ],
             [
              0.1111111111111111,
              "#46039f"
             ],
             [
              0.2222222222222222,
              "#7201a8"
             ],
             [
              0.3333333333333333,
              "#9c179e"
             ],
             [
              0.4444444444444444,
              "#bd3786"
             ],
             [
              0.5555555555555556,
              "#d8576b"
             ],
             [
              0.6666666666666666,
              "#ed7953"
             ],
             [
              0.7777777777777778,
              "#fb9f3a"
             ],
             [
              0.8888888888888888,
              "#fdca26"
             ],
             [
              1,
              "#f0f921"
             ]
            ],
            "type": "heatmap"
           }
          ],
          "histogram": [
           {
            "marker": {
             "pattern": {
              "fillmode": "overlay",
              "size": 10,
              "solidity": 0.2
             }
            },
            "type": "histogram"
           }
          ],
          "histogram2d": [
           {
            "colorbar": {
             "outlinewidth": 0,
             "ticks": ""
            },
            "colorscale": [
             [
              0,
              "#0d0887"
             ],
             [
              0.1111111111111111,
              "#46039f"
             ],
             [
              0.2222222222222222,
              "#7201a8"
             ],
             [
              0.3333333333333333,
              "#9c179e"
             ],
             [
              0.4444444444444444,
              "#bd3786"
             ],
             [
              0.5555555555555556,
              "#d8576b"
             ],
             [
              0.6666666666666666,
              "#ed7953"
             ],
             [
              0.7777777777777778,
              "#fb9f3a"
             ],
             [
              0.8888888888888888,
              "#fdca26"
             ],
             [
              1,
              "#f0f921"
             ]
            ],
            "type": "histogram2d"
           }
          ],
          "histogram2dcontour": [
           {
            "colorbar": {
             "outlinewidth": 0,
             "ticks": ""
            },
            "colorscale": [
             [
              0,
              "#0d0887"
             ],
             [
              0.1111111111111111,
              "#46039f"
             ],
             [
              0.2222222222222222,
              "#7201a8"
             ],
             [
              0.3333333333333333,
              "#9c179e"
             ],
             [
              0.4444444444444444,
              "#bd3786"
             ],
             [
              0.5555555555555556,
              "#d8576b"
             ],
             [
              0.6666666666666666,
              "#ed7953"
             ],
             [
              0.7777777777777778,
              "#fb9f3a"
             ],
             [
              0.8888888888888888,
              "#fdca26"
             ],
             [
              1,
              "#f0f921"
             ]
            ],
            "type": "histogram2dcontour"
           }
          ],
          "mesh3d": [
           {
            "colorbar": {
             "outlinewidth": 0,
             "ticks": ""
            },
            "type": "mesh3d"
           }
          ],
          "parcoords": [
           {
            "line": {
             "colorbar": {
              "outlinewidth": 0,
              "ticks": ""
             }
            },
            "type": "parcoords"
           }
          ],
          "pie": [
           {
            "automargin": true,
            "type": "pie"
           }
          ],
          "scatter": [
           {
            "fillpattern": {
             "fillmode": "overlay",
             "size": 10,
             "solidity": 0.2
            },
            "type": "scatter"
           }
          ],
          "scatter3d": [
           {
            "line": {
             "colorbar": {
              "outlinewidth": 0,
              "ticks": ""
             }
            },
            "marker": {
             "colorbar": {
              "outlinewidth": 0,
              "ticks": ""
             }
            },
            "type": "scatter3d"
           }
          ],
          "scattercarpet": [
           {
            "marker": {
             "colorbar": {
              "outlinewidth": 0,
              "ticks": ""
             }
            },
            "type": "scattercarpet"
           }
          ],
          "scattergeo": [
           {
            "marker": {
             "colorbar": {
              "outlinewidth": 0,
              "ticks": ""
             }
            },
            "type": "scattergeo"
           }
          ],
          "scattergl": [
           {
            "marker": {
             "colorbar": {
              "outlinewidth": 0,
              "ticks": ""
             }
            },
            "type": "scattergl"
           }
          ],
          "scattermap": [
           {
            "marker": {
             "colorbar": {
              "outlinewidth": 0,
              "ticks": ""
             }
            },
            "type": "scattermap"
           }
          ],
          "scattermapbox": [
           {
            "marker": {
             "colorbar": {
              "outlinewidth": 0,
              "ticks": ""
             }
            },
            "type": "scattermapbox"
           }
          ],
          "scatterpolar": [
           {
            "marker": {
             "colorbar": {
              "outlinewidth": 0,
              "ticks": ""
             }
            },
            "type": "scatterpolar"
           }
          ],
          "scatterpolargl": [
           {
            "marker": {
             "colorbar": {
              "outlinewidth": 0,
              "ticks": ""
             }
            },
            "type": "scatterpolargl"
           }
          ],
          "scatterternary": [
           {
            "marker": {
             "colorbar": {
              "outlinewidth": 0,
              "ticks": ""
             }
            },
            "type": "scatterternary"
           }
          ],
          "surface": [
           {
            "colorbar": {
             "outlinewidth": 0,
             "ticks": ""
            },
            "colorscale": [
             [
              0,
              "#0d0887"
             ],
             [
              0.1111111111111111,
              "#46039f"
             ],
             [
              0.2222222222222222,
              "#7201a8"
             ],
             [
              0.3333333333333333,
              "#9c179e"
             ],
             [
              0.4444444444444444,
              "#bd3786"
             ],
             [
              0.5555555555555556,
              "#d8576b"
             ],
             [
              0.6666666666666666,
              "#ed7953"
             ],
             [
              0.7777777777777778,
              "#fb9f3a"
             ],
             [
              0.8888888888888888,
              "#fdca26"
             ],
             [
              1,
              "#f0f921"
             ]
            ],
            "type": "surface"
           }
          ],
          "table": [
           {
            "cells": {
             "fill": {
              "color": "#EBF0F8"
             },
             "line": {
              "color": "white"
             }
            },
            "header": {
             "fill": {
              "color": "#C8D4E3"
             },
             "line": {
              "color": "white"
             }
            },
            "type": "table"
           }
          ]
         },
         "layout": {
          "annotationdefaults": {
           "arrowcolor": "#2a3f5f",
           "arrowhead": 0,
           "arrowwidth": 1
          },
          "autotypenumbers": "strict",
          "coloraxis": {
           "colorbar": {
            "outlinewidth": 0,
            "ticks": ""
           }
          },
          "colorscale": {
           "diverging": [
            [
             0,
             "#8e0152"
            ],
            [
             0.1,
             "#c51b7d"
            ],
            [
             0.2,
             "#de77ae"
            ],
            [
             0.3,
             "#f1b6da"
            ],
            [
             0.4,
             "#fde0ef"
            ],
            [
             0.5,
             "#f7f7f7"
            ],
            [
             0.6,
             "#e6f5d0"
            ],
            [
             0.7,
             "#b8e186"
            ],
            [
             0.8,
             "#7fbc41"
            ],
            [
             0.9,
             "#4d9221"
            ],
            [
             1,
             "#276419"
            ]
           ],
           "sequential": [
            [
             0,
             "#0d0887"
            ],
            [
             0.1111111111111111,
             "#46039f"
            ],
            [
             0.2222222222222222,
             "#7201a8"
            ],
            [
             0.3333333333333333,
             "#9c179e"
            ],
            [
             0.4444444444444444,
             "#bd3786"
            ],
            [
             0.5555555555555556,
             "#d8576b"
            ],
            [
             0.6666666666666666,
             "#ed7953"
            ],
            [
             0.7777777777777778,
             "#fb9f3a"
            ],
            [
             0.8888888888888888,
             "#fdca26"
            ],
            [
             1,
             "#f0f921"
            ]
           ],
           "sequentialminus": [
            [
             0,
             "#0d0887"
            ],
            [
             0.1111111111111111,
             "#46039f"
            ],
            [
             0.2222222222222222,
             "#7201a8"
            ],
            [
             0.3333333333333333,
             "#9c179e"
            ],
            [
             0.4444444444444444,
             "#bd3786"
            ],
            [
             0.5555555555555556,
             "#d8576b"
            ],
            [
             0.6666666666666666,
             "#ed7953"
            ],
            [
             0.7777777777777778,
             "#fb9f3a"
            ],
            [
             0.8888888888888888,
             "#fdca26"
            ],
            [
             1,
             "#f0f921"
            ]
           ]
          },
          "colorway": [
           "#636efa",
           "#EF553B",
           "#00cc96",
           "#ab63fa",
           "#FFA15A",
           "#19d3f3",
           "#FF6692",
           "#B6E880",
           "#FF97FF",
           "#FECB52"
          ],
          "font": {
           "color": "#2a3f5f"
          },
          "geo": {
           "bgcolor": "white",
           "lakecolor": "white",
           "landcolor": "#E5ECF6",
           "showlakes": true,
           "showland": true,
           "subunitcolor": "white"
          },
          "hoverlabel": {
           "align": "left"
          },
          "hovermode": "closest",
          "mapbox": {
           "style": "light"
          },
          "paper_bgcolor": "white",
          "plot_bgcolor": "#E5ECF6",
          "polar": {
           "angularaxis": {
            "gridcolor": "white",
            "linecolor": "white",
            "ticks": ""
           },
           "bgcolor": "#E5ECF6",
           "radialaxis": {
            "gridcolor": "white",
            "linecolor": "white",
            "ticks": ""
           }
          },
          "scene": {
           "xaxis": {
            "backgroundcolor": "#E5ECF6",
            "gridcolor": "white",
            "gridwidth": 2,
            "linecolor": "white",
            "showbackground": true,
            "ticks": "",
            "zerolinecolor": "white"
           },
           "yaxis": {
            "backgroundcolor": "#E5ECF6",
            "gridcolor": "white",
            "gridwidth": 2,
            "linecolor": "white",
            "showbackground": true,
            "ticks": "",
            "zerolinecolor": "white"
           },
           "zaxis": {
            "backgroundcolor": "#E5ECF6",
            "gridcolor": "white",
            "gridwidth": 2,
            "linecolor": "white",
            "showbackground": true,
            "ticks": "",
            "zerolinecolor": "white"
           }
          },
          "shapedefaults": {
           "line": {
            "color": "#2a3f5f"
           }
          },
          "ternary": {
           "aaxis": {
            "gridcolor": "white",
            "linecolor": "white",
            "ticks": ""
           },
           "baxis": {
            "gridcolor": "white",
            "linecolor": "white",
            "ticks": ""
           },
           "bgcolor": "#E5ECF6",
           "caxis": {
            "gridcolor": "white",
            "linecolor": "white",
            "ticks": ""
           }
          },
          "title": {
           "x": 0.05
          },
          "xaxis": {
           "automargin": true,
           "gridcolor": "white",
           "linecolor": "white",
           "ticks": "",
           "title": {
            "standoff": 15
           },
           "zerolinecolor": "white",
           "zerolinewidth": 2
          },
          "yaxis": {
           "automargin": true,
           "gridcolor": "white",
           "linecolor": "white",
           "ticks": "",
           "title": {
            "standoff": 15
           },
           "zerolinecolor": "white",
           "zerolinewidth": 2
          }
         }
        },
        "title": {
         "text": "Radar chart of mean preferences by cluster"
        },
        "width": 800
       }
      }
     },
     "metadata": {},
     "output_type": "display_data"
    }
   ],
   "source": [
    "# Create an empty list to store the Scatterpolar object of each cluster\n",
    "scatter_objects = []\n",
    "\n",
    "scaled_features_df = numeric_data_df.copy()\n",
    "\n",
    "# State the label for each arm of the chart\n",
    "categories = scaled_features_df.columns\n",
    "\n",
    "# Iterate over the unique clusters and add an object for each cluster to the list\n",
    "for cluster in sorted(scaled_features_df['cluster'].unique()):\n",
    "\n",
    "  # Find the mean value for each column of the cluster\n",
    "  cluster_means = [scaled_features_df.loc[scaled_features_df[\"cluster\"] == cluster, scaled_features_df.columns[0]].mean(),\n",
    "                  scaled_features_df.loc[scaled_features_df[\"cluster\"] == cluster, scaled_features_df.columns[1]].mean(),\n",
    "                  scaled_features_df.loc[scaled_features_df[\"cluster\"] == cluster, scaled_features_df.columns[2]].mean(),\n",
    "                  scaled_features_df.loc[scaled_features_df[\"cluster\"] == cluster, scaled_features_df.columns[3]].mean(),\n",
    "                  scaled_features_df.loc[scaled_features_df[\"cluster\"] == cluster, scaled_features_df.columns[4]].mean(),\n",
    "                  scaled_features_df.loc[scaled_features_df[\"cluster\"] == cluster, scaled_features_df.columns[5]].mean(),\n",
    "                  scaled_features_df.loc[scaled_features_df[\"cluster\"] == cluster, scaled_features_df.columns[6]].mean(),\n",
    "                  scaled_features_df.loc[scaled_features_df[\"cluster\"] == cluster, scaled_features_df.columns[7]].mean(),\n",
    "                  scaled_features_df.loc[scaled_features_df[\"cluster\"] == cluster, scaled_features_df.columns[8]].mean(),\n",
    "                  scaled_features_df.loc[scaled_features_df[\"cluster\"] == cluster, scaled_features_df.columns[9]].mean(),\n",
    "                  scaled_features_df.loc[scaled_features_df[\"cluster\"] == cluster, scaled_features_df.columns[10]].mean(),\n",
    "                  scaled_features_df.loc[scaled_features_df[\"cluster\"] == cluster, scaled_features_df.columns[11]].mean()]\n",
    "                  # Bonus: see if you can turn this code for `cluster_means` into a list comprehension\n",
    "\n",
    "  # Create a Scatterpolar object for the cluster\n",
    "  cluster_scatter = go.Scatterpolar(\n",
    "    r = cluster_means, # set the radial coordinates\n",
    "    theta = categories, # the names of the columns\n",
    "    fill = 'toself', # fills in the space with colour\n",
    "    name = f'Cluster {cluster}' # adds the name of the cluster\n",
    "  )\n",
    "\n",
    "  # Add the Scatterpolar object to the list\n",
    "  scatter_objects.append(cluster_scatter)\n",
    "\n",
    "# Create the figure (the white area)\n",
    "fig = go.Figure()\n",
    "\n",
    "# Add the scatter objects to the figure\n",
    "fig.add_traces(scatter_objects)\n",
    "\n",
    "# Add extras to the plot, such as title\n",
    "fig.update_layout(\n",
    "  title_text = 'Radar chart of mean preferences by cluster',\n",
    "  height = 600,\n",
    "  width = 800,\n",
    "  polar = dict(\n",
    "    radialaxis = dict(\n",
    "      visible = True, # visibility of the numbers on the arm\n",
    "      range = [0, 1] # scale of the plot\n",
    "    )),\n",
    "  showlegend = True,\n",
    "  paper_bgcolor='#000000',\n",
    "  plot_bgcolor='#000000',\n",
    "  font=dict(color='#00cf61')\n",
    ")\n",
    "\n",
    "# Show the initialised plot and the trace objects\n",
    "fig.show()"
   ]
  },
  {
   "cell_type": "markdown",
   "metadata": {},
   "source": [
    "![Radar chart showing mean audio features for each song cluster](radar_chart_plot.png)"
   ]
  },
  {
   "cell_type": "markdown",
   "metadata": {},
   "source": [
    "### Cluster Profile Analysis\n",
    "\n",
    "The radar chart reveals the distinct sonic characteristics of each cluster. For example:\n",
    "\n",
    "*   **Cluster 4 (High Energy, Low Acousticness):** This cluster has very high `energy` and `loudness` but extremely low `acousticness`. This is a perfect profile for an intense workout or \"Hype\" playlist.\n",
    "*   **Cluster 28 (Low Energy, High Acousticness):** In contrast, this cluster shows low `energy`, low `loudness`, and very high `acousticness` and `instrumentalness`. This suggests a collection of calm, acoustic, or classical tracks suitable for a \"Focus\" or \"Chill\" playlist.\n",
    "*   **Cluster 0 (High Danceability & Valence):** This cluster scores high on `danceability` and `valence` (positivity), making it ideal for a feel-good, party playlist.\n",
    "\n",
    "By examining these profiles, we can thematically label each cluster and use them as ready-made playlists."
   ]
  },
  {
   "cell_type": "markdown",
   "metadata": {},
   "source": [
    "## 7. Conclusion and Next Steps\n",
    "\n",
    "### Conclusion\n",
    "This project successfully demonstrated the use of K-Means clustering to segment a diverse dataset of Spotify songs into 50 distinct musical profiles. By cleaning the data, applying appropriate preprocessing, and analyzing cluster characteristics through visualizations like radar charts, we have created a prototype for an automated playlist generation system. The resulting clusters are well-defined by their audio features, allowing for thematic interpretation and direct use as curated playlists.\n",
    "\n",
    "### Possible Next Steps\n",
    "*   **Playlist Generation Function:** Build a Python function that takes a cluster ID as input and returns a list of song names and artists, or even creates a playlist directly using the Spotify API.\n",
    "*   **Qualitative Feature Integration:** Incorporate genre information or other qualitative tags to further enrich the playlist themes.\n",
    "*   **Alternative Clustering Models:** Experiment with other algorithms like DBSCAN or Hierarchical Clustering to see if they produce more meaningful clusters.\n",
    "*   **Interactive Dashboard:** Build a simple dashboard (e.g., with Streamlit or Dash) to allow users to explore the different cluster profiles and view the songs within them."
   ]
  },
  {
   "cell_type": "markdown",
   "metadata": {},
   "source": [
    "## 8. Appendix\n",
    "### Feaute Importance\n"
   ]
  },
  {
   "cell_type": "code",
   "execution_count": 13,
   "metadata": {},
   "outputs": [
    {
     "name": "stdout",
     "output_type": "stream",
     "text": [
      "instrumentalness    0.377674\n",
      "acousticness        0.374193\n",
      "key                 0.293791\n",
      "energy              0.289848\n",
      "valence             0.260027\n",
      "danceability        0.189218\n",
      "liveness            0.166376\n",
      "loudness            0.095427\n",
      "time_signature      0.094537\n",
      "tempo               0.077535\n",
      "speechiness         0.034832\n",
      "duration_ms         0.022741\n",
      "dtype: float64\n"
     ]
    }
   ],
   "source": [
    "\n",
    "# Calculate the mean value of each feature for each cluster using the main dataframe\n",
    "cluster_means = numeric_data_df.groupby('cluster').mean()\n",
    "\n",
    "# Compute the standard deviation of each feature across clusters\n",
    "# This shows which features vary the most and are therefore most \"important\" for clustering\n",
    "feature_importance = cluster_means.std().sort_values(ascending=False)\n",
    "\n",
    "# Display the most important features\n",
    "print(feature_importance)"
   ]
  },
  {
   "cell_type": "code",
   "execution_count": 14,
   "metadata": {},
   "outputs": [
    {
     "name": "stdout",
     "output_type": "stream",
     "text": [
      "instrumentalness    0.377674\n",
      "acousticness        0.374193\n",
      "key                 0.293791\n",
      "energy              0.289848\n",
      "valence             0.260027\n",
      "danceability        0.189218\n",
      "liveness            0.166376\n",
      "loudness            0.095427\n",
      "time_signature      0.094537\n",
      "tempo               0.077535\n",
      "speechiness         0.034832\n",
      "duration_ms         0.022741\n",
      "dtype: float64\n"
     ]
    }
   ],
   "source": [
    "# Compute the standard deviation of each feature across clusters\n",
    "feature_importance = cluster_means.std().sort_values(ascending=False)\n",
    "print(feature_importance)\n"
   ]
  },
  {
   "cell_type": "code",
   "execution_count": 15,
   "metadata": {},
   "outputs": [
    {
     "data": {
      "image/png": "[encoded data removed]",
      "text/plain": [
       "<Figure size 1000x600 with 1 Axes>"
      ]
     },
     "metadata": {},
     "output_type": "display_data"
    }
   ],
   "source": [
    "# Plot feature importance (standard deviation across clusters)\n",
    "plt.figure(figsize=(10, 6))\n",
    "feature_importance.plot(kind='bar', color='skyblue')\n",
    "plt.title('Feature Importance in K-Means Clustering')\n",
    "plt.xlabel('Feature')\n",
    "plt.ylabel('Standard Deviation Across Clusters')\n",
    "plt.xticks(rotation=45)\n",
    "plt.show()\n"
   ]
  },
  {
   "cell_type": "code",
   "execution_count": 16,
   "metadata": {},
   "outputs": [
    {
     "data": {
      "image/png": "[encoded data removed]",
      "text/plain": [
       "<Figure size 1000x600 with 1 Axes>"
      ]
     },
     "metadata": {},
     "output_type": "display_data"
    }
   ],
   "source": [
    "# Get the feature means for Cluster 3\n",
    "cluster_3_profile = cluster_means.loc[3]\n",
    "\n",
    "\n",
    "# cluster_3_profile.drop('cluster', inplace=True)\n",
    "\n",
    "\n",
    "\n",
    "# Sort features to see which ones stand out most\n",
    "cluster_3_profile_sorted = cluster_3_profile.sort_values(ascending=False)\n",
    "\n",
    "\n",
    "# Plot the feature profile for Cluster 3\n",
    "plt.figure(figsize=(10, 6))\n",
    "cluster_3_profile_sorted.plot(kind='bar', color='coral')\n",
    "plt.title('Feature Profile of Cluster 3')\n",
    "plt.xlabel('Feature')\n",
    "plt.ylabel('Mean Value in Cluster')\n",
    "plt.xticks(rotation=45)\n",
    "plt.show()\n"
   ]
  }
 ],
 "metadata": {
  "kernelspec": {
   "display_name": ".spotify_env",
   "language": "python",
   "name": "python3"
  },
  "language_info": {
   "codemirror_mode": {
    "name": "ipython",
    "version": 3
   },
   "file_extension": ".py",
   "mimetype": "text/x-python",
   "name": "python",
   "nbconvert_exporter": "python",
   "pygments_lexer": "ipython3",
   "version": "3.10.11"
  }
 },
 "nbformat": 4,
 "nbformat_minor": 2
}
