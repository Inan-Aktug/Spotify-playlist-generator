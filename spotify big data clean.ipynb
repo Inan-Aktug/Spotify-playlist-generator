{
 "cells": [
  {
   "cell_type": "markdown",
   "metadata": {},
   "source": [
    "# Spotify Song Clustering and Playlist Automation\n",
    "### The goal of this project is to use unsupervised machine learning (K-Means) to segment over 5,000 Spotify songs based on their audio features. By identifying distinct clusters, we can understand the different musical profiles within the dataset."
   ]
  },
  {
   "cell_type": "code",
   "execution_count": 5,
   "metadata": {},
   "outputs": [],
   "source": [
    "import pandas as pd\n",
    "\n",
    "from sklearn.preprocessing import MinMaxScaler\n",
    "from sklearn.cluster import KMeans\n",
    "from sklearn.metrics import silhouette_score\n",
    "\n",
    "import seaborn as sns\n",
    "import plotly.graph_objects as go\n",
    "import matplotlib.pyplot as plt\n"
   ]
  },
  {
   "cell_type": "code",
   "execution_count": 6,
   "metadata": {},
   "outputs": [
    {
     "name": "stdout",
     "output_type": "stream",
     "text": [
      "Index(['Unnamed: 0',\n",
      "       'name                                                                                                                                                                             ',\n",
      "       'artist                                          ', 'danceability ',\n",
      "       'energy   ', 'key ', 'loudness ', 'mode ', 'speechiness ',\n",
      "       'acousticness ', 'instrumentalness ', 'liveness ', 'valence ',\n",
      "       'tempo   ', 'type ', 'duration_ms ', 'time_signature ',\n",
      "       'id                     ', 'html'],\n",
      "      dtype='object')\n"
     ]
    }
   ],
   "source": [
    "spotify_df = pd.read_csv(r\"E:\\wbs_data_science_bootcamp\\week_07\\3_spotify_5000_songs.csv\")\n",
    "print(spotify_df.columns)"
   ]
  },
  {
   "cell_type": "code",
   "execution_count": 7,
   "metadata": {},
   "outputs": [
    {
     "data": {
      "text/plain": [
       "Index(['Unnamed: 0', 'name', 'artist', 'danceability', 'energy', 'key',\n",
       "       'loudness', 'mode', 'speechiness', 'acousticness', 'instrumentalness',\n",
       "       'liveness', 'valence', 'tempo', 'type', 'duration_ms', 'time_signature',\n",
       "       'id', 'html'],\n",
       "      dtype='object')"
      ]
     },
     "execution_count": 7,
     "metadata": {},
     "output_type": "execute_result"
    }
   ],
   "source": [
    "# clean column names since they contain a space at the end\n",
    "songs_df_clean = spotify_df.copy()\n",
    "songs_df_clean.columns = songs_df_clean.columns.str.strip()\n",
    "\n",
    "songs_df_clean.columns\n",
    "\n"
   ]
  },
  {
   "cell_type": "code",
   "execution_count": 8,
   "metadata": {},
   "outputs": [
    {
     "name": "stdout",
     "output_type": "stream",
     "text": [
      "key\n",
      "1     597\n",
      "0     572\n",
      "7     542\n",
      "9     503\n",
      "2     502\n",
      "5     422\n",
      "11    404\n",
      "6     396\n",
      "8     376\n",
      "10    361\n",
      "4     357\n",
      "3     203\n",
      "Name: count, dtype: int64\n"
     ]
    }
   ],
   "source": [
    "# check the values inside each column and clean the table \n",
    "# songs_df_clean.describe()\n",
    "\n",
    "# name -> song name\n",
    "# artist -> artist name\n",
    "# danceability -> 0-1 how suitable a track is for dancing based on a combination of musical elements including tempo, rhythm stability, beat strength, and overall regularity\n",
    "\n",
    "\n",
    "\n",
    "# drop columns that are not needed\n",
    "# songs_df_clean = songs_df_clean.drop(columns=[\"Unnamed: 0\", \"mode\", \"type\", \"duration_ms\"])\n",
    "print(songs_df_clean[\"key\"].value_counts())\n",
    "# print(songs_df_clean[\"type\"].unique())\n"
   ]
  },
  {
   "cell_type": "code",
   "execution_count": 9,
   "metadata": {},
   "outputs": [
    {
     "data": {
      "image/png": "[encoded data removed]",
      "text/plain": [
       "<Figure size 600x400 with 2 Axes>"
      ]
     },
     "metadata": {},
     "output_type": "display_data"
    }
   ],
   "source": [
    "# make correlation between time signature and tempo columns\n",
    "# Ensure your columns have numeric data types for correlation calculation\n",
    "# Calculate correlation matrix for 'time signature' and 'tempo'\n",
    "correlation_matrix = songs_df_clean[['time_signature', 'tempo']].corr()\n",
    "\n",
    "# Plot the correlation matrix as a heatmap\n",
    "plt.figure(figsize=(6, 4))\n",
    "sns.heatmap(correlation_matrix, annot=True, cmap='coolwarm', fmt=\".2f\", linewidths=0.5)\n",
    "plt.title(\"Correlation Matrix: Time Signature & Tempo\")\n",
    "plt.show()\n",
    "# -> no correlation -> keep both columns"
   ]
  },
  {
   "cell_type": "code",
   "execution_count": 10,
   "metadata": {},
   "outputs": [],
   "source": [
    "'''\n",
    "dropping columns here:s\n",
    "'''\n",
    "\n",
    "# drop columns that are not needed\n",
    "songs_df_clean_dropped_cols = songs_df_clean.drop(columns=[\"Unnamed: 0\", \"mode\", \"type\", \"type\"])\n",
    "\n"
   ]
  },
  {
   "cell_type": "code",
   "execution_count": 11,
   "metadata": {},
   "outputs": [
    {
     "data": {
      "text/plain": [
       "Index(['name', 'artist', 'danceability', 'energy', 'key', 'loudness',\n",
       "       'speechiness', 'acousticness', 'instrumentalness', 'liveness',\n",
       "       'valence', 'tempo', 'duration_ms', 'time_signature', 'id', 'html'],\n",
       "      dtype='object')"
      ]
     },
     "execution_count": 11,
     "metadata": {},
     "output_type": "execute_result"
    }
   ],
   "source": [
    "# rest of the columns:\n",
    "'''\n",
    "['name', 'artist', 'danceability', 'energy', 'key', 'loudness',\n",
    "       'speechiness', 'acousticness', 'instrumentalness', 'liveness',\n",
    "       'valence', 'tempo', duration_ms, 'time_signature', 'id', 'html']\n",
    "'''\n",
    "\n",
    "songs_df_clean_dropped_cols.columns"
   ]
  },
  {
   "cell_type": "code",
   "execution_count": 12,
   "metadata": {},
   "outputs": [
    {
     "name": "stdout",
     "output_type": "stream",
     "text": [
      "                                                name  \\\n",
      "0  Se Eu Quiser Falar Com Deus                   ...   \n",
      "1  Saudade De Bahia                              ...   \n",
      "2  Canta Canta, Minha Gente                      ...   \n",
      "3  Mulher Eu Sei                                 ...   \n",
      "4  Rosa Morena                                   ...   \n",
      "\n",
      "                                             artist                       id  \\\n",
      "0  Gilberto Gil                                      1n7JnwviZ7zf0LR1tcGFq7    \n",
      "1  Antônio Carlos Jobim                              5QGM1U0eCYrQuwSJwTm5Zq    \n",
      "2  Martinho Da Vila                                  0NLIFSZxPzQhCwnkn5PJYs    \n",
      "3  Chico César                                       3mXqOdlLE1k67WsAxryPFs    \n",
      "4  Kurt Elling                                       7bSzjzjTkWT2CkIPPdp0eA    \n",
      "\n",
      "                                                html  danceability  energy  \\\n",
      "0  https://open.spotify.com/track/1n7JnwviZ7zf0LR...      0.680455  0.2590   \n",
      "1  https://open.spotify.com/track/5QGM1U0eCYrQuwS...      0.767322  0.3990   \n",
      "2  https://open.spotify.com/track/0NLIFSZxPzQhCwn...      0.880041  0.7300   \n",
      "3  https://open.spotify.com/track/3mXqOdlLE1k67Ws...      0.729059  0.0502   \n",
      "4  https://open.spotify.com/track/7bSzjzjTkWT2CkI...      0.673216  0.1190   \n",
      "\n",
      "        key  loudness  speechiness  acousticness  instrumentalness  liveness  \\\n",
      "0  1.000000  0.763897     0.076797      0.696787          0.000060  0.987842   \n",
      "1  0.181818  0.771967     0.037691      0.217871          0.000002  0.108409   \n",
      "2  0.181818  0.798018     0.377996      0.454819          0.000064  0.125633   \n",
      "3  0.363636  0.682811     0.051307      0.882530          0.000041  0.391084   \n",
      "4  0.545455  0.655228     0.041394      0.919679          0.000348  0.105370   \n",
      "\n",
      "    valence     tempo  duration_ms  time_signature  \n",
      "0  0.310660  0.515800     0.059067             0.8  \n",
      "1  0.703553  0.584322     0.042058             0.8  \n",
      "2  0.918782  0.437862     0.031590             0.8  \n",
      "3  0.531980  0.499098     0.040567             0.8  \n",
      "4  0.408122  0.565171     0.063684             0.8  \n",
      "Index(['name', 'artist', 'id', 'html', 'danceability', 'energy', 'key',\n",
      "       'loudness', 'speechiness', 'acousticness', 'instrumentalness',\n",
      "       'liveness', 'valence', 'tempo', 'duration_ms', 'time_signature'],\n",
      "      dtype='object')\n"
     ]
    }
   ],
   "source": [
    "########### NORMALIZE HERE ############\n",
    "# Create a copy of the dataframe\n",
    "songs_df_clean_dropped_cols_minmax = songs_df_clean_dropped_cols.copy()\n",
    "\n",
    "# Separate numeric and non-numeric columns\n",
    "numeric_cols = songs_df_clean_dropped_cols_minmax.select_dtypes(include=['number']).columns\n",
    "non_numeric_cols = songs_df_clean_dropped_cols_minmax.select_dtypes(exclude=['number']).columns\n",
    "\n",
    "# Extract the numeric and non-numeric data\n",
    "numeric_data = songs_df_clean_dropped_cols_minmax[numeric_cols]\n",
    "non_numeric_data = songs_df_clean_dropped_cols_minmax[non_numeric_cols]\n",
    "\n",
    "# Initialize the MinMaxScaler\n",
    "my_min_max = MinMaxScaler().set_output(transform=\"pandas\")\n",
    "\n",
    "# Normalize only the numeric columns\n",
    "scaled_features_df = my_min_max.fit_transform(numeric_data)\n",
    "\n",
    "# Recombine the normalized numeric data with the non-numeric data\n",
    "minmax_dropped_cols_df = non_numeric_data.join(scaled_features_df)\n",
    "\n",
    "# Display the final DataFrame\n",
    "print(minmax_dropped_cols_df.head())\n",
    "print(minmax_dropped_cols_df.columns)"
   ]
  },
  {
   "cell_type": "code",
   "execution_count": 13,
   "metadata": {},
   "outputs": [
    {
     "data": {
      "image/png": "[encoded data removed]",
      "text/plain": [
       "<Figure size 640x480 with 1 Axes>"
      ]
     },
     "metadata": {},
     "output_type": "display_data"
    }
   ],
   "source": [
    "# rest of the columns:\n",
    "'''\n",
    "['name', 'artist', 'id', 'html', 'danceability', 'energy', 'key',\n",
    "       'loudness', 'speechiness', 'acousticness', 'instrumentalness',\n",
    "       'liveness', 'valence', 'tempo', 'time_signature', duration_ms]\n",
    "'''\n",
    "# good features (I think?)\n",
    "# feature_1 = \"danceability\"\n",
    "# feature_2 = \"tempo\"\n",
    "\n",
    "feature_1 = \"danceability\"\n",
    "feature_2 = \"tempo\"\n",
    "\n",
    "two_song_features = minmax_dropped_cols_df.loc[: , [feature_1, feature_2]].copy()\n",
    "two_song_features\n",
    "\n",
    "# 2. initialise the model\n",
    "random_seed = 123\n",
    "\n",
    "my_2d_kmeans = KMeans(n_clusters = 50, # we'll explore how to choose the number of clusters in a later notebook\n",
    "                      random_state = random_seed\n",
    "                    )\n",
    "\n",
    "# 3. fit the model to the data\n",
    "my_2d_kmeans.fit(two_song_features)\n",
    "\n",
    "\n",
    "\n",
    "\n",
    "# Plot the data points\n",
    "plt.scatter(x = two_song_features.iloc[:, 0],\n",
    "            y = two_song_features.iloc[:, 1],\n",
    "            c = my_2d_kmeans.labels_,\n",
    "            cmap = 'viridis')\n",
    "\n",
    "# # Annotate the data points\n",
    "# for idx, row in two_song_features.iterrows():\n",
    "#     plt.annotate(idx, (row[feature_1], row[feature_2]), xytext=(5, 0), textcoords='offset points')\n",
    "\n",
    "# Add labels and title\n",
    "plt.title('KMeans Clustering')\n",
    "plt.xlabel(two_song_features.columns[0])\n",
    "plt.ylabel(two_song_features.columns[1])\n",
    "\n",
    "# Display the plot\n",
    "plt.show()"
   ]
  },
  {
   "cell_type": "code",
   "execution_count": 14,
   "metadata": {},
   "outputs": [],
   "source": [
    "### USE ELBOW METHOD\n",
    "\n",
    "# Separate numeric and non-numeric columns\n",
    "numeric_cols = minmax_dropped_cols_df.select_dtypes(include=['number']).columns\n",
    "non_numeric_cols = minmax_dropped_cols_df.select_dtypes(exclude=['number']).columns\n",
    "\n",
    "# Extract the numeric and non-numeric data\n",
    "numeric_data = minmax_dropped_cols_df[numeric_cols]\n",
    "non_numeric_data = minmax_dropped_cols_df[non_numeric_cols]\n",
    "\n",
    "\n",
    "# Decide on a random_state to use\n",
    "seed = 123\n",
    "\n",
    "# Set the maximum number of clusters to try\n",
    "max_k = 100\n",
    "\n",
    "# Create an empty list to store the inertia scores\n",
    "inertia_list = []\n",
    "\n",
    "# Iterate over the range of cluster numbers\n",
    "for i in range(1, max_k + 1):\n",
    "\n",
    "    # Create a KMeans object with the specified number of clusters\n",
    "    myKMeans = KMeans(n_clusters = i,\n",
    "                      n_init = \"auto\",\n",
    "                      random_state = seed\n",
    "                      )\n",
    "\n",
    "    # Fit the KMeans model to the scaled data\n",
    "    myKMeans.fit(numeric_data)\n",
    "\n",
    "    # Append the inertia score to the list\n",
    "    inertia_list.append(myKMeans.inertia_)"
   ]
  },
  {
   "cell_type": "code",
   "execution_count": 15,
   "metadata": {},
   "outputs": [
    {
     "data": {
      "text/plain": [
       "[3422.540406984435,\n",
       " 2495.1919495231145,\n",
       " 1844.2969825835667,\n",
       " 1568.6693648236537,\n",
       " 1485.6394029401808,\n",
       " 1269.981429597023,\n",
       " 1141.9580814902106,\n",
       " 1075.1251384533805,\n",
       " 1049.1707334892603,\n",
       " 999.4535719346217,\n",
       " 954.5914622012043,\n",
       " 935.7245533895621,\n",
       " 899.0713973027711,\n",
       " 877.2713445156265,\n",
       " 848.6457865582116,\n",
       " 823.9976566582968,\n",
       " 820.4251195443799,\n",
       " 800.7891425039863,\n",
       " 790.6498560159889,\n",
       " 780.929950654535,\n",
       " 745.0809816127722,\n",
       " 732.9829382501465,\n",
       " 724.1450315840365,\n",
       " 714.2106157772254,\n",
       " 705.3382345703528,\n",
       " 699.3570180077501,\n",
       " 689.4462065225829,\n",
       " 684.3729457889726,\n",
       " 676.6824385107674,\n",
       " 669.6382074205818,\n",
       " 665.7580739177845,\n",
       " 658.8359277793874,\n",
       " 654.5321012093307,\n",
       " 651.214706782625,\n",
       " 644.1644501259368,\n",
       " 636.3876015410059,\n",
       " 628.9385826064826,\n",
       " 625.288318899591,\n",
       " 625.7802973316248,\n",
       " 620.7622041513322,\n",
       " 616.8325147372321,\n",
       " 613.9654639615037,\n",
       " 603.9350625439421,\n",
       " 599.69268007244,\n",
       " 597.5867431400652,\n",
       " 594.4462384769197,\n",
       " 593.3921521813763,\n",
       " 586.8386517144046,\n",
       " 583.3552789442506,\n",
       " 578.5284382921711,\n",
       " 574.2623112054118,\n",
       " 568.1380378033086,\n",
       " 564.8119581678033,\n",
       " 561.8094672148873,\n",
       " 560.5848655008538,\n",
       " 556.3158565105031,\n",
       " 555.4855458558509,\n",
       " 551.4533738863934,\n",
       " 548.920980190482,\n",
       " 543.6394552213329,\n",
       " 540.3272743804853,\n",
       " 538.0153966540648,\n",
       " 534.7380398991854,\n",
       " 530.6128918844055,\n",
       " 523.9555997693917,\n",
       " 521.6760577951491,\n",
       " 517.7104865623542,\n",
       " 515.3559051452607,\n",
       " 513.4020442158126,\n",
       " 512.305031624881,\n",
       " 509.06490525159757,\n",
       " 506.30567414624426,\n",
       " 504.76557293896235,\n",
       " 501.9997292790926,\n",
       " 499.45955555812907,\n",
       " 498.5572447610258,\n",
       " 495.944766112283,\n",
       " 492.9916429415588,\n",
       " 490.32158606871656,\n",
       " 487.8858277836408,\n",
       " 488.52455911577823,\n",
       " 486.6884403592327,\n",
       " 484.5041668544525,\n",
       " 482.8868238964553,\n",
       " 481.16545624467125,\n",
       " 480.49456992088716,\n",
       " 478.68642870523036,\n",
       " 476.9160584729435,\n",
       " 476.2396065376199,\n",
       " 473.88870854173,\n",
       " 472.0514137059881,\n",
       " 471.42809262397884,\n",
       " 467.2538180046359,\n",
       " 467.0157408995891,\n",
       " 464.3842245616088,\n",
       " 464.46894933426915,\n",
       " 463.08433474393814,\n",
       " 460.74219128800314,\n",
       " 458.43962226937964,\n",
       " 456.6777198942096]"
      ]
     },
     "execution_count": 15,
     "metadata": {},
     "output_type": "execute_result"
    }
   ],
   "source": [
    "inertia_list"
   ]
  },
  {
   "cell_type": "code",
   "execution_count": 16,
   "metadata": {},
   "outputs": [
    {
     "data": {
      "image/png": "[encoded data removed]",
      "text/plain": [
       "<Figure size 1600x800 with 1 Axes>"
      ]
     },
     "metadata": {},
     "output_type": "display_data"
    }
   ],
   "source": [
    "sns.set_theme(style='darkgrid')\n",
    "\n",
    "(\n",
    "# Create a line plot of the inertia scores\n",
    "sns.relplot(y = inertia_list,\n",
    "            x = range(1, max_k + 1),\n",
    "            kind = 'line',\n",
    "            marker = 'o',\n",
    "            height = 8,\n",
    "            aspect = 2)\n",
    "# Set the title of the plot\n",
    ".set(title=f\"Inertia score from 1 to {max_k} clusters\")\n",
    "# Set the axis labels\n",
    ".set_axis_labels(\"Number of clusters\", \"Inertia score\")\n",
    ");"
   ]
  },
  {
   "cell_type": "code",
   "execution_count": 22,
   "metadata": {},
   "outputs": [],
   "source": [
    "#### SILHOUETTE SCORE\n",
    "# Set the maximum number of clusters to try\n",
    "max_k = 100\n",
    "\n",
    "# Create an empty list to store the silhouette scores\n",
    "sil_scores = []\n",
    "\n",
    "\n",
    "for j in range(2, max_k+1):\n",
    "\n",
    "    # Create a KMeans object with the specified number of clusters\n",
    "    kmeans = KMeans(n_clusters = j,\n",
    "                    n_init = \"auto\",\n",
    "                    random_state = seed)\n",
    "\n",
    "    # Fit the KMeans model to the scaled data\n",
    "    kmeans.fit(numeric_data)\n",
    "\n",
    "    # Get the cluster labels\n",
    "    labels = kmeans.labels_\n",
    "\n",
    "    # Calculate the silhouette score\n",
    "    score = silhouette_score(numeric_data, labels)\n",
    "\n",
    "    # Append the silhouette score to the list\n",
    "    sil_scores.append(score)"
   ]
  },
  {
   "cell_type": "code",
   "execution_count": 23,
   "metadata": {},
   "outputs": [
    {
     "data": {
      "text/plain": [
       "[0.31341493474841514,\n",
       " 0.3016726407804485,\n",
       " 0.25698284553122497,\n",
       " 0.23215018688415348,\n",
       " 0.2487082248375698,\n",
       " 0.2485595641631724,\n",
       " 0.22942725437543285,\n",
       " 0.21254428980542098,\n",
       " 0.20858193427296226,\n",
       " 0.19371885192474445,\n",
       " 0.19550821022046266,\n",
       " 0.1968602421382018,\n",
       " 0.19802072707868415,\n",
       " 0.19444715767818094,\n",
       " 0.1983926130461586,\n",
       " 0.17620983832601056,\n",
       " 0.18972290095201003,\n",
       " 0.18255068255658138,\n",
       " 0.1705214218282782,\n",
       " 0.168746558903388,\n",
       " 0.16677503587052572,\n",
       " 0.16678246789979873,\n",
       " 0.16242648407220955,\n",
       " 0.16134244597521874,\n",
       " 0.1583019503247547,\n",
       " 0.15919684300935427,\n",
       " 0.15326847728674964,\n",
       " 0.154607663000492,\n",
       " 0.15301303965486004,\n",
       " 0.15222014812702284,\n",
       " 0.14890179844799134,\n",
       " 0.14225219025097918,\n",
       " 0.14291531239666636,\n",
       " 0.14465497447976822,\n",
       " 0.13233109053220832,\n",
       " 0.1334254365664713,\n",
       " 0.13165670996481169,\n",
       " 0.1292605962888626,\n",
       " 0.1287675900388164,\n",
       " 0.12735194731013225,\n",
       " 0.12842008456307263,\n",
       " 0.1292983675934758,\n",
       " 0.1253250280382809,\n",
       " 0.12439490756631733,\n",
       " 0.12456170171428117,\n",
       " 0.12242205355475863,\n",
       " 0.12152686626054957,\n",
       " 0.12242111241217418,\n",
       " 0.12283073230706072,\n",
       " 0.12468334109801703,\n",
       " 0.12452005719227137,\n",
       " 0.12526646670261377,\n",
       " 0.12473038296711038,\n",
       " 0.11975474805379471,\n",
       " 0.12164369532593819,\n",
       " 0.12242047024684657,\n",
       " 0.12300895044815933,\n",
       " 0.12151452807207615,\n",
       " 0.12327296855496199,\n",
       " 0.12424041033154531,\n",
       " 0.12259712470469862,\n",
       " 0.12295618710076883,\n",
       " 0.12303117655951773,\n",
       " 0.12434858029685147,\n",
       " 0.12533425818989677,\n",
       " 0.1252469049940679,\n",
       " 0.12603766800980523,\n",
       " 0.12506374111033502,\n",
       " 0.1238525618464569,\n",
       " 0.1241949408027634,\n",
       " 0.12409278594697597,\n",
       " 0.12313878807712739,\n",
       " 0.1243093966347634,\n",
       " 0.12475674079703869,\n",
       " 0.12304335737379327,\n",
       " 0.12398458885728814,\n",
       " 0.1259717340844909,\n",
       " 0.12502542689972734,\n",
       " 0.12526514686277213,\n",
       " 0.12378081981828946,\n",
       " 0.12293966212342568,\n",
       " 0.12329974479931861,\n",
       " 0.12245031070558614,\n",
       " 0.12226826849318126,\n",
       " 0.12189682268792966,\n",
       " 0.12009909115855526,\n",
       " 0.12076248280204588,\n",
       " 0.1193380795150397,\n",
       " 0.12079921815610607,\n",
       " 0.12117178272652919,\n",
       " 0.12012348500387969,\n",
       " 0.12147963655614977,\n",
       " 0.11895763589044032,\n",
       " 0.11891083787868863,\n",
       " 0.11708132988627938,\n",
       " 0.11784167774730098,\n",
       " 0.11815134179532873,\n",
       " 0.11947794238244956,\n",
       " 0.11846834264359765]"
      ]
     },
     "execution_count": 23,
     "metadata": {},
     "output_type": "execute_result"
    }
   ],
   "source": [
    "sil_scores"
   ]
  },
  {
   "cell_type": "code",
   "execution_count": 24,
   "metadata": {},
   "outputs": [
    {
     "data": {
      "image/png": "[encoded data removed]",
      "text/plain": [
       "<Figure size 1600x800 with 1 Axes>"
      ]
     },
     "metadata": {},
     "output_type": "display_data"
    }
   ],
   "source": [
    "(\n",
    "sns.relplot(y = sil_scores,\n",
    "            x = range(2, max_k+1),\n",
    "            kind = 'line',\n",
    "            marker = 'o',\n",
    "            height = 8,\n",
    "            aspect = 2)\n",
    ".set(title=f\"Silhouette score from 2 to {max_k - 1} clusters\")\n",
    ".set_axis_labels(\"Number of clusters\", \"Silhouette score\")\n",
    ");"
   ]
  },
  {
   "cell_type": "code",
   "execution_count": 25,
   "metadata": {},
   "outputs": [
    {
     "data": {
      "image/png": "[encoded data removed]",
      "text/plain": [
       "<Figure size 640x480 with 1 Axes>"
      ]
     },
     "metadata": {},
     "output_type": "display_data"
    }
   ],
   "source": [
    "# rest of the columns:\n",
    "'''\n",
    "['name', 'artist', 'id', 'html', 'danceability', 'energy', 'key',\n",
    "       'loudness', 'speechiness', 'acousticness', 'instrumentalness',\n",
    "       'liveness', 'valence', 'tempo', 'time_signature']\n",
    "'''\n",
    "# good features (I think?)\n",
    "# feature_1 = \"danceability\"\n",
    "# feature_2 = \"tempo\"\n",
    "\n",
    "\n",
    "numeric_data_df = numeric_data.copy()\n",
    "\n",
    "\n",
    "feature_1 = \"danceability\"\n",
    "feature_2 = \"tempo\"\n",
    "n_clusters = 50\n",
    "random_seed = 1337\n",
    "\n",
    "\n",
    "two_song_features = numeric_data_df.loc[: , [feature_1, feature_2]].copy()\n",
    "two_song_features\n",
    "\n",
    "# 2. initialise the model\n",
    "\n",
    "\n",
    "my_2d_kmeans = KMeans(n_clusters = n_clusters, # we'll explore how to choose the number of clusters in a later notebook\n",
    "                      random_state = random_seed\n",
    "                    )\n",
    "\n",
    "# 3. fit the model to the data\n",
    "my_2d_kmeans.fit(two_song_features)\n",
    "\n",
    "\n",
    "\n",
    "\n",
    "# Plot the data points\n",
    "plt.scatter(x = two_song_features.iloc[:, 0],\n",
    "            y = two_song_features.iloc[:, 1],\n",
    "            c = my_2d_kmeans.labels_,\n",
    "            cmap = 'viridis')\n",
    "\n",
    "# # Annotate the data points\n",
    "# for idx, row in two_song_features.iterrows():\n",
    "#     plt.annotate(idx, (row[feature_1], row[feature_2]), xytext=(5, 0), textcoords='offset points')\n",
    "\n",
    "# Add labels and title\n",
    "plt.title('KMeans Clustering')\n",
    "plt.xlabel(two_song_features.columns[0])\n",
    "plt.ylabel(two_song_features.columns[1])\n",
    "\n",
    "# Display the plot\n",
    "plt.show()"
   ]
  },
  {
   "cell_type": "code",
   "execution_count": 26,
   "metadata": {},
   "outputs": [
    {
     "name": "stdout",
     "output_type": "stream",
     "text": [
      "cluster\n",
      "1     206\n",
      "37    190\n",
      "22    182\n",
      "9     170\n",
      "34    169\n",
      "18    168\n",
      "16    142\n",
      "27    142\n",
      "32    140\n",
      "24    137\n",
      "14    132\n",
      "28    131\n",
      "10    129\n",
      "36    124\n",
      "3     123\n",
      "19    121\n",
      "11    121\n",
      "38    120\n",
      "21    119\n",
      "43    118\n",
      "42    117\n",
      "4     114\n",
      "0     114\n",
      "26    113\n",
      "12    111\n",
      "17    104\n",
      "31    101\n",
      "15    100\n",
      "35     96\n",
      "33     95\n",
      "30     91\n",
      "39     90\n",
      "7      84\n",
      "46     84\n",
      "41     83\n",
      "13     74\n",
      "40     73\n",
      "6      70\n",
      "5      69\n",
      "45     67\n",
      "23     64\n",
      "8      60\n",
      "49     58\n",
      "48     54\n",
      "29     53\n",
      "47     53\n",
      "2      52\n",
      "20     47\n",
      "44     34\n",
      "25     26\n",
      "Name: count, dtype: int64\n",
      "      danceability   energy       key  loudness  speechiness  acousticness  \\\n",
      "0         0.680455  0.25900  1.000000  0.763897     0.076797      0.696787   \n",
      "1         0.767322  0.39900  0.181818  0.771967     0.037691      0.217871   \n",
      "2         0.880041  0.73000  0.181818  0.798018     0.377996      0.454819   \n",
      "3         0.729059  0.05020  0.363636  0.682811     0.051307      0.882530   \n",
      "4         0.673216  0.11900  0.545455  0.655228     0.041394      0.919679   \n",
      "...            ...      ...       ...       ...          ...           ...   \n",
      "5230      0.208893  0.06940  0.272727  0.596818     0.051525      0.920683   \n",
      "5231      0.194416  0.10100  0.545455  0.621548     0.048148      0.858434   \n",
      "5232      0.061634  0.00093  0.818182  0.277803     0.047277      0.954819   \n",
      "5233      0.137539  0.02080  0.363636  0.498142     0.045643      0.886546   \n",
      "5234      0.366081  0.04870  0.454545  0.577614     0.035185      0.786145   \n",
      "\n",
      "      instrumentalness  liveness   valence     tempo  duration_ms  \\\n",
      "0             0.000060  0.987842  0.310660  0.515800     0.059067   \n",
      "1             0.000002  0.108409  0.703553  0.584322     0.042058   \n",
      "2             0.000064  0.125633  0.918782  0.437862     0.031590   \n",
      "3             0.000041  0.391084  0.531980  0.499098     0.040567   \n",
      "4             0.000348  0.105370  0.408122  0.565171     0.063684   \n",
      "...                ...       ...       ...       ...          ...   \n",
      "5230          0.725888  0.084296  0.066497  0.410795     0.254357   \n",
      "5231          0.432487  0.070314  0.036041  0.388495     0.217350   \n",
      "5232          0.983756  0.078217  0.034924  0.334469     0.054302   \n",
      "5233          0.512690  0.112462  0.060000  0.313608     0.074424   \n",
      "5234          0.491371  0.287741  0.256853  0.299640     0.242141   \n",
      "\n",
      "      time_signature  cluster  \n",
      "0                0.8       25  \n",
      "1                0.8        0  \n",
      "2                0.8       35  \n",
      "3                0.8       19  \n",
      "4                0.8       19  \n",
      "...              ...      ...  \n",
      "5230             0.8       27  \n",
      "5231             0.8        5  \n",
      "5232             0.6       12  \n",
      "5233             0.8       27  \n",
      "5234             0.6       27  \n",
      "\n",
      "[5235 rows x 13 columns]\n"
     ]
    }
   ],
   "source": [
    "# Initialise the model\n",
    "my_kmeans = KMeans(n_clusters = n_clusters, # you always choose the number of k here\n",
    "                   random_state = random_seed)\n",
    "\n",
    "# Fit the model to the data\n",
    "my_kmeans.fit(numeric_data_df)\n",
    "\n",
    "# Obtain the cluster output\n",
    "clusters = my_kmeans.labels_\n",
    "\n",
    "# Attach the cluster output to our original DataFrame\n",
    "numeric_data_df[\"cluster\"] = clusters\n",
    "print(numeric_data_df[\"cluster\"].value_counts())\n",
    "print(numeric_data_df)"
   ]
  },
  {
   "cell_type": "code",
   "execution_count": 27,
   "metadata": {},
   "outputs": [
    {
     "name": "stdout",
     "output_type": "stream",
     "text": [
      "[25  0 35 19 41 44 39 13 48 33 34 20  7 11 36 15  1 46 43 32  5 27 21  8\n",
      " 47 24 22 49 31  6 30  9 12 29 18 26  4 14 10 16 37 45 17 38 40 42 28  2\n",
      " 23  3]\n"
     ]
    }
   ],
   "source": [
    "print(numeric_data_df[\"cluster\"].unique())"
   ]
  },
  {
   "cell_type": "code",
   "execution_count": 28,
   "metadata": {},
   "outputs": [
    {
     "data": {
      "application/vnd.plotly.v1+json": {
       "config": {
        "plotlyServerURL": "https://plot.ly"
       },
       "data": [
        {
         "fill": "toself",
         "name": "Cluster 0",
         "r": [
          0.7483898474210346,
          0.5269385964912281,
          0.1475279106858054,
          0.814036717923726,
          0.06806845545235637,
          0.2252640562248996,
          0.015975790097070088,
          0.11101779270872215,
          0.8247573247840412,
          0.5580063997087911
         ],
         "theta": [
          "danceability",
          "energy",
          "key",
          "loudness",
          "speechiness",
          "acousticness",
          "instrumentalness",
          "liveness",
          "valence",
          "tempo",
          "duration_ms",
          "time_signature",
          "cluster"
         ],
         "type": "scatterpolar"
        },
        {
         "fill": "toself",
         "name": "Cluster 1",
         "r": [
          0.6816849228421402,
          0.7550194174757281,
          0.5366284201235658,
          0.8881463720987506,
          0.08282727330414366,
          0.08663587066713456,
          0.01940669720565768,
          0.16644534285517554,
          0.5233995367404268,
          0.5447483255047306
         ],
         "theta": [
          "danceability",
          "energy",
          "key",
          "loudness",
          "speechiness",
          "acousticness",
          "instrumentalness",
          "liveness",
          "valence",
          "tempo",
          "duration_ms",
          "time_signature",
          "cluster"
         ],
         "type": "scatterpolar"
        },
        {
         "fill": "toself",
         "name": "Cluster 2",
         "r": [
          0.2431349932384059,
          0.1632171153846154,
          0.4510489510489511,
          0.6332657634498134,
          0.047762694821518355,
          0.9221887550200802,
          0.8810816087465834,
          0.1362734782947549,
          0.12903943771964077,
          0.538079870734434
         ],
         "theta": [
          "danceability",
          "energy",
          "key",
          "loudness",
          "speechiness",
          "acousticness",
          "instrumentalness",
          "liveness",
          "valence",
          "tempo",
          "duration_ms",
          "time_signature",
          "cluster"
         ],
         "type": "scatterpolar"
        },
        {
         "fill": "toself",
         "name": "Cluster 3",
         "r": [
          0.2307328843712429,
          0.904430894308943,
          0.16260162601626016,
          0.8346711612595568,
          0.12441681279557895,
          0.003721636627812062,
          0.8642647847798275,
          0.15837925552507806,
          0.14237051710618628,
          0.470062501970877
         ],
         "theta": [
          "danceability",
          "energy",
          "key",
          "loudness",
          "speechiness",
          "acousticness",
          "instrumentalness",
          "liveness",
          "valence",
          "tempo",
          "duration_ms",
          "time_signature",
          "cluster"
         ],
         "type": "scatterpolar"
        },
        {
         "fill": "toself",
         "name": "Cluster 4",
         "r": [
          0.2982546853172227,
          0.9432894736842105,
          0.890749601275917,
          0.8753070933340656,
          0.13696823758743262,
          0.006805104981328825,
          0.06234131080238667,
          0.15590572175118647,
          0.17508326654198947,
          0.5558728764993938
         ],
         "theta": [
          "danceability",
          "energy",
          "key",
          "loudness",
          "speechiness",
          "acousticness",
          "instrumentalness",
          "liveness",
          "valence",
          "tempo",
          "duration_ms",
          "time_signature",
          "cluster"
         ],
         "type": "scatterpolar"
        },
        {
         "fill": "toself",
         "name": "Cluster 5",
         "r": [
          0.271607991247396,
          0.14223927536231884,
          0.689064558629776,
          0.6835177826951674,
          0.04544851757127972,
          0.9287876142250162,
          0.0643059951445597,
          0.1795868023435091,
          0.14790406827043331,
          0.4960185732639545
         ],
         "theta": [
          "danceability",
          "energy",
          "key",
          "loudness",
          "speechiness",
          "acousticness",
          "instrumentalness",
          "liveness",
          "valence",
          "tempo",
          "duration_ms",
          "time_signature",
          "cluster"
         ],
         "type": "scatterpolar"
        },
        {
         "fill": "toself",
         "name": "Cluster 6",
         "r": [
          0.3060732752252918,
          0.8886428571428571,
          0.15974025974025977,
          0.851159774007089,
          0.10630563336445689,
          0.01705662765347103,
          0.46088469905728796,
          0.20029671443045305,
          0.2319477882523567,
          0.569901464020348
         ],
         "theta": [
          "danceability",
          "energy",
          "key",
          "loudness",
          "speechiness",
          "acousticness",
          "instrumentalness",
          "liveness",
          "valence",
          "tempo",
          "duration_ms",
          "time_signature",
          "cluster"
         ],
         "type": "scatterpolar"
        },
        {
         "fill": "toself",
         "name": "Cluster 7",
         "r": [
          0.3736371694489585,
          0.15300476190476187,
          0.12445887445887446,
          0.6947871108275073,
          0.048399730262475356,
          0.9156985083189904,
          0.04066425549915397,
          0.15918970425049453,
          0.19664974619289335,
          0.4744372233682482
         ],
         "theta": [
          "danceability",
          "energy",
          "key",
          "loudness",
          "speechiness",
          "acousticness",
          "instrumentalness",
          "liveness",
          "valence",
          "tempo",
          "duration_ms",
          "time_signature",
          "cluster"
         ],
         "type": "scatterpolar"
        },
        {
         "fill": "toself",
         "name": "Cluster 8",
         "r": [
          0.6905722164770769,
          0.7904833333333333,
          0.75,
          0.879677871605099,
          0.1516085693536674,
          0.1633532128514056,
          0.0005060159052453467,
          0.6665991219182709,
          0.6492724196277495,
          0.5524889013505305
         ],
         "theta": [
          "danceability",
          "energy",
          "key",
          "loudness",
          "speechiness",
          "acousticness",
          "instrumentalness",
          "liveness",
          "valence",
          "tempo",
          "duration_ms",
          "time_signature",
          "cluster"
         ],
         "type": "scatterpolar"
        },
        {
         "fill": "toself",
         "name": "Cluster 9",
         "r": [
          0.2414033700346736,
          0.9171705882352941,
          0.5663101604278076,
          0.8423118600248942,
          0.11848519800076891,
          0.005714946432789984,
          0.8626634816363092,
          0.17252220036950952,
          0.2028217378321887,
          0.5784712864537376
         ],
         "theta": [
          "danceability",
          "energy",
          "key",
          "loudness",
          "speechiness",
          "acousticness",
          "instrumentalness",
          "liveness",
          "valence",
          "tempo",
          "duration_ms",
          "time_signature",
          "cluster"
         ],
         "type": "scatterpolar"
        },
        {
         "fill": "toself",
         "name": "Cluster 10",
         "r": [
          0.5975806257665761,
          0.8228837209302324,
          0.11557434813248767,
          0.8983324904291835,
          0.08150005911063822,
          0.04378782649979764,
          0.020097589265336634,
          0.1737101701970579,
          0.35718726635973713,
          0.5779452854241177
         ],
         "theta": [
          "danceability",
          "energy",
          "key",
          "loudness",
          "speechiness",
          "acousticness",
          "instrumentalness",
          "liveness",
          "valence",
          "tempo",
          "duration_ms",
          "time_signature",
          "cluster"
         ],
         "type": "scatterpolar"
        },
        {
         "fill": "toself",
         "name": "Cluster 11",
         "r": [
          0.42247899698308655,
          0.16570612396694215,
          0.16378662659654394,
          0.6581954418406382,
          0.04960478222510309,
          0.9413106973347938,
          0.8905902588412971,
          0.15305919097021614,
          0.2253244955321559,
          0.5524599318960992
         ],
         "theta": [
          "danceability",
          "energy",
          "key",
          "loudness",
          "speechiness",
          "acousticness",
          "instrumentalness",
          "liveness",
          "valence",
          "tempo",
          "duration_ms",
          "time_signature",
          "cluster"
         ],
         "type": "scatterpolar"
        },
        {
         "fill": "toself",
         "name": "Cluster 12",
         "r": [
          0.23154271127383846,
          0.09581355855855857,
          0.7977067977067976,
          0.5935768183168006,
          0.04681053602622231,
          0.9502514562755529,
          0.9009191933049802,
          0.12332758290205098,
          0.09263364887730371,
          0.3760140766028891
         ],
         "theta": [
          "danceability",
          "energy",
          "key",
          "loudness",
          "speechiness",
          "acousticness",
          "instrumentalness",
          "liveness",
          "valence",
          "tempo",
          "duration_ms",
          "time_signature",
          "cluster"
         ],
         "type": "scatterpolar"
        },
        {
         "fill": "toself",
         "name": "Cluster 13",
         "r": [
          0.5821291819223567,
          0.7150945945945946,
          0.12162162162162164,
          0.8763648556123532,
          0.10286904551610433,
          0.4856317160534028,
          0.021567290574838794,
          0.1367397792929708,
          0.5654273562903004,
          0.6174312894136251
         ],
         "theta": [
          "danceability",
          "energy",
          "key",
          "loudness",
          "speechiness",
          "acousticness",
          "instrumentalness",
          "liveness",
          "valence",
          "tempo",
          "duration_ms",
          "time_signature",
          "cluster"
         ],
         "type": "scatterpolar"
        },
        {
         "fill": "toself",
         "name": "Cluster 14",
         "r": [
          0.5052254708407758,
          0.8609166666666666,
          0.8402203856749311,
          0.8910403470655825,
          0.10259539842873176,
          0.04686139284410369,
          0.0468190945239194,
          0.17693960885450247,
          0.5361636671281341,
          0.6552426338245768
         ],
         "theta": [
          "danceability",
          "energy",
          "key",
          "loudness",
          "speechiness",
          "acousticness",
          "instrumentalness",
          "liveness",
          "valence",
          "tempo",
          "duration_ms",
          "time_signature",
          "cluster"
         ],
         "type": "scatterpolar"
        },
        {
         "fill": "toself",
         "name": "Cluster 15",
         "r": [
          0.6147052740434333,
          0.53277,
          0.8,
          0.8187957679893059,
          0.07050000000000001,
          0.6795281124497992,
          0.016059561319796956,
          0.17501317122593718,
          0.7776649746192894,
          0.5909953268844338
         ],
         "theta": [
          "danceability",
          "energy",
          "key",
          "loudness",
          "speechiness",
          "acousticness",
          "instrumentalness",
          "liveness",
          "valence",
          "tempo",
          "duration_ms",
          "time_signature",
          "cluster"
         ],
         "type": "scatterpolar"
        },
        {
         "fill": "toself",
         "name": "Cluster 16",
         "r": [
          0.7885139170077342,
          0.7074647887323943,
          0.09026888604353395,
          0.8803470131210793,
          0.15061293688054253,
          0.09990584379772613,
          0.0113994890255237,
          0.13875665339555063,
          0.5701294058768857,
          0.5027091235670483
         ],
         "theta": [
          "danceability",
          "energy",
          "key",
          "loudness",
          "speechiness",
          "acousticness",
          "instrumentalness",
          "liveness",
          "valence",
          "tempo",
          "duration_ms",
          "time_signature",
          "cluster"
         ],
         "type": "scatterpolar"
        },
        {
         "fill": "toself",
         "name": "Cluster 17",
         "r": [
          0.2968300055683716,
          0.9154038461538462,
          0.7604895104895105,
          0.856262054107739,
          0.12562112451818336,
          0.0038374943041396357,
          0.46963100351425224,
          0.20679506663549216,
          0.2040784849668098,
          0.5661680362489979
         ],
         "theta": [
          "danceability",
          "energy",
          "key",
          "loudness",
          "speechiness",
          "acousticness",
          "instrumentalness",
          "liveness",
          "valence",
          "tempo",
          "duration_ms",
          "time_signature",
          "cluster"
         ],
         "type": "scatterpolar"
        },
        {
         "fill": "toself",
         "name": "Cluster 18",
         "r": [
          0.6969641010488994,
          0.7099166666666668,
          0.906926406926407,
          0.878488249331228,
          0.08982259570494865,
          0.11437908777969019,
          0.010716224014986706,
          0.18081910068992138,
          0.4208423978728547,
          0.5437213354429112
         ],
         "theta": [
          "danceability",
          "energy",
          "key",
          "loudness",
          "speechiness",
          "acousticness",
          "instrumentalness",
          "liveness",
          "valence",
          "tempo",
          "duration_ms",
          "time_signature",
          "cluster"
         ],
         "type": "scatterpolar"
        },
        {
         "fill": "toself",
         "name": "Cluster 19",
         "r": [
          0.5823326809507124,
          0.29991421735537194,
          0.42975206611570255,
          0.7699594281188977,
          0.05481913610255856,
          0.8025324438248864,
          0.026013570919159287,
          0.1383665335309436,
          0.4948693208037924,
          0.5442166718997837
         ],
         "theta": [
          "danceability",
          "energy",
          "key",
          "loudness",
          "speechiness",
          "acousticness",
          "instrumentalness",
          "liveness",
          "valence",
          "tempo",
          "duration_ms",
          "time_signature",
          "cluster"
         ],
         "type": "scatterpolar"
        },
        {
         "fill": "toself",
         "name": "Cluster 20",
         "r": [
          0.6971770556007834,
          0.7784893617021278,
          0.7214700193423599,
          0.8554185567210552,
          0.0626060353219302,
          0.08941143296590619,
          0.7288260071281994,
          0.21516307745370666,
          0.7473593260611295,
          0.6074258789185814
         ],
         "theta": [
          "danceability",
          "energy",
          "key",
          "loudness",
          "speechiness",
          "acousticness",
          "instrumentalness",
          "liveness",
          "valence",
          "tempo",
          "duration_ms",
          "time_signature",
          "cluster"
         ],
         "type": "scatterpolar"
        },
        {
         "fill": "toself",
         "name": "Cluster 21",
         "r": [
          0.7514099745379021,
          0.49931008403361343,
          0.7937356760886172,
          0.8211835612925358,
          0.09734900496146169,
          0.17853317471566943,
          0.02208089237725547,
          0.13895089950873968,
          0.7420296037196606,
          0.49488890747663145
         ],
         "theta": [
          "danceability",
          "energy",
          "key",
          "loudness",
          "speechiness",
          "acousticness",
          "instrumentalness",
          "liveness",
          "valence",
          "tempo",
          "duration_ms",
          "time_signature",
          "cluster"
         ],
         "type": "scatterpolar"
        },
        {
         "fill": "toself",
         "name": "Cluster 22",
         "r": [
          0.7628725979294748,
          0.8071098901098901,
          0.08241758241758242,
          0.8870576458199947,
          0.0981643084584261,
          0.1407331192903482,
          0.004580454454175266,
          0.16795428482358574,
          0.8522507948903889,
          0.5584789830478881
         ],
         "theta": [
          "danceability",
          "energy",
          "key",
          "loudness",
          "speechiness",
          "acousticness",
          "instrumentalness",
          "liveness",
          "valence",
          "tempo",
          "duration_ms",
          "time_signature",
          "cluster"
         ],
         "type": "scatterpolar"
        },
        {
         "fill": "toself",
         "name": "Cluster 23",
         "r": [
          0.2126421923474664,
          0.9135312500000001,
          0.11789772727272728,
          0.8413039292002218,
          0.11193661492374726,
          0.0002820323481425703,
          0.8572176395939086,
          0.15898714539007092,
          0.23829473350253805,
          0.7519618323286135
         ],
         "theta": [
          "danceability",
          "energy",
          "key",
          "loudness",
          "speechiness",
          "acousticness",
          "instrumentalness",
          "liveness",
          "valence",
          "tempo",
          "duration_ms",
          "time_signature",
          "cluster"
         ],
         "type": "scatterpolar"
        },
        {
         "fill": "toself",
         "name": "Cluster 24",
         "r": [
          0.6983069014711767,
          0.8377445255474452,
          0.5122760451227605,
          0.8878783472440145,
          0.10145269786746815,
          0.10021410679213204,
          0.015444041498388232,
          0.19015227150030692,
          0.8352588091444663,
          0.6371864365037864
         ],
         "theta": [
          "danceability",
          "energy",
          "key",
          "loudness",
          "speechiness",
          "acousticness",
          "instrumentalness",
          "liveness",
          "valence",
          "tempo",
          "duration_ms",
          "time_signature",
          "cluster"
         ],
         "type": "scatterpolar"
        },
        {
         "fill": "toself",
         "name": "Cluster 25",
         "r": [
          0.5188926895235066,
          0.30473846153846157,
          0.6923076923076924,
          0.742886038678481,
          0.07173202614379084,
          0.8098161878282361,
          0.07293353807106599,
          0.7674772036474165,
          0.3749511909410386,
          0.48078648534978274
         ],
         "theta": [
          "danceability",
          "energy",
          "key",
          "loudness",
          "speechiness",
          "acousticness",
          "instrumentalness",
          "liveness",
          "valence",
          "tempo",
          "duration_ms",
          "time_signature",
          "cluster"
         ],
         "type": "scatterpolar"
        },
        {
         "fill": "toself",
         "name": "Cluster 26",
         "r": [
          0.5950618187808292,
          0.7030088495575221,
          0.6387771520514883,
          0.8826389864687261,
          0.07456282414637438,
          0.06536970003909444,
          0.019241023763532632,
          0.13402641418081074,
          0.20751897938098016,
          0.5794840714994953
         ],
         "theta": [
          "danceability",
          "energy",
          "key",
          "loudness",
          "speechiness",
          "acousticness",
          "instrumentalness",
          "liveness",
          "valence",
          "tempo",
          "duration_ms",
          "time_signature",
          "cluster"
         ],
         "type": "scatterpolar"
        },
        {
         "fill": "toself",
         "name": "Cluster 27",
         "r": [
          0.2451425200635041,
          0.07804166197183099,
          0.20486555697823305,
          0.5651085279896917,
          0.047470772346497284,
          0.9471689575202217,
          0.863516122113391,
          0.12592933487449523,
          0.08930649889182812,
          0.38010302574360133
         ],
         "theta": [
          "danceability",
          "energy",
          "key",
          "loudness",
          "speechiness",
          "acousticness",
          "instrumentalness",
          "liveness",
          "valence",
          "tempo",
          "duration_ms",
          "time_signature",
          "cluster"
         ],
         "type": "scatterpolar"
        },
        {
         "fill": "toself",
         "name": "Cluster 28",
         "r": [
          0.2961847849254403,
          0.9313893129770993,
          0.5246356696738377,
          0.8732837120675695,
          0.1381255301102629,
          0.006589059827094639,
          0.06476381849885691,
          0.18234452462160763,
          0.20037276707869955,
          0.5595060267138117
         ],
         "theta": [
          "danceability",
          "energy",
          "key",
          "loudness",
          "speechiness",
          "acousticness",
          "instrumentalness",
          "liveness",
          "valence",
          "tempo",
          "duration_ms",
          "time_signature",
          "cluster"
         ],
         "type": "scatterpolar"
        },
        {
         "fill": "toself",
         "name": "Cluster 29",
         "r": [
          0.6847866383094965,
          0.7830943396226416,
          0.23842195540308753,
          0.8786663451370388,
          0.0919574957865746,
          0.05762841176024855,
          0.800440570826549,
          0.15765517768729334,
          0.28610669476103817,
          0.5825631068988412
         ],
         "theta": [
          "danceability",
          "energy",
          "key",
          "loudness",
          "speechiness",
          "acousticness",
          "instrumentalness",
          "liveness",
          "valence",
          "tempo",
          "duration_ms",
          "time_signature",
          "cluster"
         ],
         "type": "scatterpolar"
        },
        {
         "fill": "toself",
         "name": "Cluster 30",
         "r": [
          0.36952396104412655,
          0.8646373626373625,
          0.7742257742257743,
          0.8352920269388592,
          0.08188489070842012,
          0.015624528664106983,
          0.8306018854242204,
          0.25209036151285397,
          0.39741730350867405,
          0.5929433387305251
         ],
         "theta": [
          "danceability",
          "energy",
          "key",
          "loudness",
          "speechiness",
          "acousticness",
          "instrumentalness",
          "liveness",
          "valence",
          "tempo",
          "duration_ms",
          "time_signature",
          "cluster"
         ],
         "type": "scatterpolar"
        },
        {
         "fill": "toself",
         "name": "Cluster 31",
         "r": [
          0.6198613656608681,
          0.5773762376237624,
          0.16381638163816384,
          0.8639886550684348,
          0.07992191376000346,
          0.10723629667183587,
          0.0102006680404081,
          0.15845596717726482,
          0.24884454942956222,
          0.5862640014176659
         ],
         "theta": [
          "danceability",
          "energy",
          "key",
          "loudness",
          "speechiness",
          "acousticness",
          "instrumentalness",
          "liveness",
          "valence",
          "tempo",
          "duration_ms",
          "time_signature",
          "cluster"
         ],
         "type": "scatterpolar"
        },
        {
         "fill": "toself",
         "name": "Cluster 32",
         "r": [
          0.5207637760378194,
          0.8378285714285715,
          0.12467532467532466,
          0.8834904539886447,
          0.07819950202303144,
          0.03721077416810097,
          0.02733988535170413,
          0.19760095527572732,
          0.6626033357505439,
          0.6754992556394492
         ],
         "theta": [
          "danceability",
          "energy",
          "key",
          "loudness",
          "speechiness",
          "acousticness",
          "instrumentalness",
          "liveness",
          "valence",
          "tempo",
          "duration_ms",
          "time_signature",
          "cluster"
         ],
         "type": "scatterpolar"
        },
        {
         "fill": "toself",
         "name": "Cluster 33",
         "r": [
          0.6560278669787187,
          0.4509263157894737,
          0.06985645933014353,
          0.8055885123783997,
          0.06132324274739136,
          0.7442189811879094,
          0.04284206871493454,
          0.17089638991094758,
          0.7403580016029921,
          0.5037880274779196
         ],
         "theta": [
          "danceability",
          "energy",
          "key",
          "loudness",
          "speechiness",
          "acousticness",
          "instrumentalness",
          "liveness",
          "valence",
          "tempo",
          "duration_ms",
          "time_signature",
          "cluster"
         ],
         "type": "scatterpolar"
        },
        {
         "fill": "toself",
         "name": "Cluster 34",
         "r": [
          0.8160662819798926,
          0.6918165680473373,
          0.5067240451855837,
          0.8697998166839945,
          0.11300743834680486,
          0.11893871343361614,
          0.007001382392695161,
          0.13075484253880326,
          0.7856065839665995,
          0.48587278452153515
         ],
         "theta": [
          "danceability",
          "energy",
          "key",
          "loudness",
          "speechiness",
          "acousticness",
          "instrumentalness",
          "liveness",
          "valence",
          "tempo",
          "duration_ms",
          "time_signature",
          "cluster"
         ],
         "type": "scatterpolar"
        },
        {
         "fill": "toself",
         "name": "Cluster 35",
         "r": [
          0.7033135125818685,
          0.6789479166666667,
          0.41098484848484845,
          0.8519115505417713,
          0.08797317538126363,
          0.587548109103079,
          0.00748002950507614,
          0.17703900709219855,
          0.861706852791878,
          0.5735921752574108
         ],
         "theta": [
          "danceability",
          "energy",
          "key",
          "loudness",
          "speechiness",
          "acousticness",
          "instrumentalness",
          "liveness",
          "valence",
          "tempo",
          "duration_ms",
          "time_signature",
          "cluster"
         ],
         "type": "scatterpolar"
        },
        {
         "fill": "toself",
         "name": "Cluster 36",
         "r": [
          0.4011984187877373,
          0.126296935483871,
          0.7316715542521994,
          0.6277154735849035,
          0.05148376554923045,
          0.9534832879906723,
          0.8916734894383495,
          0.11393927509232932,
          0.1823260193220894,
          0.6304052495669831
         ],
         "theta": [
          "danceability",
          "energy",
          "key",
          "loudness",
          "speechiness",
          "acousticness",
          "instrumentalness",
          "liveness",
          "valence",
          "tempo",
          "duration_ms",
          "time_signature",
          "cluster"
         ],
         "type": "scatterpolar"
        },
        {
         "fill": "toself",
         "name": "Cluster 37",
         "r": [
          0.767365155391063,
          0.7967631578947368,
          0.8779904306220095,
          0.8897086052485718,
          0.108067308794863,
          0.07021223789896427,
          0.01038746679134384,
          0.1518642350557244,
          0.7896019235907025,
          0.5562522596973297
         ],
         "theta": [
          "danceability",
          "energy",
          "key",
          "loudness",
          "speechiness",
          "acousticness",
          "instrumentalness",
          "liveness",
          "valence",
          "tempo",
          "duration_ms",
          "time_signature",
          "cluster"
         ],
         "type": "scatterpolar"
        },
        {
         "fill": "toself",
         "name": "Cluster 38",
         "r": [
          0.24774129610479143,
          0.9082166666666667,
          0.9030303030303031,
          0.8417627128775282,
          0.12468954248366013,
          0.018230454735609105,
          0.846472081218274,
          0.19170043904086456,
          0.16144077834179354,
          0.5324403398912722
         ],
         "theta": [
          "danceability",
          "energy",
          "key",
          "loudness",
          "speechiness",
          "acousticness",
          "instrumentalness",
          "liveness",
          "valence",
          "tempo",
          "duration_ms",
          "time_signature",
          "cluster"
         ],
         "type": "scatterpolar"
        },
        {
         "fill": "toself",
         "name": "Cluster 39",
         "r": [
          0.7481098471791336,
          0.7562888888888888,
          0.8626262626262629,
          0.8762682084777877,
          0.10747034616315662,
          0.4130633645693887,
          0.007959506260575296,
          0.1504007655071485,
          0.8097913141567964,
          0.5673020026896376
         ],
         "theta": [
          "danceability",
          "energy",
          "key",
          "loudness",
          "speechiness",
          "acousticness",
          "instrumentalness",
          "liveness",
          "valence",
          "tempo",
          "duration_ms",
          "time_signature",
          "cluster"
         ],
         "type": "scatterpolar"
        },
        {
         "fill": "toself",
         "name": "Cluster 40",
         "r": [
          0.29300902381323396,
          0.9074520547945204,
          0.12577833125778332,
          0.8375963551308786,
          0.10006267347121497,
          0.0157100871981075,
          0.8650719699603644,
          0.39162537646944534,
          0.2643293234128364,
          0.5625739776599471
         ],
         "theta": [
          "danceability",
          "energy",
          "key",
          "loudness",
          "speechiness",
          "acousticness",
          "instrumentalness",
          "liveness",
          "valence",
          "tempo",
          "duration_ms",
          "time_signature",
          "cluster"
         ],
         "type": "scatterpolar"
        },
        {
         "fill": "toself",
         "name": "Cluster 41",
         "r": [
          0.5762076226311658,
          0.2477566265060241,
          0.8335158817086529,
          0.7615820132278323,
          0.05393206814184845,
          0.8562079643876712,
          0.04988950314965446,
          0.13224692081395492,
          0.37246284630909415,
          0.5514745368689112
         ],
         "theta": [
          "danceability",
          "energy",
          "key",
          "loudness",
          "speechiness",
          "acousticness",
          "instrumentalness",
          "liveness",
          "valence",
          "tempo",
          "duration_ms",
          "time_signature",
          "cluster"
         ],
         "type": "scatterpolar"
        },
        {
         "fill": "toself",
         "name": "Cluster 42",
         "r": [
          0.2900989048869089,
          0.927094017094017,
          0.1258741258741259,
          0.8648153675052048,
          0.13000577248943262,
          0.005288428586139431,
          0.0567559298884984,
          0.18534625343135985,
          0.19098963078658507,
          0.5694350682574431
         ],
         "theta": [
          "danceability",
          "energy",
          "key",
          "loudness",
          "speechiness",
          "acousticness",
          "instrumentalness",
          "liveness",
          "valence",
          "tempo",
          "duration_ms",
          "time_signature",
          "cluster"
         ],
         "type": "scatterpolar"
        },
        {
         "fill": "toself",
         "name": "Cluster 43",
         "r": [
          0.5122868210260635,
          0.5037711864406779,
          0.7072419106317412,
          0.8320106112492949,
          0.0520577157416639,
          0.45241984888707376,
          0.023116146863976596,
          0.1547267013549019,
          0.37015486535317904,
          0.5639508340719231
         ],
         "theta": [
          "danceability",
          "energy",
          "key",
          "loudness",
          "speechiness",
          "acousticness",
          "instrumentalness",
          "liveness",
          "valence",
          "tempo",
          "duration_ms",
          "time_signature",
          "cluster"
         ],
         "type": "scatterpolar"
        },
        {
         "fill": "toself",
         "name": "Cluster 44",
         "r": [
          0.5816047204817811,
          0.6038529411764706,
          0.23262032085561496,
          0.8281913169558521,
          0.09437075483788286,
          0.5485175998110089,
          0.0017998551806509403,
          0.6606174384647477,
          0.761242161839355,
          0.5930572621590344
         ],
         "theta": [
          "danceability",
          "energy",
          "key",
          "loudness",
          "speechiness",
          "acousticness",
          "instrumentalness",
          "liveness",
          "valence",
          "tempo",
          "duration_ms",
          "time_signature",
          "cluster"
         ],
         "type": "scatterpolar"
        },
        {
         "fill": "toself",
         "name": "Cluster 45",
         "r": [
          0.4749108644986032,
          0.8927462686567165,
          0.7367706919945726,
          0.892753716987752,
          0.10358989366891036,
          0.03656297728226338,
          0.04944520600045458,
          0.5861422371425548,
          0.2502689597696795,
          0.6001175951170825
         ],
         "theta": [
          "danceability",
          "energy",
          "key",
          "loudness",
          "speechiness",
          "acousticness",
          "instrumentalness",
          "liveness",
          "valence",
          "tempo",
          "duration_ms",
          "time_signature",
          "cluster"
         ],
         "type": "scatterpolar"
        },
        {
         "fill": "toself",
         "name": "Cluster 46",
         "r": [
          0.5774979071256217,
          0.40528571428571425,
          0.12121212121212122,
          0.8084385591476981,
          0.05533120655669676,
          0.554874258940524,
          0.03694056224317138,
          0.14740676412408935,
          0.3492168237853517,
          0.5319988250452292
         ],
         "theta": [
          "danceability",
          "energy",
          "key",
          "loudness",
          "speechiness",
          "acousticness",
          "instrumentalness",
          "liveness",
          "valence",
          "tempo",
          "duration_ms",
          "time_signature",
          "cluster"
         ],
         "type": "scatterpolar"
        },
        {
         "fill": "toself",
         "name": "Cluster 47",
         "r": [
          0.45240092876236565,
          0.8333018867924528,
          0.16466552315608926,
          0.8510771345066293,
          0.07214000904344967,
          0.07044361123740243,
          0.7806148836318361,
          0.18087973848712507,
          0.674571401206781,
          0.6128293774969207
         ],
         "theta": [
          "danceability",
          "energy",
          "key",
          "loudness",
          "speechiness",
          "acousticness",
          "instrumentalness",
          "liveness",
          "valence",
          "tempo",
          "duration_ms",
          "time_signature",
          "cluster"
         ],
         "type": "scatterpolar"
        },
        {
         "fill": "toself",
         "name": "Cluster 48",
         "r": [
          0.6265655521084684,
          0.361037037037037,
          0.5639730639730639,
          0.743805525064695,
          0.06049786169611877,
          0.8034359660865684,
          0.7739612709155858,
          0.18908401816203232,
          0.6111242714796014,
          0.5378300820564478
         ],
         "theta": [
          "danceability",
          "energy",
          "key",
          "loudness",
          "speechiness",
          "acousticness",
          "instrumentalness",
          "liveness",
          "valence",
          "tempo",
          "duration_ms",
          "time_signature",
          "cluster"
         ],
         "type": "scatterpolar"
        },
        {
         "fill": "toself",
         "name": "Cluster 49",
         "r": [
          0.6202439111364689,
          0.8315862068965517,
          0.23667711598746086,
          0.8919736603935651,
          0.10804222071970551,
          0.07698523750173106,
          0.014468526518466654,
          0.6076407085211195,
          0.5369753194468755,
          0.5727467928730153
         ],
         "theta": [
          "danceability",
          "energy",
          "key",
          "loudness",
          "speechiness",
          "acousticness",
          "instrumentalness",
          "liveness",
          "valence",
          "tempo",
          "duration_ms",
          "time_signature",
          "cluster"
         ],
         "type": "scatterpolar"
        }
       ],
       "layout": {
        "height": 600,
        "polar": {
         "radialaxis": {
          "range": [
           0,
           1
          ],
          "visible": true
         }
        },
        "showlegend": true,
        "template": {
         "data": {
          "bar": [
           {
            "error_x": {
             "color": "#2a3f5f"
            },
            "error_y": {
             "color": "#2a3f5f"
            },
            "marker": {
             "line": {
              "color": "#E5ECF6",
              "width": 0.5
             },
             "pattern": {
              "fillmode": "overlay",
              "size": 10,
              "solidity": 0.2
             }
            },
            "type": "bar"
           }
          ],
          "barpolar": [
           {
            "marker": {
             "line": {
              "color": "#E5ECF6",
              "width": 0.5
             },
             "pattern": {
              "fillmode": "overlay",
              "size": 10,
              "solidity": 0.2
             }
            },
            "type": "barpolar"
           }
          ],
          "carpet": [
           {
            "aaxis": {
             "endlinecolor": "#2a3f5f",
             "gridcolor": "white",
             "linecolor": "white",
             "minorgridcolor": "white",
             "startlinecolor": "#2a3f5f"
            },
            "baxis": {
             "endlinecolor": "#2a3f5f",
             "gridcolor": "white",
             "linecolor": "white",
             "minorgridcolor": "white",
             "startlinecolor": "#2a3f5f"
            },
            "type": "carpet"
           }
          ],
          "choropleth": [
           {
            "colorbar": {
             "outlinewidth": 0,
             "ticks": ""
            },
            "type": "choropleth"
           }
          ],
          "contour": [
           {
            "colorbar": {
             "outlinewidth": 0,
             "ticks": ""
            },
            "colorscale": [
             [
              0,
              "#0d0887"
             ],
             [
              0.1111111111111111,
              "#46039f"
             ],
             [
              0.2222222222222222,
              "#7201a8"
             ],
             [
              0.3333333333333333,
              "#9c179e"
             ],
             [
              0.4444444444444444,
              "#bd3786"
             ],
             [
              0.5555555555555556,
              "#d8576b"
             ],
             [
              0.6666666666666666,
              "#ed7953"
             ],
             [
              0.7777777777777778,
              "#fb9f3a"
             ],
             [
              0.8888888888888888,
              "#fdca26"
             ],
             [
              1,
              "#f0f921"
             ]
            ],
            "type": "contour"
           }
          ],
          "contourcarpet": [
           {
            "colorbar": {
             "outlinewidth": 0,
             "ticks": ""
            },
            "type": "contourcarpet"
           }
          ],
          "heatmap": [
           {
            "colorbar": {
             "outlinewidth": 0,
             "ticks": ""
            },
            "colorscale": [
             [
              0,
              "#0d0887"
             ],
             [
              0.1111111111111111,
              "#46039f"
             ],
             [
              0.2222222222222222,
              "#7201a8"
             ],
             [
              0.3333333333333333,
              "#9c179e"
             ],
             [
              0.4444444444444444,
              "#bd3786"
             ],
             [
              0.5555555555555556,
              "#d8576b"
             ],
             [
              0.6666666666666666,
              "#ed7953"
             ],
             [
              0.7777777777777778,
              "#fb9f3a"
             ],
             [
              0.8888888888888888,
              "#fdca26"
             ],
             [
              1,
              "#f0f921"
             ]
            ],
            "type": "heatmap"
           }
          ],
          "histogram": [
           {
            "marker": {
             "pattern": {
              "fillmode": "overlay",
              "size": 10,
              "solidity": 0.2
             }
            },
            "type": "histogram"
           }
          ],
          "histogram2d": [
           {
            "colorbar": {
             "outlinewidth": 0,
             "ticks": ""
            },
            "colorscale": [
             [
              0,
              "#0d0887"
             ],
             [
              0.1111111111111111,
              "#46039f"
             ],
             [
              0.2222222222222222,
              "#7201a8"
             ],
             [
              0.3333333333333333,
              "#9c179e"
             ],
             [
              0.4444444444444444,
              "#bd3786"
             ],
             [
              0.5555555555555556,
              "#d8576b"
             ],
             [
              0.6666666666666666,
              "#ed7953"
             ],
             [
              0.7777777777777778,
              "#fb9f3a"
             ],
             [
              0.8888888888888888,
              "#fdca26"
             ],
             [
              1,
              "#f0f921"
             ]
            ],
            "type": "histogram2d"
           }
          ],
          "histogram2dcontour": [
           {
            "colorbar": {
             "outlinewidth": 0,
             "ticks": ""
            },
            "colorscale": [
             [
              0,
              "#0d0887"
             ],
             [
              0.1111111111111111,
              "#46039f"
             ],
             [
              0.2222222222222222,
              "#7201a8"
             ],
             [
              0.3333333333333333,
              "#9c179e"
             ],
             [
              0.4444444444444444,
              "#bd3786"
             ],
             [
              0.5555555555555556,
              "#d8576b"
             ],
             [
              0.6666666666666666,
              "#ed7953"
             ],
             [
              0.7777777777777778,
              "#fb9f3a"
             ],
             [
              0.8888888888888888,
              "#fdca26"
             ],
             [
              1,
              "#f0f921"
             ]
            ],
            "type": "histogram2dcontour"
           }
          ],
          "mesh3d": [
           {
            "colorbar": {
             "outlinewidth": 0,
             "ticks": ""
            },
            "type": "mesh3d"
           }
          ],
          "parcoords": [
           {
            "line": {
             "colorbar": {
              "outlinewidth": 0,
              "ticks": ""
             }
            },
            "type": "parcoords"
           }
          ],
          "pie": [
           {
            "automargin": true,
            "type": "pie"
           }
          ],
          "scatter": [
           {
            "fillpattern": {
             "fillmode": "overlay",
             "size": 10,
             "solidity": 0.2
            },
            "type": "scatter"
           }
          ],
          "scatter3d": [
           {
            "line": {
             "colorbar": {
              "outlinewidth": 0,
              "ticks": ""
             }
            },
            "marker": {
             "colorbar": {
              "outlinewidth": 0,
              "ticks": ""
             }
            },
            "type": "scatter3d"
           }
          ],
          "scattercarpet": [
           {
            "marker": {
             "colorbar": {
              "outlinewidth": 0,
              "ticks": ""
             }
            },
            "type": "scattercarpet"
           }
          ],
          "scattergeo": [
           {
            "marker": {
             "colorbar": {
              "outlinewidth": 0,
              "ticks": ""
             }
            },
            "type": "scattergeo"
           }
          ],
          "scattergl": [
           {
            "marker": {
             "colorbar": {
              "outlinewidth": 0,
              "ticks": ""
             }
            },
            "type": "scattergl"
           }
          ],
          "scattermap": [
           {
            "marker": {
             "colorbar": {
              "outlinewidth": 0,
              "ticks": ""
             }
            },
            "type": "scattermap"
           }
          ],
          "scattermapbox": [
           {
            "marker": {
             "colorbar": {
              "outlinewidth": 0,
              "ticks": ""
             }
            },
            "type": "scattermapbox"
           }
          ],
          "scatterpolar": [
           {
            "marker": {
             "colorbar": {
              "outlinewidth": 0,
              "ticks": ""
             }
            },
            "type": "scatterpolar"
           }
          ],
          "scatterpolargl": [
           {
            "marker": {
             "colorbar": {
              "outlinewidth": 0,
              "ticks": ""
             }
            },
            "type": "scatterpolargl"
           }
          ],
          "scatterternary": [
           {
            "marker": {
             "colorbar": {
              "outlinewidth": 0,
              "ticks": ""
             }
            },
            "type": "scatterternary"
           }
          ],
          "surface": [
           {
            "colorbar": {
             "outlinewidth": 0,
             "ticks": ""
            },
            "colorscale": [
             [
              0,
              "#0d0887"
             ],
             [
              0.1111111111111111,
              "#46039f"
             ],
             [
              0.2222222222222222,
              "#7201a8"
             ],
             [
              0.3333333333333333,
              "#9c179e"
             ],
             [
              0.4444444444444444,
              "#bd3786"
             ],
             [
              0.5555555555555556,
              "#d8576b"
             ],
             [
              0.6666666666666666,
              "#ed7953"
             ],
             [
              0.7777777777777778,
              "#fb9f3a"
             ],
             [
              0.8888888888888888,
              "#fdca26"
             ],
             [
              1,
              "#f0f921"
             ]
            ],
            "type": "surface"
           }
          ],
          "table": [
           {
            "cells": {
             "fill": {
              "color": "#EBF0F8"
             },
             "line": {
              "color": "white"
             }
            },
            "header": {
             "fill": {
              "color": "#C8D4E3"
             },
             "line": {
              "color": "white"
             }
            },
            "type": "table"
           }
          ]
         },
         "layout": {
          "annotationdefaults": {
           "arrowcolor": "#2a3f5f",
           "arrowhead": 0,
           "arrowwidth": 1
          },
          "autotypenumbers": "strict",
          "coloraxis": {
           "colorbar": {
            "outlinewidth": 0,
            "ticks": ""
           }
          },
          "colorscale": {
           "diverging": [
            [
             0,
             "#8e0152"
            ],
            [
             0.1,
             "#c51b7d"
            ],
            [
             0.2,
             "#de77ae"
            ],
            [
             0.3,
             "#f1b6da"
            ],
            [
             0.4,
             "#fde0ef"
            ],
            [
             0.5,
             "#f7f7f7"
            ],
            [
             0.6,
             "#e6f5d0"
            ],
            [
             0.7,
             "#b8e186"
            ],
            [
             0.8,
             "#7fbc41"
            ],
            [
             0.9,
             "#4d9221"
            ],
            [
             1,
             "#276419"
            ]
           ],
           "sequential": [
            [
             0,
             "#0d0887"
            ],
            [
             0.1111111111111111,
             "#46039f"
            ],
            [
             0.2222222222222222,
             "#7201a8"
            ],
            [
             0.3333333333333333,
             "#9c179e"
            ],
            [
             0.4444444444444444,
             "#bd3786"
            ],
            [
             0.5555555555555556,
             "#d8576b"
            ],
            [
             0.6666666666666666,
             "#ed7953"
            ],
            [
             0.7777777777777778,
             "#fb9f3a"
            ],
            [
             0.8888888888888888,
             "#fdca26"
            ],
            [
             1,
             "#f0f921"
            ]
           ],
           "sequentialminus": [
            [
             0,
             "#0d0887"
            ],
            [
             0.1111111111111111,
             "#46039f"
            ],
            [
             0.2222222222222222,
             "#7201a8"
            ],
            [
             0.3333333333333333,
             "#9c179e"
            ],
            [
             0.4444444444444444,
             "#bd3786"
            ],
            [
             0.5555555555555556,
             "#d8576b"
            ],
            [
             0.6666666666666666,
             "#ed7953"
            ],
            [
             0.7777777777777778,
             "#fb9f3a"
            ],
            [
             0.8888888888888888,
             "#fdca26"
            ],
            [
             1,
             "#f0f921"
            ]
           ]
          },
          "colorway": [
           "#636efa",
           "#EF553B",
           "#00cc96",
           "#ab63fa",
           "#FFA15A",
           "#19d3f3",
           "#FF6692",
           "#B6E880",
           "#FF97FF",
           "#FECB52"
          ],
          "font": {
           "color": "#2a3f5f"
          },
          "geo": {
           "bgcolor": "white",
           "lakecolor": "white",
           "landcolor": "#E5ECF6",
           "showlakes": true,
           "showland": true,
           "subunitcolor": "white"
          },
          "hoverlabel": {
           "align": "left"
          },
          "hovermode": "closest",
          "mapbox": {
           "style": "light"
          },
          "paper_bgcolor": "white",
          "plot_bgcolor": "#E5ECF6",
          "polar": {
           "angularaxis": {
            "gridcolor": "white",
            "linecolor": "white",
            "ticks": ""
           },
           "bgcolor": "#E5ECF6",
           "radialaxis": {
            "gridcolor": "white",
            "linecolor": "white",
            "ticks": ""
           }
          },
          "scene": {
           "xaxis": {
            "backgroundcolor": "#E5ECF6",
            "gridcolor": "white",
            "gridwidth": 2,
            "linecolor": "white",
            "showbackground": true,
            "ticks": "",
            "zerolinecolor": "white"
           },
           "yaxis": {
            "backgroundcolor": "#E5ECF6",
            "gridcolor": "white",
            "gridwidth": 2,
            "linecolor": "white",
            "showbackground": true,
            "ticks": "",
            "zerolinecolor": "white"
           },
           "zaxis": {
            "backgroundcolor": "#E5ECF6",
            "gridcolor": "white",
            "gridwidth": 2,
            "linecolor": "white",
            "showbackground": true,
            "ticks": "",
            "zerolinecolor": "white"
           }
          },
          "shapedefaults": {
           "line": {
            "color": "#2a3f5f"
           }
          },
          "ternary": {
           "aaxis": {
            "gridcolor": "white",
            "linecolor": "white",
            "ticks": ""
           },
           "baxis": {
            "gridcolor": "white",
            "linecolor": "white",
            "ticks": ""
           },
           "bgcolor": "#E5ECF6",
           "caxis": {
            "gridcolor": "white",
            "linecolor": "white",
            "ticks": ""
           }
          },
          "title": {
           "x": 0.05
          },
          "xaxis": {
           "automargin": true,
           "gridcolor": "white",
           "linecolor": "white",
           "ticks": "",
           "title": {
            "standoff": 15
           },
           "zerolinecolor": "white",
           "zerolinewidth": 2
          },
          "yaxis": {
           "automargin": true,
           "gridcolor": "white",
           "linecolor": "white",
           "ticks": "",
           "title": {
            "standoff": 15
           },
           "zerolinecolor": "white",
           "zerolinewidth": 2
          }
         }
        },
        "title": {
         "text": "Radar chart of mean food preferences by cluster"
        },
        "width": 800
       }
      }
     },
     "metadata": {},
     "output_type": "display_data"
    }
   ],
   "source": [
    "# Create an empty list to store the Scatterpolar object of each cluster\n",
    "scatter_objects = []\n",
    "\n",
    "scaled_features_df = numeric_data_df.copy()\n",
    "\n",
    "# State the label for each arm of the chart\n",
    "categories = scaled_features_df.columns\n",
    "\n",
    "# Iterate over the unique clusters and add an object for each cluster to the list\n",
    "for cluster in sorted(scaled_features_df['cluster'].unique()):\n",
    "\n",
    "  # Find the mean value for each column of the cluster\n",
    "  cluster_means = [scaled_features_df.loc[scaled_features_df[\"cluster\"] == cluster, scaled_features_df.columns[0]].mean(),\n",
    "                  scaled_features_df.loc[scaled_features_df[\"cluster\"] == cluster, scaled_features_df.columns[1]].mean(),\n",
    "                  scaled_features_df.loc[scaled_features_df[\"cluster\"] == cluster, scaled_features_df.columns[2]].mean(),\n",
    "                  scaled_features_df.loc[scaled_features_df[\"cluster\"] == cluster, scaled_features_df.columns[3]].mean(),\n",
    "                  scaled_features_df.loc[scaled_features_df[\"cluster\"] == cluster, scaled_features_df.columns[4]].mean(),\n",
    "                  scaled_features_df.loc[scaled_features_df[\"cluster\"] == cluster, scaled_features_df.columns[5]].mean(),\n",
    "                  scaled_features_df.loc[scaled_features_df[\"cluster\"] == cluster, scaled_features_df.columns[6]].mean(),\n",
    "                  scaled_features_df.loc[scaled_features_df[\"cluster\"] == cluster, scaled_features_df.columns[7]].mean(),\n",
    "                  scaled_features_df.loc[scaled_features_df[\"cluster\"] == cluster, scaled_features_df.columns[8]].mean(),\n",
    "                  scaled_features_df.loc[scaled_features_df[\"cluster\"] == cluster, scaled_features_df.columns[9]].mean()]\n",
    "                  # Bonus: see if you can turn this code for `cluster_means` into a list comprehension\n",
    "\n",
    "  # Create a Scatterpolar object for the cluster\n",
    "  cluster_scatter = go.Scatterpolar(\n",
    "    r = cluster_means, # set the radial coordinates\n",
    "    theta = categories, # the names of the columns\n",
    "    fill = 'toself', # fills in the space with colour\n",
    "    name = f'Cluster {cluster}' # adds the name of the cluster\n",
    "  )\n",
    "\n",
    "  # Add the Scatterpolar object to the list\n",
    "  scatter_objects.append(cluster_scatter)\n",
    "\n",
    "# Create the figure (the white area)\n",
    "fig = go.Figure()\n",
    "\n",
    "# Add the scatter objects to the figure\n",
    "fig.add_traces(scatter_objects)\n",
    "\n",
    "# Add extras to the plot, such as title\n",
    "fig.update_layout(\n",
    "  title_text = 'Radar chart of mean food preferences by cluster',\n",
    "  height = 600,\n",
    "  width = 800,\n",
    "  polar = dict(\n",
    "    radialaxis = dict(\n",
    "      visible = True, # visibility of the numbers on the arm\n",
    "      range = [0, 1] # scale of the plot\n",
    "    )),\n",
    "  showlegend = True\n",
    ")\n",
    "\n",
    "# Show the initialised plot and the trace objects\n",
    "fig.show()"
   ]
  },
  {
   "cell_type": "code",
   "execution_count": 29,
   "metadata": {},
   "outputs": [
    {
     "data": {
      "text/plain": [
       "'\\nimport matplotlib.pyplot as plt\\nfrom sklearn.cluster import KMeans\\nimport itertools\\nimport os\\n\\n# Create directory if it doesn\\'t exist\\nsave_dir = r\"D:\\\\data_science_bootcamp\\\\week_07\\\\Moosic\\x07ll plots\"\\nos.makedirs(save_dir, exist_ok=True)\\n\\n# List of features\\nfeatures = [\\'danceability\\', \\'energy\\', \\'key\\', \\'loudness\\', \\'speechiness\\', \\n           \\'acousticness\\', \\'instrumentalness\\', \\'liveness\\', \\'valence\\', \\n           \\'tempo\\', \\'time_signature\\']\\n\\n# List of n_clusters to try\\ncluster_sizes = [20, 25, 30, 35, 40, 45, 50, 60, 70, 80, 90, 100]\\n\\n# Random seed for reproducibility\\nrandom_seed = 1337\\n\\n# Generate all possible pairs of features\\nfeature_pairs = list(itertools.combinations(features, 2))\\n\\n# Loop through each feature pair and cluster size\\nfor feature_1, feature_2 in feature_pairs:\\n    print(f\"\\nAnalyzing feature pair: {feature_1} vs {feature_2}\")\\n    \\n    # Extract the features\\n    two_song_features = numeric_data_df.loc[:, [feature_1, feature_2]].copy()\\n    \\n    for n_clusters in cluster_sizes:\\n        print(f\"Running with {n_clusters} clusters...\")\\n        \\n        # Initialize and fit the model\\n        my_2d_kmeans = KMeans(n_clusters=n_clusters, random_state=random_seed)\\n        my_2d_kmeans.fit(two_song_features)\\n        \\n        # Create a new figure for each combination\\n        plt.figure(figsize=(10, 8))\\n        \\n        # Plot the data points\\n        scatter = plt.scatter(\\n            x=two_song_features.iloc[:, 0],\\n            y=two_song_features.iloc[:, 1],\\n            c=my_2d_kmeans.labels_,\\n            cmap=\\'viridis\\',\\n            alpha=0.7\\n        )\\n        \\n        # Add cluster centers\\n        plt.scatter(\\n            x=my_2d_kmeans.cluster_centers_[:, 0],\\n            y=my_2d_kmeans.cluster_centers_[:, 1],\\n            s=100,\\n            c=\\'red\\',\\n            marker=\\'X\\'\\n        )\\n        \\n        # Add labels and title\\n        title = f\\'KMeans Clustering: {feature_1} vs {feature_2} ({n_clusters} clusters)\\'\\n        plt.title(title)\\n        plt.xlabel(feature_1)\\n        plt.ylabel(feature_2)\\n        \\n        # Add colorbar\\n        plt.colorbar(scatter, label=\\'Cluster\\')\\n        \\n        # Save the plot\\n        filename = f\"{feature_1}_vs_{feature_2}_{n_clusters}_clusters.png\"\\n        filepath = os.path.join(save_dir, filename)\\n        plt.tight_layout()\\n        plt.savefig(filepath, dpi=300)\\n        plt.close()  # Close the figure to free memory\\n        \\n        print(f\"Saved plot to {filepath}\")\\'\\n        '"
      ]
     },
     "execution_count": 29,
     "metadata": {},
     "output_type": "execute_result"
    }
   ],
   "source": [
    "'''\n",
    "import matplotlib.pyplot as plt\n",
    "from sklearn.cluster import KMeans\n",
    "import itertools\n",
    "import os\n",
    "\n",
    "# Create directory if it doesn't exist\n",
    "save_dir = r\"D:\\data_science_bootcamp\\week_07\\Moosic\\all plots\"\n",
    "os.makedirs(save_dir, exist_ok=True)\n",
    "\n",
    "# List of features\n",
    "features = ['danceability', 'energy', 'key', 'loudness', 'speechiness', \n",
    "           'acousticness', 'instrumentalness', 'liveness', 'valence', \n",
    "           'tempo', 'time_signature']\n",
    "\n",
    "# List of n_clusters to try\n",
    "cluster_sizes = [20, 25, 30, 35, 40, 45, 50, 60, 70, 80, 90, 100]\n",
    "\n",
    "# Random seed for reproducibility\n",
    "random_seed = 1337\n",
    "\n",
    "# Generate all possible pairs of features\n",
    "feature_pairs = list(itertools.combinations(features, 2))\n",
    "\n",
    "# Loop through each feature pair and cluster size\n",
    "for feature_1, feature_2 in feature_pairs:\n",
    "    print(f\"\\nAnalyzing feature pair: {feature_1} vs {feature_2}\")\n",
    "    \n",
    "    # Extract the features\n",
    "    two_song_features = numeric_data_df.loc[:, [feature_1, feature_2]].copy()\n",
    "    \n",
    "    for n_clusters in cluster_sizes:\n",
    "        print(f\"Running with {n_clusters} clusters...\")\n",
    "        \n",
    "        # Initialize and fit the model\n",
    "        my_2d_kmeans = KMeans(n_clusters=n_clusters, random_state=random_seed)\n",
    "        my_2d_kmeans.fit(two_song_features)\n",
    "        \n",
    "        # Create a new figure for each combination\n",
    "        plt.figure(figsize=(10, 8))\n",
    "        \n",
    "        # Plot the data points\n",
    "        scatter = plt.scatter(\n",
    "            x=two_song_features.iloc[:, 0],\n",
    "            y=two_song_features.iloc[:, 1],\n",
    "            c=my_2d_kmeans.labels_,\n",
    "            cmap='viridis',\n",
    "            alpha=0.7\n",
    "        )\n",
    "        \n",
    "        # Add cluster centers\n",
    "        plt.scatter(\n",
    "            x=my_2d_kmeans.cluster_centers_[:, 0],\n",
    "            y=my_2d_kmeans.cluster_centers_[:, 1],\n",
    "            s=100,\n",
    "            c='red',\n",
    "            marker='X'\n",
    "        )\n",
    "        \n",
    "        # Add labels and title\n",
    "        title = f'KMeans Clustering: {feature_1} vs {feature_2} ({n_clusters} clusters)'\n",
    "        plt.title(title)\n",
    "        plt.xlabel(feature_1)\n",
    "        plt.ylabel(feature_2)\n",
    "        \n",
    "        # Add colorbar\n",
    "        plt.colorbar(scatter, label='Cluster')\n",
    "        \n",
    "        # Save the plot\n",
    "        filename = f\"{feature_1}_vs_{feature_2}_{n_clusters}_clusters.png\"\n",
    "        filepath = os.path.join(save_dir, filename)\n",
    "        plt.tight_layout()\n",
    "        plt.savefig(filepath, dpi=300)\n",
    "        plt.close()  # Close the figure to free memory\n",
    "        \n",
    "        print(f\"Saved plot to {filepath}\")'\n",
    "        '''"
   ]
  },
  {
   "cell_type": "code",
   "execution_count": 39,
   "metadata": {},
   "outputs": [
    {
     "data": {
      "text/plain": [
       "Index(['danceability', 'energy', 'key', 'loudness', 'speechiness',\n",
       "       'acousticness', 'instrumentalness', 'liveness', 'valence', 'tempo',\n",
       "       'duration_ms', 'time_signature', 'cluster', 'new_cluster'],\n",
       "      dtype='object')"
      ]
     },
     "execution_count": 39,
     "metadata": {},
     "output_type": "execute_result"
    }
   ],
   "source": [
    "numeric_data_df.columns\n",
    "# non_numeric_data\n",
    "# minmax_dropped_cols_df = non_numeric_data.join(scaled_features_df)"
   ]
  },
  {
   "cell_type": "code",
   "execution_count": 40,
   "metadata": {},
   "outputs": [
    {
     "name": "stdout",
     "output_type": "stream",
     "text": [
      "                                                name  \\\n",
      "0  Se Eu Quiser Falar Com Deus                   ...   \n",
      "1  Saudade De Bahia                              ...   \n",
      "2  Canta Canta, Minha Gente                      ...   \n",
      "3  Mulher Eu Sei                                 ...   \n",
      "4  Rosa Morena                                   ...   \n",
      "\n",
      "                                             artist                       id  \\\n",
      "0  Gilberto Gil                                      1n7JnwviZ7zf0LR1tcGFq7    \n",
      "1  Antônio Carlos Jobim                              5QGM1U0eCYrQuwSJwTm5Zq    \n",
      "2  Martinho Da Vila                                  0NLIFSZxPzQhCwnkn5PJYs    \n",
      "3  Chico César                                       3mXqOdlLE1k67WsAxryPFs    \n",
      "4  Kurt Elling                                       7bSzjzjTkWT2CkIPPdp0eA    \n",
      "\n",
      "                                                html  cluster  \n",
      "0  https://open.spotify.com/track/1n7JnwviZ7zf0LR...        4  \n",
      "1  https://open.spotify.com/track/5QGM1U0eCYrQuwS...        0  \n",
      "2  https://open.spotify.com/track/0NLIFSZxPzQhCwn...       44  \n",
      "3  https://open.spotify.com/track/3mXqOdlLE1k67Ws...       28  \n",
      "4  https://open.spotify.com/track/7bSzjzjTkWT2CkI...       28  \n"
     ]
    }
   ],
   "source": [
    "from sklearn.cluster import KMeans\n",
    "\n",
    "# Step 1: Select features for clustering (EXCLUDE old 'cluster' column)\n",
    "features_for_clustering = numeric_data_df.drop(columns=['cluster'], errors='ignore')\n",
    "\n",
    "# Step 2: Run K-Means\n",
    "n_clusters = 50  # Adjust this as needed\n",
    "kmeans = KMeans(n_clusters=n_clusters, random_state=random_seed)\n",
    "numeric_data_df['new_cluster'] = kmeans.fit_predict(features_for_clustering)  # Assign new clusters\n",
    "\n",
    "# Step 3: Merge with non-numeric data\n",
    "final_df = non_numeric_data.copy()  # Start with song metadata\n",
    "final_df['cluster'] = numeric_data_df['new_cluster']  # Add new cluster labels\n",
    "\n",
    "# Step 4: Save the final dataset\n",
    "final_df.to_csv(\"songs_with_clusters.csv\", index=False)\n",
    "\n",
    "# Step 5: Preview results\n",
    "print(final_df.head())\n"
   ]
  },
  {
   "cell_type": "code",
   "execution_count": 42,
   "metadata": {},
   "outputs": [
    {
     "name": "stdout",
     "output_type": "stream",
     "text": [
      "cluster\n",
      "29    206\n",
      "24    190\n",
      "9     182\n",
      "25    175\n",
      "19    170\n",
      "1     169\n",
      "10    168\n",
      "2     142\n",
      "14    142\n",
      "39    140\n",
      "22    137\n",
      "26    132\n",
      "18    131\n",
      "27    129\n",
      "20    124\n",
      "28    121\n",
      "16    121\n",
      "15    120\n",
      "34    119\n",
      "48    118\n",
      "21    117\n",
      "13    114\n",
      "0     114\n",
      "23    113\n",
      "43    111\n",
      "37    104\n",
      "8     101\n",
      "44     96\n",
      "38     95\n",
      "35     91\n",
      "6      90\n",
      "30     84\n",
      "3      84\n",
      "31     83\n",
      "5      74\n",
      "32     73\n",
      "11     70\n",
      "33     69\n",
      "40     67\n",
      "42     64\n",
      "7      60\n",
      "17     58\n",
      "49     55\n",
      "36     54\n",
      "45     53\n",
      "47     53\n",
      "46     47\n",
      "41     45\n",
      "12     34\n",
      "4      26\n",
      "Name: count, dtype: int64\n",
      "                                                name  \\\n",
      "0  Se Eu Quiser Falar Com Deus                   ...   \n",
      "1  Saudade De Bahia                              ...   \n",
      "2  Canta Canta, Minha Gente                      ...   \n",
      "3  Mulher Eu Sei                                 ...   \n",
      "4  Rosa Morena                                   ...   \n",
      "\n",
      "                                             artist                       id  \\\n",
      "0  Gilberto Gil                                      1n7JnwviZ7zf0LR1tcGFq7    \n",
      "1  Antônio Carlos Jobim                              5QGM1U0eCYrQuwSJwTm5Zq    \n",
      "2  Martinho Da Vila                                  0NLIFSZxPzQhCwnkn5PJYs    \n",
      "3  Chico César                                       3mXqOdlLE1k67WsAxryPFs    \n",
      "4  Kurt Elling                                       7bSzjzjTkWT2CkIPPdp0eA    \n",
      "\n",
      "                                                html  cluster  \n",
      "0  https://open.spotify.com/track/1n7JnwviZ7zf0LR...        4  \n",
      "1  https://open.spotify.com/track/5QGM1U0eCYrQuwS...        0  \n",
      "2  https://open.spotify.com/track/0NLIFSZxPzQhCwn...       44  \n",
      "3  https://open.spotify.com/track/3mXqOdlLE1k67Ws...       28  \n",
      "4  https://open.spotify.com/track/7bSzjzjTkWT2CkI...       28  \n"
     ]
    }
   ],
   "source": [
    "print(final_df['cluster'].value_counts())  # See how many songs per cluster\n",
    "\n",
    "\n",
    "\n",
    "print(final_df.head())  # Should contain both song info + cluster column\n",
    "\n"
   ]
  },
  {
   "cell_type": "code",
   "execution_count": null,
   "metadata": {},
   "outputs": [
    {
     "name": "stdout",
     "output_type": "stream",
     "text": [
      "             danceability    energy       key  loudness  speechiness  \\\n",
      "new_cluster                                                            \n",
      "0                0.748390  0.526939  0.147528  0.814037     0.068068   \n",
      "1                0.816066  0.691817  0.506724  0.869800     0.113007   \n",
      "2                0.788514  0.707465  0.090269  0.880347     0.150613   \n",
      "3                0.577498  0.405286  0.121212  0.808439     0.055331   \n",
      "4                0.518893  0.304738  0.692308  0.742886     0.071732   \n",
      "\n",
      "             acousticness  instrumentalness  liveness   valence     tempo  \\\n",
      "new_cluster                                                                 \n",
      "0                0.225264          0.015976  0.111018  0.824757  0.558006   \n",
      "1                0.118939          0.007001  0.130755  0.785607  0.485873   \n",
      "2                0.099906          0.011399  0.138757  0.570129  0.502709   \n",
      "3                0.554874          0.036941  0.147407  0.349217  0.531999   \n",
      "4                0.809816          0.072934  0.767477  0.374951  0.480786   \n",
      "\n",
      "             duration_ms  time_signature  cluster  \n",
      "new_cluster                                        \n",
      "0               0.049175        0.798246      0.0  \n",
      "1               0.051134        0.797633     34.0  \n",
      "2               0.050165        0.800000     16.0  \n",
      "3               0.060459        0.771429     46.0  \n",
      "4               0.053939        0.800000     25.0  \n"
     ]
    }
   ],
   "source": [
    "# Calculate the mean value of each feature per cluster\n",
    "cluster_means = numeric_data_df.groupby('new_cluster').mean()\n",
    "\n",
    "# Display the first few rows\n",
    "print(cluster_means.head())\n"
   ]
  },
  {
   "cell_type": "code",
   "execution_count": 44,
   "metadata": {},
   "outputs": [
    {
     "name": "stdout",
     "output_type": "stream",
     "text": [
      "instrumentalness    0.369311\n",
      "acousticness        0.349328\n",
      "key                 0.301244\n",
      "energy              0.264400\n",
      "valence             0.253309\n",
      "danceability        0.184464\n",
      "liveness            0.155028\n",
      "loudness            0.081104\n",
      "tempo               0.066268\n",
      "speechiness         0.028826\n",
      "time_signature      0.025836\n",
      "duration_ms         0.011689\n",
      "dtype: float64\n"
     ]
    }
   ],
   "source": [
    "# Compute the standard deviation of each feature across clusters\n",
    "feature_importance = cluster_means.std().sort_values(ascending=False)\n",
    "feature_importance.drop(\"cluster\", inplace=True)\n",
    "# Display the most important features\n",
    "print(feature_importance)\n"
   ]
  },
  {
   "cell_type": "code",
   "execution_count": 45,
   "metadata": {},
   "outputs": [
    {
     "data": {
      "image/png": "[encoded data removed]",
      "text/plain": [
       "<Figure size 1000x600 with 1 Axes>"
      ]
     },
     "metadata": {},
     "output_type": "display_data"
    }
   ],
   "source": [
    "import matplotlib.pyplot as plt\n",
    "\n",
    "# Plot feature importance (standard deviation across clusters)\n",
    "plt.figure(figsize=(10, 6))\n",
    "feature_importance.plot(kind='bar', color='skyblue')\n",
    "plt.title('Feature Importance in K-Means Clustering')\n",
    "plt.xlabel('Feature')\n",
    "plt.ylabel('Standard Deviation Across Clusters')\n",
    "plt.xticks(rotation=45)\n",
    "plt.show()\n"
   ]
  },
  {
   "cell_type": "code",
   "execution_count": 46,
   "metadata": {},
   "outputs": [
    {
     "name": "stderr",
     "output_type": "stream",
     "text": [
      "C:\\Users\\Ino\\AppData\\Local\\Temp\\ipykernel_23488\\144845311.py:5: SettingWithCopyWarning:\n",
      "\n",
      "\n",
      "A value is trying to be set on a copy of a slice from a DataFrame\n",
      "\n",
      "See the caveats in the documentation: https://pandas.pydata.org/pandas-docs/stable/user_guide/indexing.html#returning-a-view-versus-a-copy\n",
      "\n"
     ]
    },
    {
     "data": {
      "image/png": "[encoded data removed]",
      "text/plain": [
       "<Figure size 1000x600 with 1 Axes>"
      ]
     },
     "metadata": {},
     "output_type": "display_data"
    }
   ],
   "source": [
    "# Get the feature means for Cluster 3\n",
    "cluster_3_profile = cluster_means.loc[3]\n",
    "\n",
    "\n",
    "cluster_3_profile.drop('cluster', inplace=True)\n",
    "\n",
    "\n",
    "\n",
    "# Sort features to see which ones stand out most\n",
    "cluster_3_profile_sorted = cluster_3_profile.sort_values(ascending=False)\n",
    "\n",
    "\n",
    "# Plot the feature profile for Cluster 3\n",
    "plt.figure(figsize=(10, 6))\n",
    "cluster_3_profile_sorted.plot(kind='bar', color='coral')\n",
    "plt.title('Feature Profile of Cluster 3')\n",
    "plt.xlabel('Feature')\n",
    "plt.ylabel('Mean Value in Cluster')\n",
    "plt.xticks(rotation=45)\n",
    "plt.show()\n"
   ]
  },
  {
   "cell_type": "code",
   "execution_count": 47,
   "metadata": {},
   "outputs": [
    {
     "data": {
      "text/html": [
       "<div>\n",
       "<style scoped>\n",
       "    .dataframe tbody tr th:only-of-type {\n",
       "        vertical-align: middle;\n",
       "    }\n",
       "\n",
       "    .dataframe tbody tr th {\n",
       "        vertical-align: top;\n",
       "    }\n",
       "\n",
       "    .dataframe thead th {\n",
       "        text-align: right;\n",
       "    }\n",
       "</style>\n",
       "<table border=\"1\" class=\"dataframe\">\n",
       "  <thead>\n",
       "    <tr style=\"text-align: right;\">\n",
       "      <th></th>\n",
       "      <th>danceability</th>\n",
       "      <th>energy</th>\n",
       "      <th>key</th>\n",
       "      <th>loudness</th>\n",
       "      <th>speechiness</th>\n",
       "      <th>acousticness</th>\n",
       "      <th>instrumentalness</th>\n",
       "      <th>liveness</th>\n",
       "      <th>valence</th>\n",
       "      <th>tempo</th>\n",
       "      <th>duration_ms</th>\n",
       "      <th>time_signature</th>\n",
       "    </tr>\n",
       "    <tr>\n",
       "      <th>new_cluster</th>\n",
       "      <th></th>\n",
       "      <th></th>\n",
       "      <th></th>\n",
       "      <th></th>\n",
       "      <th></th>\n",
       "      <th></th>\n",
       "      <th></th>\n",
       "      <th></th>\n",
       "      <th></th>\n",
       "      <th></th>\n",
       "      <th></th>\n",
       "      <th></th>\n",
       "    </tr>\n",
       "  </thead>\n",
       "  <tbody>\n",
       "    <tr>\n",
       "      <th>0</th>\n",
       "      <td>0.748390</td>\n",
       "      <td>0.526939</td>\n",
       "      <td>0.147528</td>\n",
       "      <td>0.814037</td>\n",
       "      <td>0.068068</td>\n",
       "      <td>0.225264</td>\n",
       "      <td>0.015976</td>\n",
       "      <td>0.111018</td>\n",
       "      <td>0.824757</td>\n",
       "      <td>0.558006</td>\n",
       "      <td>0.049175</td>\n",
       "      <td>0.798246</td>\n",
       "    </tr>\n",
       "    <tr>\n",
       "      <th>1</th>\n",
       "      <td>0.816066</td>\n",
       "      <td>0.691817</td>\n",
       "      <td>0.506724</td>\n",
       "      <td>0.869800</td>\n",
       "      <td>0.113007</td>\n",
       "      <td>0.118939</td>\n",
       "      <td>0.007001</td>\n",
       "      <td>0.130755</td>\n",
       "      <td>0.785607</td>\n",
       "      <td>0.485873</td>\n",
       "      <td>0.051134</td>\n",
       "      <td>0.797633</td>\n",
       "    </tr>\n",
       "    <tr>\n",
       "      <th>2</th>\n",
       "      <td>0.788514</td>\n",
       "      <td>0.707465</td>\n",
       "      <td>0.090269</td>\n",
       "      <td>0.880347</td>\n",
       "      <td>0.150613</td>\n",
       "      <td>0.099906</td>\n",
       "      <td>0.011399</td>\n",
       "      <td>0.138757</td>\n",
       "      <td>0.570129</td>\n",
       "      <td>0.502709</td>\n",
       "      <td>0.050165</td>\n",
       "      <td>0.800000</td>\n",
       "    </tr>\n",
       "    <tr>\n",
       "      <th>3</th>\n",
       "      <td>0.577498</td>\n",
       "      <td>0.405286</td>\n",
       "      <td>0.121212</td>\n",
       "      <td>0.808439</td>\n",
       "      <td>0.055331</td>\n",
       "      <td>0.554874</td>\n",
       "      <td>0.036941</td>\n",
       "      <td>0.147407</td>\n",
       "      <td>0.349217</td>\n",
       "      <td>0.531999</td>\n",
       "      <td>0.060459</td>\n",
       "      <td>0.771429</td>\n",
       "    </tr>\n",
       "    <tr>\n",
       "      <th>4</th>\n",
       "      <td>0.518893</td>\n",
       "      <td>0.304738</td>\n",
       "      <td>0.692308</td>\n",
       "      <td>0.742886</td>\n",
       "      <td>0.071732</td>\n",
       "      <td>0.809816</td>\n",
       "      <td>0.072934</td>\n",
       "      <td>0.767477</td>\n",
       "      <td>0.374951</td>\n",
       "      <td>0.480786</td>\n",
       "      <td>0.053939</td>\n",
       "      <td>0.800000</td>\n",
       "    </tr>\n",
       "    <tr>\n",
       "      <th>5</th>\n",
       "      <td>0.582129</td>\n",
       "      <td>0.715095</td>\n",
       "      <td>0.121622</td>\n",
       "      <td>0.876365</td>\n",
       "      <td>0.102869</td>\n",
       "      <td>0.485632</td>\n",
       "      <td>0.021567</td>\n",
       "      <td>0.136740</td>\n",
       "      <td>0.565427</td>\n",
       "      <td>0.617431</td>\n",
       "      <td>0.046377</td>\n",
       "      <td>0.791892</td>\n",
       "    </tr>\n",
       "    <tr>\n",
       "      <th>6</th>\n",
       "      <td>0.748110</td>\n",
       "      <td>0.756289</td>\n",
       "      <td>0.862626</td>\n",
       "      <td>0.876268</td>\n",
       "      <td>0.107470</td>\n",
       "      <td>0.413063</td>\n",
       "      <td>0.007960</td>\n",
       "      <td>0.150401</td>\n",
       "      <td>0.809791</td>\n",
       "      <td>0.567302</td>\n",
       "      <td>0.049127</td>\n",
       "      <td>0.800000</td>\n",
       "    </tr>\n",
       "    <tr>\n",
       "      <th>7</th>\n",
       "      <td>0.690572</td>\n",
       "      <td>0.790483</td>\n",
       "      <td>0.750000</td>\n",
       "      <td>0.879678</td>\n",
       "      <td>0.151609</td>\n",
       "      <td>0.163353</td>\n",
       "      <td>0.000506</td>\n",
       "      <td>0.666599</td>\n",
       "      <td>0.649272</td>\n",
       "      <td>0.552489</td>\n",
       "      <td>0.052605</td>\n",
       "      <td>0.803333</td>\n",
       "    </tr>\n",
       "    <tr>\n",
       "      <th>8</th>\n",
       "      <td>0.619861</td>\n",
       "      <td>0.577376</td>\n",
       "      <td>0.163816</td>\n",
       "      <td>0.863989</td>\n",
       "      <td>0.079922</td>\n",
       "      <td>0.107236</td>\n",
       "      <td>0.010201</td>\n",
       "      <td>0.158456</td>\n",
       "      <td>0.248845</td>\n",
       "      <td>0.586264</td>\n",
       "      <td>0.055927</td>\n",
       "      <td>0.790099</td>\n",
       "    </tr>\n",
       "    <tr>\n",
       "      <th>9</th>\n",
       "      <td>0.762873</td>\n",
       "      <td>0.807110</td>\n",
       "      <td>0.082418</td>\n",
       "      <td>0.887058</td>\n",
       "      <td>0.098164</td>\n",
       "      <td>0.140733</td>\n",
       "      <td>0.004580</td>\n",
       "      <td>0.167954</td>\n",
       "      <td>0.852251</td>\n",
       "      <td>0.558479</td>\n",
       "      <td>0.049585</td>\n",
       "      <td>0.798901</td>\n",
       "    </tr>\n",
       "    <tr>\n",
       "      <th>10</th>\n",
       "      <td>0.696964</td>\n",
       "      <td>0.709917</td>\n",
       "      <td>0.906926</td>\n",
       "      <td>0.878488</td>\n",
       "      <td>0.089823</td>\n",
       "      <td>0.114379</td>\n",
       "      <td>0.010716</td>\n",
       "      <td>0.180819</td>\n",
       "      <td>0.420842</td>\n",
       "      <td>0.543721</td>\n",
       "      <td>0.052462</td>\n",
       "      <td>0.800000</td>\n",
       "    </tr>\n",
       "    <tr>\n",
       "      <th>11</th>\n",
       "      <td>0.306073</td>\n",
       "      <td>0.888643</td>\n",
       "      <td>0.159740</td>\n",
       "      <td>0.851160</td>\n",
       "      <td>0.106306</td>\n",
       "      <td>0.017057</td>\n",
       "      <td>0.460885</td>\n",
       "      <td>0.200297</td>\n",
       "      <td>0.231948</td>\n",
       "      <td>0.569901</td>\n",
       "      <td>0.060368</td>\n",
       "      <td>0.745714</td>\n",
       "    </tr>\n",
       "    <tr>\n",
       "      <th>12</th>\n",
       "      <td>0.581605</td>\n",
       "      <td>0.603853</td>\n",
       "      <td>0.232620</td>\n",
       "      <td>0.828191</td>\n",
       "      <td>0.094371</td>\n",
       "      <td>0.548518</td>\n",
       "      <td>0.001800</td>\n",
       "      <td>0.660617</td>\n",
       "      <td>0.761242</td>\n",
       "      <td>0.593057</td>\n",
       "      <td>0.050139</td>\n",
       "      <td>0.800000</td>\n",
       "    </tr>\n",
       "    <tr>\n",
       "      <th>13</th>\n",
       "      <td>0.298255</td>\n",
       "      <td>0.943289</td>\n",
       "      <td>0.890750</td>\n",
       "      <td>0.875307</td>\n",
       "      <td>0.136968</td>\n",
       "      <td>0.006805</td>\n",
       "      <td>0.062341</td>\n",
       "      <td>0.155906</td>\n",
       "      <td>0.175083</td>\n",
       "      <td>0.555873</td>\n",
       "      <td>0.058109</td>\n",
       "      <td>0.775439</td>\n",
       "    </tr>\n",
       "    <tr>\n",
       "      <th>14</th>\n",
       "      <td>0.245143</td>\n",
       "      <td>0.078042</td>\n",
       "      <td>0.204866</td>\n",
       "      <td>0.565109</td>\n",
       "      <td>0.047471</td>\n",
       "      <td>0.947169</td>\n",
       "      <td>0.863516</td>\n",
       "      <td>0.125929</td>\n",
       "      <td>0.089306</td>\n",
       "      <td>0.380103</td>\n",
       "      <td>0.117547</td>\n",
       "      <td>0.754930</td>\n",
       "    </tr>\n",
       "    <tr>\n",
       "      <th>15</th>\n",
       "      <td>0.247741</td>\n",
       "      <td>0.908217</td>\n",
       "      <td>0.903030</td>\n",
       "      <td>0.841763</td>\n",
       "      <td>0.124690</td>\n",
       "      <td>0.018230</td>\n",
       "      <td>0.846472</td>\n",
       "      <td>0.191700</td>\n",
       "      <td>0.161441</td>\n",
       "      <td>0.532440</td>\n",
       "      <td>0.061308</td>\n",
       "      <td>0.770000</td>\n",
       "    </tr>\n",
       "    <tr>\n",
       "      <th>16</th>\n",
       "      <td>0.422479</td>\n",
       "      <td>0.165706</td>\n",
       "      <td>0.163787</td>\n",
       "      <td>0.658195</td>\n",
       "      <td>0.049605</td>\n",
       "      <td>0.941311</td>\n",
       "      <td>0.890590</td>\n",
       "      <td>0.153059</td>\n",
       "      <td>0.225324</td>\n",
       "      <td>0.552460</td>\n",
       "      <td>0.062241</td>\n",
       "      <td>0.776860</td>\n",
       "    </tr>\n",
       "    <tr>\n",
       "      <th>17</th>\n",
       "      <td>0.620244</td>\n",
       "      <td>0.831586</td>\n",
       "      <td>0.236677</td>\n",
       "      <td>0.891974</td>\n",
       "      <td>0.108042</td>\n",
       "      <td>0.076985</td>\n",
       "      <td>0.014469</td>\n",
       "      <td>0.607641</td>\n",
       "      <td>0.536975</td>\n",
       "      <td>0.572747</td>\n",
       "      <td>0.054371</td>\n",
       "      <td>0.796552</td>\n",
       "    </tr>\n",
       "    <tr>\n",
       "      <th>18</th>\n",
       "      <td>0.296185</td>\n",
       "      <td>0.931389</td>\n",
       "      <td>0.524636</td>\n",
       "      <td>0.873284</td>\n",
       "      <td>0.138126</td>\n",
       "      <td>0.006589</td>\n",
       "      <td>0.064764</td>\n",
       "      <td>0.182345</td>\n",
       "      <td>0.200373</td>\n",
       "      <td>0.559506</td>\n",
       "      <td>0.061763</td>\n",
       "      <td>0.789313</td>\n",
       "    </tr>\n",
       "    <tr>\n",
       "      <th>19</th>\n",
       "      <td>0.241403</td>\n",
       "      <td>0.917171</td>\n",
       "      <td>0.566310</td>\n",
       "      <td>0.842312</td>\n",
       "      <td>0.118485</td>\n",
       "      <td>0.005715</td>\n",
       "      <td>0.862663</td>\n",
       "      <td>0.172522</td>\n",
       "      <td>0.202822</td>\n",
       "      <td>0.578471</td>\n",
       "      <td>0.059565</td>\n",
       "      <td>0.776471</td>\n",
       "    </tr>\n",
       "    <tr>\n",
       "      <th>20</th>\n",
       "      <td>0.401198</td>\n",
       "      <td>0.126297</td>\n",
       "      <td>0.731672</td>\n",
       "      <td>0.627715</td>\n",
       "      <td>0.051484</td>\n",
       "      <td>0.953483</td>\n",
       "      <td>0.891673</td>\n",
       "      <td>0.113939</td>\n",
       "      <td>0.182326</td>\n",
       "      <td>0.630405</td>\n",
       "      <td>0.057840</td>\n",
       "      <td>0.759677</td>\n",
       "    </tr>\n",
       "    <tr>\n",
       "      <th>21</th>\n",
       "      <td>0.290099</td>\n",
       "      <td>0.927094</td>\n",
       "      <td>0.125874</td>\n",
       "      <td>0.864815</td>\n",
       "      <td>0.130006</td>\n",
       "      <td>0.005288</td>\n",
       "      <td>0.056756</td>\n",
       "      <td>0.185346</td>\n",
       "      <td>0.190990</td>\n",
       "      <td>0.569435</td>\n",
       "      <td>0.059015</td>\n",
       "      <td>0.753846</td>\n",
       "    </tr>\n",
       "    <tr>\n",
       "      <th>22</th>\n",
       "      <td>0.698307</td>\n",
       "      <td>0.837745</td>\n",
       "      <td>0.512276</td>\n",
       "      <td>0.887878</td>\n",
       "      <td>0.101453</td>\n",
       "      <td>0.100214</td>\n",
       "      <td>0.015444</td>\n",
       "      <td>0.190152</td>\n",
       "      <td>0.835259</td>\n",
       "      <td>0.637186</td>\n",
       "      <td>0.049869</td>\n",
       "      <td>0.801460</td>\n",
       "    </tr>\n",
       "    <tr>\n",
       "      <th>23</th>\n",
       "      <td>0.595062</td>\n",
       "      <td>0.703009</td>\n",
       "      <td>0.638777</td>\n",
       "      <td>0.882639</td>\n",
       "      <td>0.074563</td>\n",
       "      <td>0.065370</td>\n",
       "      <td>0.019241</td>\n",
       "      <td>0.134026</td>\n",
       "      <td>0.207519</td>\n",
       "      <td>0.579484</td>\n",
       "      <td>0.056226</td>\n",
       "      <td>0.785841</td>\n",
       "    </tr>\n",
       "    <tr>\n",
       "      <th>24</th>\n",
       "      <td>0.767365</td>\n",
       "      <td>0.796763</td>\n",
       "      <td>0.877990</td>\n",
       "      <td>0.889709</td>\n",
       "      <td>0.108067</td>\n",
       "      <td>0.070212</td>\n",
       "      <td>0.010387</td>\n",
       "      <td>0.151864</td>\n",
       "      <td>0.789602</td>\n",
       "      <td>0.556252</td>\n",
       "      <td>0.048587</td>\n",
       "      <td>0.801053</td>\n",
       "    </tr>\n",
       "    <tr>\n",
       "      <th>25</th>\n",
       "      <td>0.234418</td>\n",
       "      <td>0.684185</td>\n",
       "      <td>0.248312</td>\n",
       "      <td>0.774825</td>\n",
       "      <td>0.101640</td>\n",
       "      <td>0.276638</td>\n",
       "      <td>0.869262</td>\n",
       "      <td>0.151811</td>\n",
       "      <td>0.138409</td>\n",
       "      <td>0.490273</td>\n",
       "      <td>0.059090</td>\n",
       "      <td>0.664000</td>\n",
       "    </tr>\n",
       "    <tr>\n",
       "      <th>26</th>\n",
       "      <td>0.505225</td>\n",
       "      <td>0.860917</td>\n",
       "      <td>0.840220</td>\n",
       "      <td>0.891040</td>\n",
       "      <td>0.102595</td>\n",
       "      <td>0.046861</td>\n",
       "      <td>0.046819</td>\n",
       "      <td>0.176940</td>\n",
       "      <td>0.536164</td>\n",
       "      <td>0.655243</td>\n",
       "      <td>0.050768</td>\n",
       "      <td>0.793939</td>\n",
       "    </tr>\n",
       "    <tr>\n",
       "      <th>27</th>\n",
       "      <td>0.597581</td>\n",
       "      <td>0.822884</td>\n",
       "      <td>0.115574</td>\n",
       "      <td>0.898332</td>\n",
       "      <td>0.081500</td>\n",
       "      <td>0.043788</td>\n",
       "      <td>0.020098</td>\n",
       "      <td>0.173710</td>\n",
       "      <td>0.357187</td>\n",
       "      <td>0.577945</td>\n",
       "      <td>0.050187</td>\n",
       "      <td>0.801550</td>\n",
       "    </tr>\n",
       "    <tr>\n",
       "      <th>28</th>\n",
       "      <td>0.582333</td>\n",
       "      <td>0.299914</td>\n",
       "      <td>0.429752</td>\n",
       "      <td>0.769959</td>\n",
       "      <td>0.054819</td>\n",
       "      <td>0.802532</td>\n",
       "      <td>0.026014</td>\n",
       "      <td>0.138367</td>\n",
       "      <td>0.494869</td>\n",
       "      <td>0.544217</td>\n",
       "      <td>0.052949</td>\n",
       "      <td>0.778512</td>\n",
       "    </tr>\n",
       "    <tr>\n",
       "      <th>29</th>\n",
       "      <td>0.681685</td>\n",
       "      <td>0.755019</td>\n",
       "      <td>0.536628</td>\n",
       "      <td>0.888146</td>\n",
       "      <td>0.082827</td>\n",
       "      <td>0.086636</td>\n",
       "      <td>0.019407</td>\n",
       "      <td>0.166445</td>\n",
       "      <td>0.523400</td>\n",
       "      <td>0.544748</td>\n",
       "      <td>0.050149</td>\n",
       "      <td>0.797087</td>\n",
       "    </tr>\n",
       "    <tr>\n",
       "      <th>30</th>\n",
       "      <td>0.373637</td>\n",
       "      <td>0.153005</td>\n",
       "      <td>0.124459</td>\n",
       "      <td>0.694787</td>\n",
       "      <td>0.048400</td>\n",
       "      <td>0.915699</td>\n",
       "      <td>0.040664</td>\n",
       "      <td>0.159190</td>\n",
       "      <td>0.196650</td>\n",
       "      <td>0.474437</td>\n",
       "      <td>0.062132</td>\n",
       "      <td>0.750000</td>\n",
       "    </tr>\n",
       "    <tr>\n",
       "      <th>31</th>\n",
       "      <td>0.576208</td>\n",
       "      <td>0.247757</td>\n",
       "      <td>0.833516</td>\n",
       "      <td>0.761582</td>\n",
       "      <td>0.053932</td>\n",
       "      <td>0.856208</td>\n",
       "      <td>0.049890</td>\n",
       "      <td>0.132247</td>\n",
       "      <td>0.372463</td>\n",
       "      <td>0.551475</td>\n",
       "      <td>0.055983</td>\n",
       "      <td>0.785542</td>\n",
       "    </tr>\n",
       "    <tr>\n",
       "      <th>32</th>\n",
       "      <td>0.293009</td>\n",
       "      <td>0.907452</td>\n",
       "      <td>0.125778</td>\n",
       "      <td>0.837596</td>\n",
       "      <td>0.100063</td>\n",
       "      <td>0.015710</td>\n",
       "      <td>0.865072</td>\n",
       "      <td>0.391625</td>\n",
       "      <td>0.264329</td>\n",
       "      <td>0.562574</td>\n",
       "      <td>0.057239</td>\n",
       "      <td>0.780822</td>\n",
       "    </tr>\n",
       "    <tr>\n",
       "      <th>33</th>\n",
       "      <td>0.271608</td>\n",
       "      <td>0.142239</td>\n",
       "      <td>0.689065</td>\n",
       "      <td>0.683518</td>\n",
       "      <td>0.045449</td>\n",
       "      <td>0.928788</td>\n",
       "      <td>0.064306</td>\n",
       "      <td>0.179587</td>\n",
       "      <td>0.147904</td>\n",
       "      <td>0.496019</td>\n",
       "      <td>0.063764</td>\n",
       "      <td>0.698551</td>\n",
       "    </tr>\n",
       "    <tr>\n",
       "      <th>34</th>\n",
       "      <td>0.751410</td>\n",
       "      <td>0.499310</td>\n",
       "      <td>0.793736</td>\n",
       "      <td>0.821184</td>\n",
       "      <td>0.097349</td>\n",
       "      <td>0.178533</td>\n",
       "      <td>0.022081</td>\n",
       "      <td>0.138951</td>\n",
       "      <td>0.742030</td>\n",
       "      <td>0.494889</td>\n",
       "      <td>0.049413</td>\n",
       "      <td>0.798319</td>\n",
       "    </tr>\n",
       "    <tr>\n",
       "      <th>35</th>\n",
       "      <td>0.369524</td>\n",
       "      <td>0.864637</td>\n",
       "      <td>0.774226</td>\n",
       "      <td>0.835292</td>\n",
       "      <td>0.081885</td>\n",
       "      <td>0.015625</td>\n",
       "      <td>0.830602</td>\n",
       "      <td>0.252090</td>\n",
       "      <td>0.397417</td>\n",
       "      <td>0.592943</td>\n",
       "      <td>0.059530</td>\n",
       "      <td>0.786813</td>\n",
       "    </tr>\n",
       "    <tr>\n",
       "      <th>36</th>\n",
       "      <td>0.626566</td>\n",
       "      <td>0.361037</td>\n",
       "      <td>0.563973</td>\n",
       "      <td>0.743806</td>\n",
       "      <td>0.060498</td>\n",
       "      <td>0.803436</td>\n",
       "      <td>0.773961</td>\n",
       "      <td>0.189084</td>\n",
       "      <td>0.611124</td>\n",
       "      <td>0.537830</td>\n",
       "      <td>0.060273</td>\n",
       "      <td>0.781481</td>\n",
       "    </tr>\n",
       "    <tr>\n",
       "      <th>37</th>\n",
       "      <td>0.296830</td>\n",
       "      <td>0.915404</td>\n",
       "      <td>0.760490</td>\n",
       "      <td>0.856262</td>\n",
       "      <td>0.125621</td>\n",
       "      <td>0.003837</td>\n",
       "      <td>0.469631</td>\n",
       "      <td>0.206795</td>\n",
       "      <td>0.204078</td>\n",
       "      <td>0.566168</td>\n",
       "      <td>0.064826</td>\n",
       "      <td>0.773077</td>\n",
       "    </tr>\n",
       "    <tr>\n",
       "      <th>38</th>\n",
       "      <td>0.656028</td>\n",
       "      <td>0.450926</td>\n",
       "      <td>0.069856</td>\n",
       "      <td>0.805589</td>\n",
       "      <td>0.061323</td>\n",
       "      <td>0.744219</td>\n",
       "      <td>0.042842</td>\n",
       "      <td>0.170896</td>\n",
       "      <td>0.740358</td>\n",
       "      <td>0.503788</td>\n",
       "      <td>0.040257</td>\n",
       "      <td>0.791579</td>\n",
       "    </tr>\n",
       "    <tr>\n",
       "      <th>39</th>\n",
       "      <td>0.520764</td>\n",
       "      <td>0.837829</td>\n",
       "      <td>0.124675</td>\n",
       "      <td>0.883490</td>\n",
       "      <td>0.078200</td>\n",
       "      <td>0.037211</td>\n",
       "      <td>0.027340</td>\n",
       "      <td>0.197601</td>\n",
       "      <td>0.662603</td>\n",
       "      <td>0.675499</td>\n",
       "      <td>0.048332</td>\n",
       "      <td>0.801429</td>\n",
       "    </tr>\n",
       "    <tr>\n",
       "      <th>40</th>\n",
       "      <td>0.474911</td>\n",
       "      <td>0.892746</td>\n",
       "      <td>0.736771</td>\n",
       "      <td>0.892754</td>\n",
       "      <td>0.103590</td>\n",
       "      <td>0.036563</td>\n",
       "      <td>0.049445</td>\n",
       "      <td>0.586142</td>\n",
       "      <td>0.250269</td>\n",
       "      <td>0.600118</td>\n",
       "      <td>0.060344</td>\n",
       "      <td>0.779104</td>\n",
       "    </tr>\n",
       "    <tr>\n",
       "      <th>41</th>\n",
       "      <td>0.607308</td>\n",
       "      <td>0.581467</td>\n",
       "      <td>0.852525</td>\n",
       "      <td>0.831459</td>\n",
       "      <td>0.075096</td>\n",
       "      <td>0.684538</td>\n",
       "      <td>0.012302</td>\n",
       "      <td>0.176028</td>\n",
       "      <td>0.830141</td>\n",
       "      <td>0.697471</td>\n",
       "      <td>0.043947</td>\n",
       "      <td>0.786667</td>\n",
       "    </tr>\n",
       "    <tr>\n",
       "      <th>42</th>\n",
       "      <td>0.212642</td>\n",
       "      <td>0.913531</td>\n",
       "      <td>0.117898</td>\n",
       "      <td>0.841304</td>\n",
       "      <td>0.111937</td>\n",
       "      <td>0.000282</td>\n",
       "      <td>0.857218</td>\n",
       "      <td>0.158987</td>\n",
       "      <td>0.238295</td>\n",
       "      <td>0.751962</td>\n",
       "      <td>0.063191</td>\n",
       "      <td>0.775000</td>\n",
       "    </tr>\n",
       "    <tr>\n",
       "      <th>43</th>\n",
       "      <td>0.231543</td>\n",
       "      <td>0.095814</td>\n",
       "      <td>0.797707</td>\n",
       "      <td>0.593577</td>\n",
       "      <td>0.046811</td>\n",
       "      <td>0.950251</td>\n",
       "      <td>0.900919</td>\n",
       "      <td>0.123328</td>\n",
       "      <td>0.092634</td>\n",
       "      <td>0.376014</td>\n",
       "      <td>0.089675</td>\n",
       "      <td>0.762162</td>\n",
       "    </tr>\n",
       "    <tr>\n",
       "      <th>44</th>\n",
       "      <td>0.703314</td>\n",
       "      <td>0.678948</td>\n",
       "      <td>0.410985</td>\n",
       "      <td>0.851912</td>\n",
       "      <td>0.087973</td>\n",
       "      <td>0.587548</td>\n",
       "      <td>0.007480</td>\n",
       "      <td>0.177039</td>\n",
       "      <td>0.861707</td>\n",
       "      <td>0.573592</td>\n",
       "      <td>0.042801</td>\n",
       "      <td>0.802083</td>\n",
       "    </tr>\n",
       "    <tr>\n",
       "      <th>45</th>\n",
       "      <td>0.452401</td>\n",
       "      <td>0.833302</td>\n",
       "      <td>0.164666</td>\n",
       "      <td>0.851077</td>\n",
       "      <td>0.072140</td>\n",
       "      <td>0.070444</td>\n",
       "      <td>0.780615</td>\n",
       "      <td>0.180880</td>\n",
       "      <td>0.674571</td>\n",
       "      <td>0.612829</td>\n",
       "      <td>0.050317</td>\n",
       "      <td>0.788679</td>\n",
       "    </tr>\n",
       "    <tr>\n",
       "      <th>46</th>\n",
       "      <td>0.697177</td>\n",
       "      <td>0.778489</td>\n",
       "      <td>0.721470</td>\n",
       "      <td>0.855419</td>\n",
       "      <td>0.062606</td>\n",
       "      <td>0.089411</td>\n",
       "      <td>0.728826</td>\n",
       "      <td>0.215163</td>\n",
       "      <td>0.747359</td>\n",
       "      <td>0.607426</td>\n",
       "      <td>0.063865</td>\n",
       "      <td>0.791489</td>\n",
       "    </tr>\n",
       "    <tr>\n",
       "      <th>47</th>\n",
       "      <td>0.684787</td>\n",
       "      <td>0.783094</td>\n",
       "      <td>0.238422</td>\n",
       "      <td>0.878666</td>\n",
       "      <td>0.091957</td>\n",
       "      <td>0.057628</td>\n",
       "      <td>0.800441</td>\n",
       "      <td>0.157655</td>\n",
       "      <td>0.286107</td>\n",
       "      <td>0.582563</td>\n",
       "      <td>0.060663</td>\n",
       "      <td>0.800000</td>\n",
       "    </tr>\n",
       "    <tr>\n",
       "      <th>48</th>\n",
       "      <td>0.512287</td>\n",
       "      <td>0.503771</td>\n",
       "      <td>0.707242</td>\n",
       "      <td>0.832011</td>\n",
       "      <td>0.052058</td>\n",
       "      <td>0.452420</td>\n",
       "      <td>0.023116</td>\n",
       "      <td>0.154727</td>\n",
       "      <td>0.370155</td>\n",
       "      <td>0.563951</td>\n",
       "      <td>0.058167</td>\n",
       "      <td>0.771186</td>\n",
       "    </tr>\n",
       "    <tr>\n",
       "      <th>49</th>\n",
       "      <td>0.620758</td>\n",
       "      <td>0.492927</td>\n",
       "      <td>0.757025</td>\n",
       "      <td>0.808435</td>\n",
       "      <td>0.066740</td>\n",
       "      <td>0.675429</td>\n",
       "      <td>0.019134</td>\n",
       "      <td>0.174183</td>\n",
       "      <td>0.734730</td>\n",
       "      <td>0.503879</td>\n",
       "      <td>0.053156</td>\n",
       "      <td>0.778182</td>\n",
       "    </tr>\n",
       "  </tbody>\n",
       "</table>\n",
       "</div>"
      ],
      "text/plain": [
       "             danceability    energy       key  loudness  speechiness  \\\n",
       "new_cluster                                                            \n",
       "0                0.748390  0.526939  0.147528  0.814037     0.068068   \n",
       "1                0.816066  0.691817  0.506724  0.869800     0.113007   \n",
       "2                0.788514  0.707465  0.090269  0.880347     0.150613   \n",
       "3                0.577498  0.405286  0.121212  0.808439     0.055331   \n",
       "4                0.518893  0.304738  0.692308  0.742886     0.071732   \n",
       "5                0.582129  0.715095  0.121622  0.876365     0.102869   \n",
       "6                0.748110  0.756289  0.862626  0.876268     0.107470   \n",
       "7                0.690572  0.790483  0.750000  0.879678     0.151609   \n",
       "8                0.619861  0.577376  0.163816  0.863989     0.079922   \n",
       "9                0.762873  0.807110  0.082418  0.887058     0.098164   \n",
       "10               0.696964  0.709917  0.906926  0.878488     0.089823   \n",
       "11               0.306073  0.888643  0.159740  0.851160     0.106306   \n",
       "12               0.581605  0.603853  0.232620  0.828191     0.094371   \n",
       "13               0.298255  0.943289  0.890750  0.875307     0.136968   \n",
       "14               0.245143  0.078042  0.204866  0.565109     0.047471   \n",
       "15               0.247741  0.908217  0.903030  0.841763     0.124690   \n",
       "16               0.422479  0.165706  0.163787  0.658195     0.049605   \n",
       "17               0.620244  0.831586  0.236677  0.891974     0.108042   \n",
       "18               0.296185  0.931389  0.524636  0.873284     0.138126   \n",
       "19               0.241403  0.917171  0.566310  0.842312     0.118485   \n",
       "20               0.401198  0.126297  0.731672  0.627715     0.051484   \n",
       "21               0.290099  0.927094  0.125874  0.864815     0.130006   \n",
       "22               0.698307  0.837745  0.512276  0.887878     0.101453   \n",
       "23               0.595062  0.703009  0.638777  0.882639     0.074563   \n",
       "24               0.767365  0.796763  0.877990  0.889709     0.108067   \n",
       "25               0.234418  0.684185  0.248312  0.774825     0.101640   \n",
       "26               0.505225  0.860917  0.840220  0.891040     0.102595   \n",
       "27               0.597581  0.822884  0.115574  0.898332     0.081500   \n",
       "28               0.582333  0.299914  0.429752  0.769959     0.054819   \n",
       "29               0.681685  0.755019  0.536628  0.888146     0.082827   \n",
       "30               0.373637  0.153005  0.124459  0.694787     0.048400   \n",
       "31               0.576208  0.247757  0.833516  0.761582     0.053932   \n",
       "32               0.293009  0.907452  0.125778  0.837596     0.100063   \n",
       "33               0.271608  0.142239  0.689065  0.683518     0.045449   \n",
       "34               0.751410  0.499310  0.793736  0.821184     0.097349   \n",
       "35               0.369524  0.864637  0.774226  0.835292     0.081885   \n",
       "36               0.626566  0.361037  0.563973  0.743806     0.060498   \n",
       "37               0.296830  0.915404  0.760490  0.856262     0.125621   \n",
       "38               0.656028  0.450926  0.069856  0.805589     0.061323   \n",
       "39               0.520764  0.837829  0.124675  0.883490     0.078200   \n",
       "40               0.474911  0.892746  0.736771  0.892754     0.103590   \n",
       "41               0.607308  0.581467  0.852525  0.831459     0.075096   \n",
       "42               0.212642  0.913531  0.117898  0.841304     0.111937   \n",
       "43               0.231543  0.095814  0.797707  0.593577     0.046811   \n",
       "44               0.703314  0.678948  0.410985  0.851912     0.087973   \n",
       "45               0.452401  0.833302  0.164666  0.851077     0.072140   \n",
       "46               0.697177  0.778489  0.721470  0.855419     0.062606   \n",
       "47               0.684787  0.783094  0.238422  0.878666     0.091957   \n",
       "48               0.512287  0.503771  0.707242  0.832011     0.052058   \n",
       "49               0.620758  0.492927  0.757025  0.808435     0.066740   \n",
       "\n",
       "             acousticness  instrumentalness  liveness   valence     tempo  \\\n",
       "new_cluster                                                                 \n",
       "0                0.225264          0.015976  0.111018  0.824757  0.558006   \n",
       "1                0.118939          0.007001  0.130755  0.785607  0.485873   \n",
       "2                0.099906          0.011399  0.138757  0.570129  0.502709   \n",
       "3                0.554874          0.036941  0.147407  0.349217  0.531999   \n",
       "4                0.809816          0.072934  0.767477  0.374951  0.480786   \n",
       "5                0.485632          0.021567  0.136740  0.565427  0.617431   \n",
       "6                0.413063          0.007960  0.150401  0.809791  0.567302   \n",
       "7                0.163353          0.000506  0.666599  0.649272  0.552489   \n",
       "8                0.107236          0.010201  0.158456  0.248845  0.586264   \n",
       "9                0.140733          0.004580  0.167954  0.852251  0.558479   \n",
       "10               0.114379          0.010716  0.180819  0.420842  0.543721   \n",
       "11               0.017057          0.460885  0.200297  0.231948  0.569901   \n",
       "12               0.548518          0.001800  0.660617  0.761242  0.593057   \n",
       "13               0.006805          0.062341  0.155906  0.175083  0.555873   \n",
       "14               0.947169          0.863516  0.125929  0.089306  0.380103   \n",
       "15               0.018230          0.846472  0.191700  0.161441  0.532440   \n",
       "16               0.941311          0.890590  0.153059  0.225324  0.552460   \n",
       "17               0.076985          0.014469  0.607641  0.536975  0.572747   \n",
       "18               0.006589          0.064764  0.182345  0.200373  0.559506   \n",
       "19               0.005715          0.862663  0.172522  0.202822  0.578471   \n",
       "20               0.953483          0.891673  0.113939  0.182326  0.630405   \n",
       "21               0.005288          0.056756  0.185346  0.190990  0.569435   \n",
       "22               0.100214          0.015444  0.190152  0.835259  0.637186   \n",
       "23               0.065370          0.019241  0.134026  0.207519  0.579484   \n",
       "24               0.070212          0.010387  0.151864  0.789602  0.556252   \n",
       "25               0.276638          0.869262  0.151811  0.138409  0.490273   \n",
       "26               0.046861          0.046819  0.176940  0.536164  0.655243   \n",
       "27               0.043788          0.020098  0.173710  0.357187  0.577945   \n",
       "28               0.802532          0.026014  0.138367  0.494869  0.544217   \n",
       "29               0.086636          0.019407  0.166445  0.523400  0.544748   \n",
       "30               0.915699          0.040664  0.159190  0.196650  0.474437   \n",
       "31               0.856208          0.049890  0.132247  0.372463  0.551475   \n",
       "32               0.015710          0.865072  0.391625  0.264329  0.562574   \n",
       "33               0.928788          0.064306  0.179587  0.147904  0.496019   \n",
       "34               0.178533          0.022081  0.138951  0.742030  0.494889   \n",
       "35               0.015625          0.830602  0.252090  0.397417  0.592943   \n",
       "36               0.803436          0.773961  0.189084  0.611124  0.537830   \n",
       "37               0.003837          0.469631  0.206795  0.204078  0.566168   \n",
       "38               0.744219          0.042842  0.170896  0.740358  0.503788   \n",
       "39               0.037211          0.027340  0.197601  0.662603  0.675499   \n",
       "40               0.036563          0.049445  0.586142  0.250269  0.600118   \n",
       "41               0.684538          0.012302  0.176028  0.830141  0.697471   \n",
       "42               0.000282          0.857218  0.158987  0.238295  0.751962   \n",
       "43               0.950251          0.900919  0.123328  0.092634  0.376014   \n",
       "44               0.587548          0.007480  0.177039  0.861707  0.573592   \n",
       "45               0.070444          0.780615  0.180880  0.674571  0.612829   \n",
       "46               0.089411          0.728826  0.215163  0.747359  0.607426   \n",
       "47               0.057628          0.800441  0.157655  0.286107  0.582563   \n",
       "48               0.452420          0.023116  0.154727  0.370155  0.563951   \n",
       "49               0.675429          0.019134  0.174183  0.734730  0.503879   \n",
       "\n",
       "             duration_ms  time_signature  \n",
       "new_cluster                               \n",
       "0               0.049175        0.798246  \n",
       "1               0.051134        0.797633  \n",
       "2               0.050165        0.800000  \n",
       "3               0.060459        0.771429  \n",
       "4               0.053939        0.800000  \n",
       "5               0.046377        0.791892  \n",
       "6               0.049127        0.800000  \n",
       "7               0.052605        0.803333  \n",
       "8               0.055927        0.790099  \n",
       "9               0.049585        0.798901  \n",
       "10              0.052462        0.800000  \n",
       "11              0.060368        0.745714  \n",
       "12              0.050139        0.800000  \n",
       "13              0.058109        0.775439  \n",
       "14              0.117547        0.754930  \n",
       "15              0.061308        0.770000  \n",
       "16              0.062241        0.776860  \n",
       "17              0.054371        0.796552  \n",
       "18              0.061763        0.789313  \n",
       "19              0.059565        0.776471  \n",
       "20              0.057840        0.759677  \n",
       "21              0.059015        0.753846  \n",
       "22              0.049869        0.801460  \n",
       "23              0.056226        0.785841  \n",
       "24              0.048587        0.801053  \n",
       "25              0.059090        0.664000  \n",
       "26              0.050768        0.793939  \n",
       "27              0.050187        0.801550  \n",
       "28              0.052949        0.778512  \n",
       "29              0.050149        0.797087  \n",
       "30              0.062132        0.750000  \n",
       "31              0.055983        0.785542  \n",
       "32              0.057239        0.780822  \n",
       "33              0.063764        0.698551  \n",
       "34              0.049413        0.798319  \n",
       "35              0.059530        0.786813  \n",
       "36              0.060273        0.781481  \n",
       "37              0.064826        0.773077  \n",
       "38              0.040257        0.791579  \n",
       "39              0.048332        0.801429  \n",
       "40              0.060344        0.779104  \n",
       "41              0.043947        0.786667  \n",
       "42              0.063191        0.775000  \n",
       "43              0.089675        0.762162  \n",
       "44              0.042801        0.802083  \n",
       "45              0.050317        0.788679  \n",
       "46              0.063865        0.791489  \n",
       "47              0.060663        0.800000  \n",
       "48              0.058167        0.771186  \n",
       "49              0.053156        0.778182  "
      ]
     },
     "execution_count": 47,
     "metadata": {},
     "output_type": "execute_result"
    }
   ],
   "source": [
    "cluster_means.drop(columns='cluster', inplace=True)\n",
    "cluster_means"
   ]
  },
  {
   "cell_type": "code",
   "execution_count": 48,
   "metadata": {},
   "outputs": [
    {
     "name": "stdout",
     "output_type": "stream",
     "text": [
      "Saved feature profile for Cluster 0 to D:\\data_science_bootcamp\\week_07\\Moosic\\feature_importance_clusters\\cluster_0_features.png\n",
      "Saved feature profile for Cluster 1 to D:\\data_science_bootcamp\\week_07\\Moosic\\feature_importance_clusters\\cluster_1_features.png\n",
      "Saved feature profile for Cluster 2 to D:\\data_science_bootcamp\\week_07\\Moosic\\feature_importance_clusters\\cluster_2_features.png\n",
      "Saved feature profile for Cluster 3 to D:\\data_science_bootcamp\\week_07\\Moosic\\feature_importance_clusters\\cluster_3_features.png\n",
      "Saved feature profile for Cluster 4 to D:\\data_science_bootcamp\\week_07\\Moosic\\feature_importance_clusters\\cluster_4_features.png\n",
      "Saved feature profile for Cluster 5 to D:\\data_science_bootcamp\\week_07\\Moosic\\feature_importance_clusters\\cluster_5_features.png\n",
      "Saved feature profile for Cluster 6 to D:\\data_science_bootcamp\\week_07\\Moosic\\feature_importance_clusters\\cluster_6_features.png\n",
      "Saved feature profile for Cluster 7 to D:\\data_science_bootcamp\\week_07\\Moosic\\feature_importance_clusters\\cluster_7_features.png\n",
      "Saved feature profile for Cluster 8 to D:\\data_science_bootcamp\\week_07\\Moosic\\feature_importance_clusters\\cluster_8_features.png\n",
      "Saved feature profile for Cluster 9 to D:\\data_science_bootcamp\\week_07\\Moosic\\feature_importance_clusters\\cluster_9_features.png\n",
      "Saved feature profile for Cluster 10 to D:\\data_science_bootcamp\\week_07\\Moosic\\feature_importance_clusters\\cluster_10_features.png\n",
      "Saved feature profile for Cluster 11 to D:\\data_science_bootcamp\\week_07\\Moosic\\feature_importance_clusters\\cluster_11_features.png\n",
      "Saved feature profile for Cluster 12 to D:\\data_science_bootcamp\\week_07\\Moosic\\feature_importance_clusters\\cluster_12_features.png\n",
      "Saved feature profile for Cluster 13 to D:\\data_science_bootcamp\\week_07\\Moosic\\feature_importance_clusters\\cluster_13_features.png\n",
      "Saved feature profile for Cluster 14 to D:\\data_science_bootcamp\\week_07\\Moosic\\feature_importance_clusters\\cluster_14_features.png\n",
      "Saved feature profile for Cluster 15 to D:\\data_science_bootcamp\\week_07\\Moosic\\feature_importance_clusters\\cluster_15_features.png\n",
      "Saved feature profile for Cluster 16 to D:\\data_science_bootcamp\\week_07\\Moosic\\feature_importance_clusters\\cluster_16_features.png\n",
      "Saved feature profile for Cluster 17 to D:\\data_science_bootcamp\\week_07\\Moosic\\feature_importance_clusters\\cluster_17_features.png\n",
      "Saved feature profile for Cluster 18 to D:\\data_science_bootcamp\\week_07\\Moosic\\feature_importance_clusters\\cluster_18_features.png\n",
      "Saved feature profile for Cluster 19 to D:\\data_science_bootcamp\\week_07\\Moosic\\feature_importance_clusters\\cluster_19_features.png\n",
      "Saved feature profile for Cluster 20 to D:\\data_science_bootcamp\\week_07\\Moosic\\feature_importance_clusters\\cluster_20_features.png\n",
      "Saved feature profile for Cluster 21 to D:\\data_science_bootcamp\\week_07\\Moosic\\feature_importance_clusters\\cluster_21_features.png\n",
      "Saved feature profile for Cluster 22 to D:\\data_science_bootcamp\\week_07\\Moosic\\feature_importance_clusters\\cluster_22_features.png\n",
      "Saved feature profile for Cluster 23 to D:\\data_science_bootcamp\\week_07\\Moosic\\feature_importance_clusters\\cluster_23_features.png\n",
      "Saved feature profile for Cluster 24 to D:\\data_science_bootcamp\\week_07\\Moosic\\feature_importance_clusters\\cluster_24_features.png\n",
      "Saved feature profile for Cluster 25 to D:\\data_science_bootcamp\\week_07\\Moosic\\feature_importance_clusters\\cluster_25_features.png\n",
      "Saved feature profile for Cluster 26 to D:\\data_science_bootcamp\\week_07\\Moosic\\feature_importance_clusters\\cluster_26_features.png\n",
      "Saved feature profile for Cluster 27 to D:\\data_science_bootcamp\\week_07\\Moosic\\feature_importance_clusters\\cluster_27_features.png\n",
      "Saved feature profile for Cluster 28 to D:\\data_science_bootcamp\\week_07\\Moosic\\feature_importance_clusters\\cluster_28_features.png\n",
      "Saved feature profile for Cluster 29 to D:\\data_science_bootcamp\\week_07\\Moosic\\feature_importance_clusters\\cluster_29_features.png\n",
      "Saved feature profile for Cluster 30 to D:\\data_science_bootcamp\\week_07\\Moosic\\feature_importance_clusters\\cluster_30_features.png\n",
      "Saved feature profile for Cluster 31 to D:\\data_science_bootcamp\\week_07\\Moosic\\feature_importance_clusters\\cluster_31_features.png\n",
      "Saved feature profile for Cluster 32 to D:\\data_science_bootcamp\\week_07\\Moosic\\feature_importance_clusters\\cluster_32_features.png\n",
      "Saved feature profile for Cluster 33 to D:\\data_science_bootcamp\\week_07\\Moosic\\feature_importance_clusters\\cluster_33_features.png\n",
      "Saved feature profile for Cluster 34 to D:\\data_science_bootcamp\\week_07\\Moosic\\feature_importance_clusters\\cluster_34_features.png\n",
      "Saved feature profile for Cluster 35 to D:\\data_science_bootcamp\\week_07\\Moosic\\feature_importance_clusters\\cluster_35_features.png\n",
      "Saved feature profile for Cluster 36 to D:\\data_science_bootcamp\\week_07\\Moosic\\feature_importance_clusters\\cluster_36_features.png\n",
      "Saved feature profile for Cluster 37 to D:\\data_science_bootcamp\\week_07\\Moosic\\feature_importance_clusters\\cluster_37_features.png\n",
      "Saved feature profile for Cluster 38 to D:\\data_science_bootcamp\\week_07\\Moosic\\feature_importance_clusters\\cluster_38_features.png\n",
      "Saved feature profile for Cluster 39 to D:\\data_science_bootcamp\\week_07\\Moosic\\feature_importance_clusters\\cluster_39_features.png\n",
      "Saved feature profile for Cluster 40 to D:\\data_science_bootcamp\\week_07\\Moosic\\feature_importance_clusters\\cluster_40_features.png\n",
      "Saved feature profile for Cluster 41 to D:\\data_science_bootcamp\\week_07\\Moosic\\feature_importance_clusters\\cluster_41_features.png\n",
      "Saved feature profile for Cluster 42 to D:\\data_science_bootcamp\\week_07\\Moosic\\feature_importance_clusters\\cluster_42_features.png\n",
      "Saved feature profile for Cluster 43 to D:\\data_science_bootcamp\\week_07\\Moosic\\feature_importance_clusters\\cluster_43_features.png\n",
      "Saved feature profile for Cluster 44 to D:\\data_science_bootcamp\\week_07\\Moosic\\feature_importance_clusters\\cluster_44_features.png\n",
      "Saved feature profile for Cluster 45 to D:\\data_science_bootcamp\\week_07\\Moosic\\feature_importance_clusters\\cluster_45_features.png\n",
      "Saved feature profile for Cluster 46 to D:\\data_science_bootcamp\\week_07\\Moosic\\feature_importance_clusters\\cluster_46_features.png\n",
      "Saved feature profile for Cluster 47 to D:\\data_science_bootcamp\\week_07\\Moosic\\feature_importance_clusters\\cluster_47_features.png\n",
      "Saved feature profile for Cluster 48 to D:\\data_science_bootcamp\\week_07\\Moosic\\feature_importance_clusters\\cluster_48_features.png\n",
      "Saved feature profile for Cluster 49 to D:\\data_science_bootcamp\\week_07\\Moosic\\feature_importance_clusters\\cluster_49_features.png\n"
     ]
    }
   ],
   "source": [
    "import os\n",
    "filepath = r\"D:\\data_science_bootcamp\\week_07\\Moosic\\feature_importance_clusters\"\n",
    "\n",
    "# Create the directory if it doesn't exist\n",
    "os.makedirs(filepath, exist_ok=True)\n",
    "\n",
    "# Loop through all clusters and generate a bar plot for each\n",
    "for cluster_id in cluster_means.index:\n",
    "    plt.figure(figsize=(10, 6))\n",
    "    cluster_means.loc[cluster_id].sort_values(ascending=False).plot(kind='bar', color='skyblue')\n",
    "    plt.title(f'Feature Profile of Cluster {cluster_id}')\n",
    "    plt.xlabel('Feature')\n",
    "    plt.ylabel('Mean Value')\n",
    "    plt.xticks(rotation=45)\n",
    "    plt.grid(axis='y')\n",
    "    \n",
    "    # Create a unique filename for each cluster\n",
    "    filename = os.path.join(filepath, f\"cluster_{cluster_id}_features.png\")\n",
    "    \n",
    "    plt.tight_layout()  # Ensures labels fit within the figure\n",
    "    plt.savefig(filename, dpi=300)\n",
    "    plt.close()  # Close the figure to free memory\n",
    "    \n",
    "    print(f\"Saved feature profile for Cluster {cluster_id} to {filename}\")"
   ]
  },
  {
   "cell_type": "code",
   "execution_count": 49,
   "metadata": {},
   "outputs": [
    {
     "name": "stdout",
     "output_type": "stream",
     "text": [
      "Saved feature profile for Cluster 1 to D:\\data_science_bootcamp\\week_07\\Moosic\\feature_importance_clusters_dance\\cluster_1_features.png\n",
      "Saved feature profile for Cluster 2 to D:\\data_science_bootcamp\\week_07\\Moosic\\feature_importance_clusters_dance\\cluster_2_features.png\n",
      "Saved feature profile for Cluster 24 to D:\\data_science_bootcamp\\week_07\\Moosic\\feature_importance_clusters_dance\\cluster_24_features.png\n",
      "Saved feature profile for Cluster 9 to D:\\data_science_bootcamp\\week_07\\Moosic\\feature_importance_clusters_dance\\cluster_9_features.png\n",
      "Saved feature profile for Cluster 34 to D:\\data_science_bootcamp\\week_07\\Moosic\\feature_importance_clusters_dance\\cluster_34_features.png\n",
      "Saved feature profile for Cluster 0 to D:\\data_science_bootcamp\\week_07\\Moosic\\feature_importance_clusters_dance\\cluster_0_features.png\n",
      "Saved feature profile for Cluster 6 to D:\\data_science_bootcamp\\week_07\\Moosic\\feature_importance_clusters_dance\\cluster_6_features.png\n",
      "Saved feature profile for Cluster 44 to D:\\data_science_bootcamp\\week_07\\Moosic\\feature_importance_clusters_dance\\cluster_44_features.png\n",
      "Saved feature profile for Cluster 22 to D:\\data_science_bootcamp\\week_07\\Moosic\\feature_importance_clusters_dance\\cluster_22_features.png\n",
      "Saved feature profile for Cluster 46 to D:\\data_science_bootcamp\\week_07\\Moosic\\feature_importance_clusters_dance\\cluster_46_features.png\n",
      "Saved feature profile for Cluster 10 to D:\\data_science_bootcamp\\week_07\\Moosic\\feature_importance_clusters_dance\\cluster_10_features.png\n",
      "Saved feature profile for Cluster 7 to D:\\data_science_bootcamp\\week_07\\Moosic\\feature_importance_clusters_dance\\cluster_7_features.png\n",
      "Saved feature profile for Cluster 47 to D:\\data_science_bootcamp\\week_07\\Moosic\\feature_importance_clusters_dance\\cluster_47_features.png\n",
      "Saved feature profile for Cluster 29 to D:\\data_science_bootcamp\\week_07\\Moosic\\feature_importance_clusters_dance\\cluster_29_features.png\n",
      "Saved feature profile for Cluster 38 to D:\\data_science_bootcamp\\week_07\\Moosic\\feature_importance_clusters_dance\\cluster_38_features.png\n",
      "Saved feature profile for Cluster 36 to D:\\data_science_bootcamp\\week_07\\Moosic\\feature_importance_clusters_dance\\cluster_36_features.png\n",
      "Saved feature profile for Cluster 49 to D:\\data_science_bootcamp\\week_07\\Moosic\\feature_importance_clusters_dance\\cluster_49_features.png\n",
      "Saved feature profile for Cluster 17 to D:\\data_science_bootcamp\\week_07\\Moosic\\feature_importance_clusters_dance\\cluster_17_features.png\n",
      "Saved feature profile for Cluster 8 to D:\\data_science_bootcamp\\week_07\\Moosic\\feature_importance_clusters_dance\\cluster_8_features.png\n",
      "Saved feature profile for Cluster 41 to D:\\data_science_bootcamp\\week_07\\Moosic\\feature_importance_clusters_dance\\cluster_41_features.png\n",
      "Saved feature profile for Cluster 27 to D:\\data_science_bootcamp\\week_07\\Moosic\\feature_importance_clusters_dance\\cluster_27_features.png\n",
      "Saved feature profile for Cluster 23 to D:\\data_science_bootcamp\\week_07\\Moosic\\feature_importance_clusters_dance\\cluster_23_features.png\n",
      "Saved feature profile for Cluster 28 to D:\\data_science_bootcamp\\week_07\\Moosic\\feature_importance_clusters_dance\\cluster_28_features.png\n",
      "Saved feature profile for Cluster 5 to D:\\data_science_bootcamp\\week_07\\Moosic\\feature_importance_clusters_dance\\cluster_5_features.png\n",
      "Saved feature profile for Cluster 12 to D:\\data_science_bootcamp\\week_07\\Moosic\\feature_importance_clusters_dance\\cluster_12_features.png\n",
      "Saved feature profile for Cluster 3 to D:\\data_science_bootcamp\\week_07\\Moosic\\feature_importance_clusters_dance\\cluster_3_features.png\n",
      "Saved feature profile for Cluster 31 to D:\\data_science_bootcamp\\week_07\\Moosic\\feature_importance_clusters_dance\\cluster_31_features.png\n",
      "Saved feature profile for Cluster 39 to D:\\data_science_bootcamp\\week_07\\Moosic\\feature_importance_clusters_dance\\cluster_39_features.png\n",
      "Saved feature profile for Cluster 4 to D:\\data_science_bootcamp\\week_07\\Moosic\\feature_importance_clusters_dance\\cluster_4_features.png\n",
      "Saved feature profile for Cluster 48 to D:\\data_science_bootcamp\\week_07\\Moosic\\feature_importance_clusters_dance\\cluster_48_features.png\n",
      "Saved feature profile for Cluster 26 to D:\\data_science_bootcamp\\week_07\\Moosic\\feature_importance_clusters_dance\\cluster_26_features.png\n",
      "Saved feature profile for Cluster 40 to D:\\data_science_bootcamp\\week_07\\Moosic\\feature_importance_clusters_dance\\cluster_40_features.png\n",
      "Saved feature profile for Cluster 45 to D:\\data_science_bootcamp\\week_07\\Moosic\\feature_importance_clusters_dance\\cluster_45_features.png\n",
      "Saved feature profile for Cluster 16 to D:\\data_science_bootcamp\\week_07\\Moosic\\feature_importance_clusters_dance\\cluster_16_features.png\n",
      "Saved feature profile for Cluster 20 to D:\\data_science_bootcamp\\week_07\\Moosic\\feature_importance_clusters_dance\\cluster_20_features.png\n",
      "Saved feature profile for Cluster 30 to D:\\data_science_bootcamp\\week_07\\Moosic\\feature_importance_clusters_dance\\cluster_30_features.png\n",
      "Saved feature profile for Cluster 35 to D:\\data_science_bootcamp\\week_07\\Moosic\\feature_importance_clusters_dance\\cluster_35_features.png\n",
      "Saved feature profile for Cluster 11 to D:\\data_science_bootcamp\\week_07\\Moosic\\feature_importance_clusters_dance\\cluster_11_features.png\n",
      "Saved feature profile for Cluster 13 to D:\\data_science_bootcamp\\week_07\\Moosic\\feature_importance_clusters_dance\\cluster_13_features.png\n",
      "Saved feature profile for Cluster 37 to D:\\data_science_bootcamp\\week_07\\Moosic\\feature_importance_clusters_dance\\cluster_37_features.png\n",
      "Saved feature profile for Cluster 18 to D:\\data_science_bootcamp\\week_07\\Moosic\\feature_importance_clusters_dance\\cluster_18_features.png\n",
      "Saved feature profile for Cluster 32 to D:\\data_science_bootcamp\\week_07\\Moosic\\feature_importance_clusters_dance\\cluster_32_features.png\n",
      "Saved feature profile for Cluster 21 to D:\\data_science_bootcamp\\week_07\\Moosic\\feature_importance_clusters_dance\\cluster_21_features.png\n",
      "Saved feature profile for Cluster 33 to D:\\data_science_bootcamp\\week_07\\Moosic\\feature_importance_clusters_dance\\cluster_33_features.png\n",
      "Saved feature profile for Cluster 15 to D:\\data_science_bootcamp\\week_07\\Moosic\\feature_importance_clusters_dance\\cluster_15_features.png\n",
      "Saved feature profile for Cluster 14 to D:\\data_science_bootcamp\\week_07\\Moosic\\feature_importance_clusters_dance\\cluster_14_features.png\n",
      "Saved feature profile for Cluster 19 to D:\\data_science_bootcamp\\week_07\\Moosic\\feature_importance_clusters_dance\\cluster_19_features.png\n",
      "Saved feature profile for Cluster 25 to D:\\data_science_bootcamp\\week_07\\Moosic\\feature_importance_clusters_dance\\cluster_25_features.png\n",
      "Saved feature profile for Cluster 43 to D:\\data_science_bootcamp\\week_07\\Moosic\\feature_importance_clusters_dance\\cluster_43_features.png\n",
      "Saved feature profile for Cluster 42 to D:\\data_science_bootcamp\\week_07\\Moosic\\feature_importance_clusters_dance\\cluster_42_features.png\n"
     ]
    }
   ],
   "source": [
    "filepath = r\"D:\\data_science_bootcamp\\week_07\\Moosic\\feature_importance_clusters_dance\"\n",
    "\n",
    "# Create the directory if it doesn't exist\n",
    "os.makedirs(filepath, exist_ok=True)\n",
    "\n",
    "# First, sort your clusters based on danceability and then energy\n",
    "# Assuming cluster_means is already a DataFrame with clusters as rows and features as columns\n",
    "sorted_clusters = cluster_means.sort_values(by=['danceability', 'energy'], ascending=False)\n",
    "\n",
    "# Now loop through the sorted clusters\n",
    "for cluster_id in sorted_clusters.index:\n",
    "    plt.figure(figsize=(10, 6))\n",
    "    cluster_means.loc[cluster_id].sort_values(ascending=False).plot(kind='bar', color='skyblue')\n",
    "    plt.title(f'Feature Profile of Cluster {cluster_id} (Danceability: {cluster_means.loc[cluster_id, \"danceability\"]:.2f}, Energy: {cluster_means.loc[cluster_id, \"energy\"]:.2f})')\n",
    "    plt.xlabel('Feature')\n",
    "    plt.ylabel('Mean Value')\n",
    "    plt.xticks(rotation=45)\n",
    "    plt.grid(axis='y')\n",
    "    \n",
    "    # Create a unique filename for each cluster\n",
    "    filename = os.path.join(filepath, f\"cluster_{cluster_id}_features.png\")\n",
    "    \n",
    "    plt.tight_layout()\n",
    "    plt.savefig(filename, dpi=300)\n",
    "    plt.close()\n",
    "    \n",
    "    print(f\"Saved feature profile for Cluster {cluster_id} to {filename}\")"
   ]
  },
  {
   "cell_type": "code",
   "execution_count": 51,
   "metadata": {},
   "outputs": [
    {
     "data": {
      "text/html": [
       "<div>\n",
       "<style scoped>\n",
       "    .dataframe tbody tr th:only-of-type {\n",
       "        vertical-align: middle;\n",
       "    }\n",
       "\n",
       "    .dataframe tbody tr th {\n",
       "        vertical-align: top;\n",
       "    }\n",
       "\n",
       "    .dataframe thead th {\n",
       "        text-align: right;\n",
       "    }\n",
       "</style>\n",
       "<table border=\"1\" class=\"dataframe\">\n",
       "  <thead>\n",
       "    <tr style=\"text-align: right;\">\n",
       "      <th></th>\n",
       "      <th>danceability</th>\n",
       "      <th>energy</th>\n",
       "      <th>key</th>\n",
       "      <th>loudness</th>\n",
       "      <th>speechiness</th>\n",
       "      <th>acousticness</th>\n",
       "      <th>instrumentalness</th>\n",
       "      <th>liveness</th>\n",
       "      <th>valence</th>\n",
       "      <th>tempo</th>\n",
       "      <th>duration_ms</th>\n",
       "      <th>time_signature</th>\n",
       "    </tr>\n",
       "    <tr>\n",
       "      <th>new_cluster</th>\n",
       "      <th></th>\n",
       "      <th></th>\n",
       "      <th></th>\n",
       "      <th></th>\n",
       "      <th></th>\n",
       "      <th></th>\n",
       "      <th></th>\n",
       "      <th></th>\n",
       "      <th></th>\n",
       "      <th></th>\n",
       "      <th></th>\n",
       "      <th></th>\n",
       "    </tr>\n",
       "  </thead>\n",
       "  <tbody>\n",
       "    <tr>\n",
       "      <th>1</th>\n",
       "      <td>0.816066</td>\n",
       "      <td>0.691817</td>\n",
       "      <td>0.506724</td>\n",
       "      <td>0.869800</td>\n",
       "      <td>0.113007</td>\n",
       "      <td>0.118939</td>\n",
       "      <td>0.007001</td>\n",
       "      <td>0.130755</td>\n",
       "      <td>0.785607</td>\n",
       "      <td>0.485873</td>\n",
       "      <td>0.051134</td>\n",
       "      <td>0.797633</td>\n",
       "    </tr>\n",
       "    <tr>\n",
       "      <th>2</th>\n",
       "      <td>0.788514</td>\n",
       "      <td>0.707465</td>\n",
       "      <td>0.090269</td>\n",
       "      <td>0.880347</td>\n",
       "      <td>0.150613</td>\n",
       "      <td>0.099906</td>\n",
       "      <td>0.011399</td>\n",
       "      <td>0.138757</td>\n",
       "      <td>0.570129</td>\n",
       "      <td>0.502709</td>\n",
       "      <td>0.050165</td>\n",
       "      <td>0.800000</td>\n",
       "    </tr>\n",
       "    <tr>\n",
       "      <th>24</th>\n",
       "      <td>0.767365</td>\n",
       "      <td>0.796763</td>\n",
       "      <td>0.877990</td>\n",
       "      <td>0.889709</td>\n",
       "      <td>0.108067</td>\n",
       "      <td>0.070212</td>\n",
       "      <td>0.010387</td>\n",
       "      <td>0.151864</td>\n",
       "      <td>0.789602</td>\n",
       "      <td>0.556252</td>\n",
       "      <td>0.048587</td>\n",
       "      <td>0.801053</td>\n",
       "    </tr>\n",
       "    <tr>\n",
       "      <th>9</th>\n",
       "      <td>0.762873</td>\n",
       "      <td>0.807110</td>\n",
       "      <td>0.082418</td>\n",
       "      <td>0.887058</td>\n",
       "      <td>0.098164</td>\n",
       "      <td>0.140733</td>\n",
       "      <td>0.004580</td>\n",
       "      <td>0.167954</td>\n",
       "      <td>0.852251</td>\n",
       "      <td>0.558479</td>\n",
       "      <td>0.049585</td>\n",
       "      <td>0.798901</td>\n",
       "    </tr>\n",
       "    <tr>\n",
       "      <th>34</th>\n",
       "      <td>0.751410</td>\n",
       "      <td>0.499310</td>\n",
       "      <td>0.793736</td>\n",
       "      <td>0.821184</td>\n",
       "      <td>0.097349</td>\n",
       "      <td>0.178533</td>\n",
       "      <td>0.022081</td>\n",
       "      <td>0.138951</td>\n",
       "      <td>0.742030</td>\n",
       "      <td>0.494889</td>\n",
       "      <td>0.049413</td>\n",
       "      <td>0.798319</td>\n",
       "    </tr>\n",
       "    <tr>\n",
       "      <th>0</th>\n",
       "      <td>0.748390</td>\n",
       "      <td>0.526939</td>\n",
       "      <td>0.147528</td>\n",
       "      <td>0.814037</td>\n",
       "      <td>0.068068</td>\n",
       "      <td>0.225264</td>\n",
       "      <td>0.015976</td>\n",
       "      <td>0.111018</td>\n",
       "      <td>0.824757</td>\n",
       "      <td>0.558006</td>\n",
       "      <td>0.049175</td>\n",
       "      <td>0.798246</td>\n",
       "    </tr>\n",
       "    <tr>\n",
       "      <th>6</th>\n",
       "      <td>0.748110</td>\n",
       "      <td>0.756289</td>\n",
       "      <td>0.862626</td>\n",
       "      <td>0.876268</td>\n",
       "      <td>0.107470</td>\n",
       "      <td>0.413063</td>\n",
       "      <td>0.007960</td>\n",
       "      <td>0.150401</td>\n",
       "      <td>0.809791</td>\n",
       "      <td>0.567302</td>\n",
       "      <td>0.049127</td>\n",
       "      <td>0.800000</td>\n",
       "    </tr>\n",
       "    <tr>\n",
       "      <th>44</th>\n",
       "      <td>0.703314</td>\n",
       "      <td>0.678948</td>\n",
       "      <td>0.410985</td>\n",
       "      <td>0.851912</td>\n",
       "      <td>0.087973</td>\n",
       "      <td>0.587548</td>\n",
       "      <td>0.007480</td>\n",
       "      <td>0.177039</td>\n",
       "      <td>0.861707</td>\n",
       "      <td>0.573592</td>\n",
       "      <td>0.042801</td>\n",
       "      <td>0.802083</td>\n",
       "    </tr>\n",
       "    <tr>\n",
       "      <th>22</th>\n",
       "      <td>0.698307</td>\n",
       "      <td>0.837745</td>\n",
       "      <td>0.512276</td>\n",
       "      <td>0.887878</td>\n",
       "      <td>0.101453</td>\n",
       "      <td>0.100214</td>\n",
       "      <td>0.015444</td>\n",
       "      <td>0.190152</td>\n",
       "      <td>0.835259</td>\n",
       "      <td>0.637186</td>\n",
       "      <td>0.049869</td>\n",
       "      <td>0.801460</td>\n",
       "    </tr>\n",
       "    <tr>\n",
       "      <th>46</th>\n",
       "      <td>0.697177</td>\n",
       "      <td>0.778489</td>\n",
       "      <td>0.721470</td>\n",
       "      <td>0.855419</td>\n",
       "      <td>0.062606</td>\n",
       "      <td>0.089411</td>\n",
       "      <td>0.728826</td>\n",
       "      <td>0.215163</td>\n",
       "      <td>0.747359</td>\n",
       "      <td>0.607426</td>\n",
       "      <td>0.063865</td>\n",
       "      <td>0.791489</td>\n",
       "    </tr>\n",
       "    <tr>\n",
       "      <th>10</th>\n",
       "      <td>0.696964</td>\n",
       "      <td>0.709917</td>\n",
       "      <td>0.906926</td>\n",
       "      <td>0.878488</td>\n",
       "      <td>0.089823</td>\n",
       "      <td>0.114379</td>\n",
       "      <td>0.010716</td>\n",
       "      <td>0.180819</td>\n",
       "      <td>0.420842</td>\n",
       "      <td>0.543721</td>\n",
       "      <td>0.052462</td>\n",
       "      <td>0.800000</td>\n",
       "    </tr>\n",
       "    <tr>\n",
       "      <th>7</th>\n",
       "      <td>0.690572</td>\n",
       "      <td>0.790483</td>\n",
       "      <td>0.750000</td>\n",
       "      <td>0.879678</td>\n",
       "      <td>0.151609</td>\n",
       "      <td>0.163353</td>\n",
       "      <td>0.000506</td>\n",
       "      <td>0.666599</td>\n",
       "      <td>0.649272</td>\n",
       "      <td>0.552489</td>\n",
       "      <td>0.052605</td>\n",
       "      <td>0.803333</td>\n",
       "    </tr>\n",
       "    <tr>\n",
       "      <th>47</th>\n",
       "      <td>0.684787</td>\n",
       "      <td>0.783094</td>\n",
       "      <td>0.238422</td>\n",
       "      <td>0.878666</td>\n",
       "      <td>0.091957</td>\n",
       "      <td>0.057628</td>\n",
       "      <td>0.800441</td>\n",
       "      <td>0.157655</td>\n",
       "      <td>0.286107</td>\n",
       "      <td>0.582563</td>\n",
       "      <td>0.060663</td>\n",
       "      <td>0.800000</td>\n",
       "    </tr>\n",
       "    <tr>\n",
       "      <th>29</th>\n",
       "      <td>0.681685</td>\n",
       "      <td>0.755019</td>\n",
       "      <td>0.536628</td>\n",
       "      <td>0.888146</td>\n",
       "      <td>0.082827</td>\n",
       "      <td>0.086636</td>\n",
       "      <td>0.019407</td>\n",
       "      <td>0.166445</td>\n",
       "      <td>0.523400</td>\n",
       "      <td>0.544748</td>\n",
       "      <td>0.050149</td>\n",
       "      <td>0.797087</td>\n",
       "    </tr>\n",
       "    <tr>\n",
       "      <th>38</th>\n",
       "      <td>0.656028</td>\n",
       "      <td>0.450926</td>\n",
       "      <td>0.069856</td>\n",
       "      <td>0.805589</td>\n",
       "      <td>0.061323</td>\n",
       "      <td>0.744219</td>\n",
       "      <td>0.042842</td>\n",
       "      <td>0.170896</td>\n",
       "      <td>0.740358</td>\n",
       "      <td>0.503788</td>\n",
       "      <td>0.040257</td>\n",
       "      <td>0.791579</td>\n",
       "    </tr>\n",
       "    <tr>\n",
       "      <th>36</th>\n",
       "      <td>0.626566</td>\n",
       "      <td>0.361037</td>\n",
       "      <td>0.563973</td>\n",
       "      <td>0.743806</td>\n",
       "      <td>0.060498</td>\n",
       "      <td>0.803436</td>\n",
       "      <td>0.773961</td>\n",
       "      <td>0.189084</td>\n",
       "      <td>0.611124</td>\n",
       "      <td>0.537830</td>\n",
       "      <td>0.060273</td>\n",
       "      <td>0.781481</td>\n",
       "    </tr>\n",
       "    <tr>\n",
       "      <th>49</th>\n",
       "      <td>0.620758</td>\n",
       "      <td>0.492927</td>\n",
       "      <td>0.757025</td>\n",
       "      <td>0.808435</td>\n",
       "      <td>0.066740</td>\n",
       "      <td>0.675429</td>\n",
       "      <td>0.019134</td>\n",
       "      <td>0.174183</td>\n",
       "      <td>0.734730</td>\n",
       "      <td>0.503879</td>\n",
       "      <td>0.053156</td>\n",
       "      <td>0.778182</td>\n",
       "    </tr>\n",
       "    <tr>\n",
       "      <th>17</th>\n",
       "      <td>0.620244</td>\n",
       "      <td>0.831586</td>\n",
       "      <td>0.236677</td>\n",
       "      <td>0.891974</td>\n",
       "      <td>0.108042</td>\n",
       "      <td>0.076985</td>\n",
       "      <td>0.014469</td>\n",
       "      <td>0.607641</td>\n",
       "      <td>0.536975</td>\n",
       "      <td>0.572747</td>\n",
       "      <td>0.054371</td>\n",
       "      <td>0.796552</td>\n",
       "    </tr>\n",
       "    <tr>\n",
       "      <th>8</th>\n",
       "      <td>0.619861</td>\n",
       "      <td>0.577376</td>\n",
       "      <td>0.163816</td>\n",
       "      <td>0.863989</td>\n",
       "      <td>0.079922</td>\n",
       "      <td>0.107236</td>\n",
       "      <td>0.010201</td>\n",
       "      <td>0.158456</td>\n",
       "      <td>0.248845</td>\n",
       "      <td>0.586264</td>\n",
       "      <td>0.055927</td>\n",
       "      <td>0.790099</td>\n",
       "    </tr>\n",
       "    <tr>\n",
       "      <th>41</th>\n",
       "      <td>0.607308</td>\n",
       "      <td>0.581467</td>\n",
       "      <td>0.852525</td>\n",
       "      <td>0.831459</td>\n",
       "      <td>0.075096</td>\n",
       "      <td>0.684538</td>\n",
       "      <td>0.012302</td>\n",
       "      <td>0.176028</td>\n",
       "      <td>0.830141</td>\n",
       "      <td>0.697471</td>\n",
       "      <td>0.043947</td>\n",
       "      <td>0.786667</td>\n",
       "    </tr>\n",
       "    <tr>\n",
       "      <th>27</th>\n",
       "      <td>0.597581</td>\n",
       "      <td>0.822884</td>\n",
       "      <td>0.115574</td>\n",
       "      <td>0.898332</td>\n",
       "      <td>0.081500</td>\n",
       "      <td>0.043788</td>\n",
       "      <td>0.020098</td>\n",
       "      <td>0.173710</td>\n",
       "      <td>0.357187</td>\n",
       "      <td>0.577945</td>\n",
       "      <td>0.050187</td>\n",
       "      <td>0.801550</td>\n",
       "    </tr>\n",
       "    <tr>\n",
       "      <th>23</th>\n",
       "      <td>0.595062</td>\n",
       "      <td>0.703009</td>\n",
       "      <td>0.638777</td>\n",
       "      <td>0.882639</td>\n",
       "      <td>0.074563</td>\n",
       "      <td>0.065370</td>\n",
       "      <td>0.019241</td>\n",
       "      <td>0.134026</td>\n",
       "      <td>0.207519</td>\n",
       "      <td>0.579484</td>\n",
       "      <td>0.056226</td>\n",
       "      <td>0.785841</td>\n",
       "    </tr>\n",
       "    <tr>\n",
       "      <th>28</th>\n",
       "      <td>0.582333</td>\n",
       "      <td>0.299914</td>\n",
       "      <td>0.429752</td>\n",
       "      <td>0.769959</td>\n",
       "      <td>0.054819</td>\n",
       "      <td>0.802532</td>\n",
       "      <td>0.026014</td>\n",
       "      <td>0.138367</td>\n",
       "      <td>0.494869</td>\n",
       "      <td>0.544217</td>\n",
       "      <td>0.052949</td>\n",
       "      <td>0.778512</td>\n",
       "    </tr>\n",
       "    <tr>\n",
       "      <th>5</th>\n",
       "      <td>0.582129</td>\n",
       "      <td>0.715095</td>\n",
       "      <td>0.121622</td>\n",
       "      <td>0.876365</td>\n",
       "      <td>0.102869</td>\n",
       "      <td>0.485632</td>\n",
       "      <td>0.021567</td>\n",
       "      <td>0.136740</td>\n",
       "      <td>0.565427</td>\n",
       "      <td>0.617431</td>\n",
       "      <td>0.046377</td>\n",
       "      <td>0.791892</td>\n",
       "    </tr>\n",
       "    <tr>\n",
       "      <th>12</th>\n",
       "      <td>0.581605</td>\n",
       "      <td>0.603853</td>\n",
       "      <td>0.232620</td>\n",
       "      <td>0.828191</td>\n",
       "      <td>0.094371</td>\n",
       "      <td>0.548518</td>\n",
       "      <td>0.001800</td>\n",
       "      <td>0.660617</td>\n",
       "      <td>0.761242</td>\n",
       "      <td>0.593057</td>\n",
       "      <td>0.050139</td>\n",
       "      <td>0.800000</td>\n",
       "    </tr>\n",
       "    <tr>\n",
       "      <th>3</th>\n",
       "      <td>0.577498</td>\n",
       "      <td>0.405286</td>\n",
       "      <td>0.121212</td>\n",
       "      <td>0.808439</td>\n",
       "      <td>0.055331</td>\n",
       "      <td>0.554874</td>\n",
       "      <td>0.036941</td>\n",
       "      <td>0.147407</td>\n",
       "      <td>0.349217</td>\n",
       "      <td>0.531999</td>\n",
       "      <td>0.060459</td>\n",
       "      <td>0.771429</td>\n",
       "    </tr>\n",
       "    <tr>\n",
       "      <th>31</th>\n",
       "      <td>0.576208</td>\n",
       "      <td>0.247757</td>\n",
       "      <td>0.833516</td>\n",
       "      <td>0.761582</td>\n",
       "      <td>0.053932</td>\n",
       "      <td>0.856208</td>\n",
       "      <td>0.049890</td>\n",
       "      <td>0.132247</td>\n",
       "      <td>0.372463</td>\n",
       "      <td>0.551475</td>\n",
       "      <td>0.055983</td>\n",
       "      <td>0.785542</td>\n",
       "    </tr>\n",
       "    <tr>\n",
       "      <th>39</th>\n",
       "      <td>0.520764</td>\n",
       "      <td>0.837829</td>\n",
       "      <td>0.124675</td>\n",
       "      <td>0.883490</td>\n",
       "      <td>0.078200</td>\n",
       "      <td>0.037211</td>\n",
       "      <td>0.027340</td>\n",
       "      <td>0.197601</td>\n",
       "      <td>0.662603</td>\n",
       "      <td>0.675499</td>\n",
       "      <td>0.048332</td>\n",
       "      <td>0.801429</td>\n",
       "    </tr>\n",
       "    <tr>\n",
       "      <th>4</th>\n",
       "      <td>0.518893</td>\n",
       "      <td>0.304738</td>\n",
       "      <td>0.692308</td>\n",
       "      <td>0.742886</td>\n",
       "      <td>0.071732</td>\n",
       "      <td>0.809816</td>\n",
       "      <td>0.072934</td>\n",
       "      <td>0.767477</td>\n",
       "      <td>0.374951</td>\n",
       "      <td>0.480786</td>\n",
       "      <td>0.053939</td>\n",
       "      <td>0.800000</td>\n",
       "    </tr>\n",
       "    <tr>\n",
       "      <th>48</th>\n",
       "      <td>0.512287</td>\n",
       "      <td>0.503771</td>\n",
       "      <td>0.707242</td>\n",
       "      <td>0.832011</td>\n",
       "      <td>0.052058</td>\n",
       "      <td>0.452420</td>\n",
       "      <td>0.023116</td>\n",
       "      <td>0.154727</td>\n",
       "      <td>0.370155</td>\n",
       "      <td>0.563951</td>\n",
       "      <td>0.058167</td>\n",
       "      <td>0.771186</td>\n",
       "    </tr>\n",
       "    <tr>\n",
       "      <th>26</th>\n",
       "      <td>0.505225</td>\n",
       "      <td>0.860917</td>\n",
       "      <td>0.840220</td>\n",
       "      <td>0.891040</td>\n",
       "      <td>0.102595</td>\n",
       "      <td>0.046861</td>\n",
       "      <td>0.046819</td>\n",
       "      <td>0.176940</td>\n",
       "      <td>0.536164</td>\n",
       "      <td>0.655243</td>\n",
       "      <td>0.050768</td>\n",
       "      <td>0.793939</td>\n",
       "    </tr>\n",
       "    <tr>\n",
       "      <th>40</th>\n",
       "      <td>0.474911</td>\n",
       "      <td>0.892746</td>\n",
       "      <td>0.736771</td>\n",
       "      <td>0.892754</td>\n",
       "      <td>0.103590</td>\n",
       "      <td>0.036563</td>\n",
       "      <td>0.049445</td>\n",
       "      <td>0.586142</td>\n",
       "      <td>0.250269</td>\n",
       "      <td>0.600118</td>\n",
       "      <td>0.060344</td>\n",
       "      <td>0.779104</td>\n",
       "    </tr>\n",
       "    <tr>\n",
       "      <th>45</th>\n",
       "      <td>0.452401</td>\n",
       "      <td>0.833302</td>\n",
       "      <td>0.164666</td>\n",
       "      <td>0.851077</td>\n",
       "      <td>0.072140</td>\n",
       "      <td>0.070444</td>\n",
       "      <td>0.780615</td>\n",
       "      <td>0.180880</td>\n",
       "      <td>0.674571</td>\n",
       "      <td>0.612829</td>\n",
       "      <td>0.050317</td>\n",
       "      <td>0.788679</td>\n",
       "    </tr>\n",
       "    <tr>\n",
       "      <th>16</th>\n",
       "      <td>0.422479</td>\n",
       "      <td>0.165706</td>\n",
       "      <td>0.163787</td>\n",
       "      <td>0.658195</td>\n",
       "      <td>0.049605</td>\n",
       "      <td>0.941311</td>\n",
       "      <td>0.890590</td>\n",
       "      <td>0.153059</td>\n",
       "      <td>0.225324</td>\n",
       "      <td>0.552460</td>\n",
       "      <td>0.062241</td>\n",
       "      <td>0.776860</td>\n",
       "    </tr>\n",
       "    <tr>\n",
       "      <th>20</th>\n",
       "      <td>0.401198</td>\n",
       "      <td>0.126297</td>\n",
       "      <td>0.731672</td>\n",
       "      <td>0.627715</td>\n",
       "      <td>0.051484</td>\n",
       "      <td>0.953483</td>\n",
       "      <td>0.891673</td>\n",
       "      <td>0.113939</td>\n",
       "      <td>0.182326</td>\n",
       "      <td>0.630405</td>\n",
       "      <td>0.057840</td>\n",
       "      <td>0.759677</td>\n",
       "    </tr>\n",
       "    <tr>\n",
       "      <th>30</th>\n",
       "      <td>0.373637</td>\n",
       "      <td>0.153005</td>\n",
       "      <td>0.124459</td>\n",
       "      <td>0.694787</td>\n",
       "      <td>0.048400</td>\n",
       "      <td>0.915699</td>\n",
       "      <td>0.040664</td>\n",
       "      <td>0.159190</td>\n",
       "      <td>0.196650</td>\n",
       "      <td>0.474437</td>\n",
       "      <td>0.062132</td>\n",
       "      <td>0.750000</td>\n",
       "    </tr>\n",
       "    <tr>\n",
       "      <th>35</th>\n",
       "      <td>0.369524</td>\n",
       "      <td>0.864637</td>\n",
       "      <td>0.774226</td>\n",
       "      <td>0.835292</td>\n",
       "      <td>0.081885</td>\n",
       "      <td>0.015625</td>\n",
       "      <td>0.830602</td>\n",
       "      <td>0.252090</td>\n",
       "      <td>0.397417</td>\n",
       "      <td>0.592943</td>\n",
       "      <td>0.059530</td>\n",
       "      <td>0.786813</td>\n",
       "    </tr>\n",
       "    <tr>\n",
       "      <th>11</th>\n",
       "      <td>0.306073</td>\n",
       "      <td>0.888643</td>\n",
       "      <td>0.159740</td>\n",
       "      <td>0.851160</td>\n",
       "      <td>0.106306</td>\n",
       "      <td>0.017057</td>\n",
       "      <td>0.460885</td>\n",
       "      <td>0.200297</td>\n",
       "      <td>0.231948</td>\n",
       "      <td>0.569901</td>\n",
       "      <td>0.060368</td>\n",
       "      <td>0.745714</td>\n",
       "    </tr>\n",
       "    <tr>\n",
       "      <th>13</th>\n",
       "      <td>0.298255</td>\n",
       "      <td>0.943289</td>\n",
       "      <td>0.890750</td>\n",
       "      <td>0.875307</td>\n",
       "      <td>0.136968</td>\n",
       "      <td>0.006805</td>\n",
       "      <td>0.062341</td>\n",
       "      <td>0.155906</td>\n",
       "      <td>0.175083</td>\n",
       "      <td>0.555873</td>\n",
       "      <td>0.058109</td>\n",
       "      <td>0.775439</td>\n",
       "    </tr>\n",
       "    <tr>\n",
       "      <th>37</th>\n",
       "      <td>0.296830</td>\n",
       "      <td>0.915404</td>\n",
       "      <td>0.760490</td>\n",
       "      <td>0.856262</td>\n",
       "      <td>0.125621</td>\n",
       "      <td>0.003837</td>\n",
       "      <td>0.469631</td>\n",
       "      <td>0.206795</td>\n",
       "      <td>0.204078</td>\n",
       "      <td>0.566168</td>\n",
       "      <td>0.064826</td>\n",
       "      <td>0.773077</td>\n",
       "    </tr>\n",
       "    <tr>\n",
       "      <th>18</th>\n",
       "      <td>0.296185</td>\n",
       "      <td>0.931389</td>\n",
       "      <td>0.524636</td>\n",
       "      <td>0.873284</td>\n",
       "      <td>0.138126</td>\n",
       "      <td>0.006589</td>\n",
       "      <td>0.064764</td>\n",
       "      <td>0.182345</td>\n",
       "      <td>0.200373</td>\n",
       "      <td>0.559506</td>\n",
       "      <td>0.061763</td>\n",
       "      <td>0.789313</td>\n",
       "    </tr>\n",
       "    <tr>\n",
       "      <th>32</th>\n",
       "      <td>0.293009</td>\n",
       "      <td>0.907452</td>\n",
       "      <td>0.125778</td>\n",
       "      <td>0.837596</td>\n",
       "      <td>0.100063</td>\n",
       "      <td>0.015710</td>\n",
       "      <td>0.865072</td>\n",
       "      <td>0.391625</td>\n",
       "      <td>0.264329</td>\n",
       "      <td>0.562574</td>\n",
       "      <td>0.057239</td>\n",
       "      <td>0.780822</td>\n",
       "    </tr>\n",
       "    <tr>\n",
       "      <th>21</th>\n",
       "      <td>0.290099</td>\n",
       "      <td>0.927094</td>\n",
       "      <td>0.125874</td>\n",
       "      <td>0.864815</td>\n",
       "      <td>0.130006</td>\n",
       "      <td>0.005288</td>\n",
       "      <td>0.056756</td>\n",
       "      <td>0.185346</td>\n",
       "      <td>0.190990</td>\n",
       "      <td>0.569435</td>\n",
       "      <td>0.059015</td>\n",
       "      <td>0.753846</td>\n",
       "    </tr>\n",
       "    <tr>\n",
       "      <th>33</th>\n",
       "      <td>0.271608</td>\n",
       "      <td>0.142239</td>\n",
       "      <td>0.689065</td>\n",
       "      <td>0.683518</td>\n",
       "      <td>0.045449</td>\n",
       "      <td>0.928788</td>\n",
       "      <td>0.064306</td>\n",
       "      <td>0.179587</td>\n",
       "      <td>0.147904</td>\n",
       "      <td>0.496019</td>\n",
       "      <td>0.063764</td>\n",
       "      <td>0.698551</td>\n",
       "    </tr>\n",
       "    <tr>\n",
       "      <th>15</th>\n",
       "      <td>0.247741</td>\n",
       "      <td>0.908217</td>\n",
       "      <td>0.903030</td>\n",
       "      <td>0.841763</td>\n",
       "      <td>0.124690</td>\n",
       "      <td>0.018230</td>\n",
       "      <td>0.846472</td>\n",
       "      <td>0.191700</td>\n",
       "      <td>0.161441</td>\n",
       "      <td>0.532440</td>\n",
       "      <td>0.061308</td>\n",
       "      <td>0.770000</td>\n",
       "    </tr>\n",
       "    <tr>\n",
       "      <th>14</th>\n",
       "      <td>0.245143</td>\n",
       "      <td>0.078042</td>\n",
       "      <td>0.204866</td>\n",
       "      <td>0.565109</td>\n",
       "      <td>0.047471</td>\n",
       "      <td>0.947169</td>\n",
       "      <td>0.863516</td>\n",
       "      <td>0.125929</td>\n",
       "      <td>0.089306</td>\n",
       "      <td>0.380103</td>\n",
       "      <td>0.117547</td>\n",
       "      <td>0.754930</td>\n",
       "    </tr>\n",
       "    <tr>\n",
       "      <th>19</th>\n",
       "      <td>0.241403</td>\n",
       "      <td>0.917171</td>\n",
       "      <td>0.566310</td>\n",
       "      <td>0.842312</td>\n",
       "      <td>0.118485</td>\n",
       "      <td>0.005715</td>\n",
       "      <td>0.862663</td>\n",
       "      <td>0.172522</td>\n",
       "      <td>0.202822</td>\n",
       "      <td>0.578471</td>\n",
       "      <td>0.059565</td>\n",
       "      <td>0.776471</td>\n",
       "    </tr>\n",
       "    <tr>\n",
       "      <th>25</th>\n",
       "      <td>0.234418</td>\n",
       "      <td>0.684185</td>\n",
       "      <td>0.248312</td>\n",
       "      <td>0.774825</td>\n",
       "      <td>0.101640</td>\n",
       "      <td>0.276638</td>\n",
       "      <td>0.869262</td>\n",
       "      <td>0.151811</td>\n",
       "      <td>0.138409</td>\n",
       "      <td>0.490273</td>\n",
       "      <td>0.059090</td>\n",
       "      <td>0.664000</td>\n",
       "    </tr>\n",
       "    <tr>\n",
       "      <th>43</th>\n",
       "      <td>0.231543</td>\n",
       "      <td>0.095814</td>\n",
       "      <td>0.797707</td>\n",
       "      <td>0.593577</td>\n",
       "      <td>0.046811</td>\n",
       "      <td>0.950251</td>\n",
       "      <td>0.900919</td>\n",
       "      <td>0.123328</td>\n",
       "      <td>0.092634</td>\n",
       "      <td>0.376014</td>\n",
       "      <td>0.089675</td>\n",
       "      <td>0.762162</td>\n",
       "    </tr>\n",
       "    <tr>\n",
       "      <th>42</th>\n",
       "      <td>0.212642</td>\n",
       "      <td>0.913531</td>\n",
       "      <td>0.117898</td>\n",
       "      <td>0.841304</td>\n",
       "      <td>0.111937</td>\n",
       "      <td>0.000282</td>\n",
       "      <td>0.857218</td>\n",
       "      <td>0.158987</td>\n",
       "      <td>0.238295</td>\n",
       "      <td>0.751962</td>\n",
       "      <td>0.063191</td>\n",
       "      <td>0.775000</td>\n",
       "    </tr>\n",
       "  </tbody>\n",
       "</table>\n",
       "</div>"
      ],
      "text/plain": [
       "             danceability    energy       key  loudness  speechiness  \\\n",
       "new_cluster                                                            \n",
       "1                0.816066  0.691817  0.506724  0.869800     0.113007   \n",
       "2                0.788514  0.707465  0.090269  0.880347     0.150613   \n",
       "24               0.767365  0.796763  0.877990  0.889709     0.108067   \n",
       "9                0.762873  0.807110  0.082418  0.887058     0.098164   \n",
       "34               0.751410  0.499310  0.793736  0.821184     0.097349   \n",
       "0                0.748390  0.526939  0.147528  0.814037     0.068068   \n",
       "6                0.748110  0.756289  0.862626  0.876268     0.107470   \n",
       "44               0.703314  0.678948  0.410985  0.851912     0.087973   \n",
       "22               0.698307  0.837745  0.512276  0.887878     0.101453   \n",
       "46               0.697177  0.778489  0.721470  0.855419     0.062606   \n",
       "10               0.696964  0.709917  0.906926  0.878488     0.089823   \n",
       "7                0.690572  0.790483  0.750000  0.879678     0.151609   \n",
       "47               0.684787  0.783094  0.238422  0.878666     0.091957   \n",
       "29               0.681685  0.755019  0.536628  0.888146     0.082827   \n",
       "38               0.656028  0.450926  0.069856  0.805589     0.061323   \n",
       "36               0.626566  0.361037  0.563973  0.743806     0.060498   \n",
       "49               0.620758  0.492927  0.757025  0.808435     0.066740   \n",
       "17               0.620244  0.831586  0.236677  0.891974     0.108042   \n",
       "8                0.619861  0.577376  0.163816  0.863989     0.079922   \n",
       "41               0.607308  0.581467  0.852525  0.831459     0.075096   \n",
       "27               0.597581  0.822884  0.115574  0.898332     0.081500   \n",
       "23               0.595062  0.703009  0.638777  0.882639     0.074563   \n",
       "28               0.582333  0.299914  0.429752  0.769959     0.054819   \n",
       "5                0.582129  0.715095  0.121622  0.876365     0.102869   \n",
       "12               0.581605  0.603853  0.232620  0.828191     0.094371   \n",
       "3                0.577498  0.405286  0.121212  0.808439     0.055331   \n",
       "31               0.576208  0.247757  0.833516  0.761582     0.053932   \n",
       "39               0.520764  0.837829  0.124675  0.883490     0.078200   \n",
       "4                0.518893  0.304738  0.692308  0.742886     0.071732   \n",
       "48               0.512287  0.503771  0.707242  0.832011     0.052058   \n",
       "26               0.505225  0.860917  0.840220  0.891040     0.102595   \n",
       "40               0.474911  0.892746  0.736771  0.892754     0.103590   \n",
       "45               0.452401  0.833302  0.164666  0.851077     0.072140   \n",
       "16               0.422479  0.165706  0.163787  0.658195     0.049605   \n",
       "20               0.401198  0.126297  0.731672  0.627715     0.051484   \n",
       "30               0.373637  0.153005  0.124459  0.694787     0.048400   \n",
       "35               0.369524  0.864637  0.774226  0.835292     0.081885   \n",
       "11               0.306073  0.888643  0.159740  0.851160     0.106306   \n",
       "13               0.298255  0.943289  0.890750  0.875307     0.136968   \n",
       "37               0.296830  0.915404  0.760490  0.856262     0.125621   \n",
       "18               0.296185  0.931389  0.524636  0.873284     0.138126   \n",
       "32               0.293009  0.907452  0.125778  0.837596     0.100063   \n",
       "21               0.290099  0.927094  0.125874  0.864815     0.130006   \n",
       "33               0.271608  0.142239  0.689065  0.683518     0.045449   \n",
       "15               0.247741  0.908217  0.903030  0.841763     0.124690   \n",
       "14               0.245143  0.078042  0.204866  0.565109     0.047471   \n",
       "19               0.241403  0.917171  0.566310  0.842312     0.118485   \n",
       "25               0.234418  0.684185  0.248312  0.774825     0.101640   \n",
       "43               0.231543  0.095814  0.797707  0.593577     0.046811   \n",
       "42               0.212642  0.913531  0.117898  0.841304     0.111937   \n",
       "\n",
       "             acousticness  instrumentalness  liveness   valence     tempo  \\\n",
       "new_cluster                                                                 \n",
       "1                0.118939          0.007001  0.130755  0.785607  0.485873   \n",
       "2                0.099906          0.011399  0.138757  0.570129  0.502709   \n",
       "24               0.070212          0.010387  0.151864  0.789602  0.556252   \n",
       "9                0.140733          0.004580  0.167954  0.852251  0.558479   \n",
       "34               0.178533          0.022081  0.138951  0.742030  0.494889   \n",
       "0                0.225264          0.015976  0.111018  0.824757  0.558006   \n",
       "6                0.413063          0.007960  0.150401  0.809791  0.567302   \n",
       "44               0.587548          0.007480  0.177039  0.861707  0.573592   \n",
       "22               0.100214          0.015444  0.190152  0.835259  0.637186   \n",
       "46               0.089411          0.728826  0.215163  0.747359  0.607426   \n",
       "10               0.114379          0.010716  0.180819  0.420842  0.543721   \n",
       "7                0.163353          0.000506  0.666599  0.649272  0.552489   \n",
       "47               0.057628          0.800441  0.157655  0.286107  0.582563   \n",
       "29               0.086636          0.019407  0.166445  0.523400  0.544748   \n",
       "38               0.744219          0.042842  0.170896  0.740358  0.503788   \n",
       "36               0.803436          0.773961  0.189084  0.611124  0.537830   \n",
       "49               0.675429          0.019134  0.174183  0.734730  0.503879   \n",
       "17               0.076985          0.014469  0.607641  0.536975  0.572747   \n",
       "8                0.107236          0.010201  0.158456  0.248845  0.586264   \n",
       "41               0.684538          0.012302  0.176028  0.830141  0.697471   \n",
       "27               0.043788          0.020098  0.173710  0.357187  0.577945   \n",
       "23               0.065370          0.019241  0.134026  0.207519  0.579484   \n",
       "28               0.802532          0.026014  0.138367  0.494869  0.544217   \n",
       "5                0.485632          0.021567  0.136740  0.565427  0.617431   \n",
       "12               0.548518          0.001800  0.660617  0.761242  0.593057   \n",
       "3                0.554874          0.036941  0.147407  0.349217  0.531999   \n",
       "31               0.856208          0.049890  0.132247  0.372463  0.551475   \n",
       "39               0.037211          0.027340  0.197601  0.662603  0.675499   \n",
       "4                0.809816          0.072934  0.767477  0.374951  0.480786   \n",
       "48               0.452420          0.023116  0.154727  0.370155  0.563951   \n",
       "26               0.046861          0.046819  0.176940  0.536164  0.655243   \n",
       "40               0.036563          0.049445  0.586142  0.250269  0.600118   \n",
       "45               0.070444          0.780615  0.180880  0.674571  0.612829   \n",
       "16               0.941311          0.890590  0.153059  0.225324  0.552460   \n",
       "20               0.953483          0.891673  0.113939  0.182326  0.630405   \n",
       "30               0.915699          0.040664  0.159190  0.196650  0.474437   \n",
       "35               0.015625          0.830602  0.252090  0.397417  0.592943   \n",
       "11               0.017057          0.460885  0.200297  0.231948  0.569901   \n",
       "13               0.006805          0.062341  0.155906  0.175083  0.555873   \n",
       "37               0.003837          0.469631  0.206795  0.204078  0.566168   \n",
       "18               0.006589          0.064764  0.182345  0.200373  0.559506   \n",
       "32               0.015710          0.865072  0.391625  0.264329  0.562574   \n",
       "21               0.005288          0.056756  0.185346  0.190990  0.569435   \n",
       "33               0.928788          0.064306  0.179587  0.147904  0.496019   \n",
       "15               0.018230          0.846472  0.191700  0.161441  0.532440   \n",
       "14               0.947169          0.863516  0.125929  0.089306  0.380103   \n",
       "19               0.005715          0.862663  0.172522  0.202822  0.578471   \n",
       "25               0.276638          0.869262  0.151811  0.138409  0.490273   \n",
       "43               0.950251          0.900919  0.123328  0.092634  0.376014   \n",
       "42               0.000282          0.857218  0.158987  0.238295  0.751962   \n",
       "\n",
       "             duration_ms  time_signature  \n",
       "new_cluster                               \n",
       "1               0.051134        0.797633  \n",
       "2               0.050165        0.800000  \n",
       "24              0.048587        0.801053  \n",
       "9               0.049585        0.798901  \n",
       "34              0.049413        0.798319  \n",
       "0               0.049175        0.798246  \n",
       "6               0.049127        0.800000  \n",
       "44              0.042801        0.802083  \n",
       "22              0.049869        0.801460  \n",
       "46              0.063865        0.791489  \n",
       "10              0.052462        0.800000  \n",
       "7               0.052605        0.803333  \n",
       "47              0.060663        0.800000  \n",
       "29              0.050149        0.797087  \n",
       "38              0.040257        0.791579  \n",
       "36              0.060273        0.781481  \n",
       "49              0.053156        0.778182  \n",
       "17              0.054371        0.796552  \n",
       "8               0.055927        0.790099  \n",
       "41              0.043947        0.786667  \n",
       "27              0.050187        0.801550  \n",
       "23              0.056226        0.785841  \n",
       "28              0.052949        0.778512  \n",
       "5               0.046377        0.791892  \n",
       "12              0.050139        0.800000  \n",
       "3               0.060459        0.771429  \n",
       "31              0.055983        0.785542  \n",
       "39              0.048332        0.801429  \n",
       "4               0.053939        0.800000  \n",
       "48              0.058167        0.771186  \n",
       "26              0.050768        0.793939  \n",
       "40              0.060344        0.779104  \n",
       "45              0.050317        0.788679  \n",
       "16              0.062241        0.776860  \n",
       "20              0.057840        0.759677  \n",
       "30              0.062132        0.750000  \n",
       "35              0.059530        0.786813  \n",
       "11              0.060368        0.745714  \n",
       "13              0.058109        0.775439  \n",
       "37              0.064826        0.773077  \n",
       "18              0.061763        0.789313  \n",
       "32              0.057239        0.780822  \n",
       "21              0.059015        0.753846  \n",
       "33              0.063764        0.698551  \n",
       "15              0.061308        0.770000  \n",
       "14              0.117547        0.754930  \n",
       "19              0.059565        0.776471  \n",
       "25              0.059090        0.664000  \n",
       "43              0.089675        0.762162  \n",
       "42              0.063191        0.775000  "
      ]
     },
     "execution_count": 51,
     "metadata": {},
     "output_type": "execute_result"
    }
   ],
   "source": [
    "sorted_clusters"
   ]
  },
  {
   "cell_type": "code",
   "execution_count": 52,
   "metadata": {},
   "outputs": [
    {
     "data": {
      "text/html": [
       "<div>\n",
       "<style scoped>\n",
       "    .dataframe tbody tr th:only-of-type {\n",
       "        vertical-align: middle;\n",
       "    }\n",
       "\n",
       "    .dataframe tbody tr th {\n",
       "        vertical-align: top;\n",
       "    }\n",
       "\n",
       "    .dataframe thead th {\n",
       "        text-align: right;\n",
       "    }\n",
       "</style>\n",
       "<table border=\"1\" class=\"dataframe\">\n",
       "  <thead>\n",
       "    <tr style=\"text-align: right;\">\n",
       "      <th></th>\n",
       "      <th>danceability</th>\n",
       "      <th>energy</th>\n",
       "      <th>key</th>\n",
       "      <th>loudness</th>\n",
       "      <th>speechiness</th>\n",
       "      <th>acousticness</th>\n",
       "      <th>instrumentalness</th>\n",
       "      <th>liveness</th>\n",
       "      <th>valence</th>\n",
       "      <th>tempo</th>\n",
       "      <th>duration_ms</th>\n",
       "      <th>time_signature</th>\n",
       "      <th>cluster</th>\n",
       "      <th>new_cluster</th>\n",
       "    </tr>\n",
       "  </thead>\n",
       "  <tbody>\n",
       "    <tr>\n",
       "      <th>0</th>\n",
       "      <td>0.680455</td>\n",
       "      <td>0.25900</td>\n",
       "      <td>1.000000</td>\n",
       "      <td>0.763897</td>\n",
       "      <td>0.076797</td>\n",
       "      <td>0.696787</td>\n",
       "      <td>0.000060</td>\n",
       "      <td>0.987842</td>\n",
       "      <td>0.310660</td>\n",
       "      <td>0.515800</td>\n",
       "      <td>0.059067</td>\n",
       "      <td>0.8</td>\n",
       "      <td>25</td>\n",
       "      <td>4</td>\n",
       "    </tr>\n",
       "    <tr>\n",
       "      <th>1</th>\n",
       "      <td>0.767322</td>\n",
       "      <td>0.39900</td>\n",
       "      <td>0.181818</td>\n",
       "      <td>0.771967</td>\n",
       "      <td>0.037691</td>\n",
       "      <td>0.217871</td>\n",
       "      <td>0.000002</td>\n",
       "      <td>0.108409</td>\n",
       "      <td>0.703553</td>\n",
       "      <td>0.584322</td>\n",
       "      <td>0.042058</td>\n",
       "      <td>0.8</td>\n",
       "      <td>0</td>\n",
       "      <td>0</td>\n",
       "    </tr>\n",
       "    <tr>\n",
       "      <th>2</th>\n",
       "      <td>0.880041</td>\n",
       "      <td>0.73000</td>\n",
       "      <td>0.181818</td>\n",
       "      <td>0.798018</td>\n",
       "      <td>0.377996</td>\n",
       "      <td>0.454819</td>\n",
       "      <td>0.000064</td>\n",
       "      <td>0.125633</td>\n",
       "      <td>0.918782</td>\n",
       "      <td>0.437862</td>\n",
       "      <td>0.031590</td>\n",
       "      <td>0.8</td>\n",
       "      <td>35</td>\n",
       "      <td>44</td>\n",
       "    </tr>\n",
       "    <tr>\n",
       "      <th>3</th>\n",
       "      <td>0.729059</td>\n",
       "      <td>0.05020</td>\n",
       "      <td>0.363636</td>\n",
       "      <td>0.682811</td>\n",
       "      <td>0.051307</td>\n",
       "      <td>0.882530</td>\n",
       "      <td>0.000041</td>\n",
       "      <td>0.391084</td>\n",
       "      <td>0.531980</td>\n",
       "      <td>0.499098</td>\n",
       "      <td>0.040567</td>\n",
       "      <td>0.8</td>\n",
       "      <td>19</td>\n",
       "      <td>28</td>\n",
       "    </tr>\n",
       "    <tr>\n",
       "      <th>4</th>\n",
       "      <td>0.673216</td>\n",
       "      <td>0.11900</td>\n",
       "      <td>0.545455</td>\n",
       "      <td>0.655228</td>\n",
       "      <td>0.041394</td>\n",
       "      <td>0.919679</td>\n",
       "      <td>0.000348</td>\n",
       "      <td>0.105370</td>\n",
       "      <td>0.408122</td>\n",
       "      <td>0.565171</td>\n",
       "      <td>0.063684</td>\n",
       "      <td>0.8</td>\n",
       "      <td>19</td>\n",
       "      <td>28</td>\n",
       "    </tr>\n",
       "    <tr>\n",
       "      <th>...</th>\n",
       "      <td>...</td>\n",
       "      <td>...</td>\n",
       "      <td>...</td>\n",
       "      <td>...</td>\n",
       "      <td>...</td>\n",
       "      <td>...</td>\n",
       "      <td>...</td>\n",
       "      <td>...</td>\n",
       "      <td>...</td>\n",
       "      <td>...</td>\n",
       "      <td>...</td>\n",
       "      <td>...</td>\n",
       "      <td>...</td>\n",
       "      <td>...</td>\n",
       "    </tr>\n",
       "    <tr>\n",
       "      <th>5230</th>\n",
       "      <td>0.208893</td>\n",
       "      <td>0.06940</td>\n",
       "      <td>0.272727</td>\n",
       "      <td>0.596818</td>\n",
       "      <td>0.051525</td>\n",
       "      <td>0.920683</td>\n",
       "      <td>0.725888</td>\n",
       "      <td>0.084296</td>\n",
       "      <td>0.066497</td>\n",
       "      <td>0.410795</td>\n",
       "      <td>0.254357</td>\n",
       "      <td>0.8</td>\n",
       "      <td>27</td>\n",
       "      <td>14</td>\n",
       "    </tr>\n",
       "    <tr>\n",
       "      <th>5231</th>\n",
       "      <td>0.194416</td>\n",
       "      <td>0.10100</td>\n",
       "      <td>0.545455</td>\n",
       "      <td>0.621548</td>\n",
       "      <td>0.048148</td>\n",
       "      <td>0.858434</td>\n",
       "      <td>0.432487</td>\n",
       "      <td>0.070314</td>\n",
       "      <td>0.036041</td>\n",
       "      <td>0.388495</td>\n",
       "      <td>0.217350</td>\n",
       "      <td>0.8</td>\n",
       "      <td>5</td>\n",
       "      <td>33</td>\n",
       "    </tr>\n",
       "    <tr>\n",
       "      <th>5232</th>\n",
       "      <td>0.061634</td>\n",
       "      <td>0.00093</td>\n",
       "      <td>0.818182</td>\n",
       "      <td>0.277803</td>\n",
       "      <td>0.047277</td>\n",
       "      <td>0.954819</td>\n",
       "      <td>0.983756</td>\n",
       "      <td>0.078217</td>\n",
       "      <td>0.034924</td>\n",
       "      <td>0.334469</td>\n",
       "      <td>0.054302</td>\n",
       "      <td>0.6</td>\n",
       "      <td>12</td>\n",
       "      <td>43</td>\n",
       "    </tr>\n",
       "    <tr>\n",
       "      <th>5233</th>\n",
       "      <td>0.137539</td>\n",
       "      <td>0.02080</td>\n",
       "      <td>0.363636</td>\n",
       "      <td>0.498142</td>\n",
       "      <td>0.045643</td>\n",
       "      <td>0.886546</td>\n",
       "      <td>0.512690</td>\n",
       "      <td>0.112462</td>\n",
       "      <td>0.060000</td>\n",
       "      <td>0.313608</td>\n",
       "      <td>0.074424</td>\n",
       "      <td>0.8</td>\n",
       "      <td>27</td>\n",
       "      <td>14</td>\n",
       "    </tr>\n",
       "    <tr>\n",
       "      <th>5234</th>\n",
       "      <td>0.366081</td>\n",
       "      <td>0.04870</td>\n",
       "      <td>0.454545</td>\n",
       "      <td>0.577614</td>\n",
       "      <td>0.035185</td>\n",
       "      <td>0.786145</td>\n",
       "      <td>0.491371</td>\n",
       "      <td>0.287741</td>\n",
       "      <td>0.256853</td>\n",
       "      <td>0.299640</td>\n",
       "      <td>0.242141</td>\n",
       "      <td>0.6</td>\n",
       "      <td>27</td>\n",
       "      <td>14</td>\n",
       "    </tr>\n",
       "  </tbody>\n",
       "</table>\n",
       "<p>5235 rows × 14 columns</p>\n",
       "</div>"
      ],
      "text/plain": [
       "      danceability   energy       key  loudness  speechiness  acousticness  \\\n",
       "0         0.680455  0.25900  1.000000  0.763897     0.076797      0.696787   \n",
       "1         0.767322  0.39900  0.181818  0.771967     0.037691      0.217871   \n",
       "2         0.880041  0.73000  0.181818  0.798018     0.377996      0.454819   \n",
       "3         0.729059  0.05020  0.363636  0.682811     0.051307      0.882530   \n",
       "4         0.673216  0.11900  0.545455  0.655228     0.041394      0.919679   \n",
       "...            ...      ...       ...       ...          ...           ...   \n",
       "5230      0.208893  0.06940  0.272727  0.596818     0.051525      0.920683   \n",
       "5231      0.194416  0.10100  0.545455  0.621548     0.048148      0.858434   \n",
       "5232      0.061634  0.00093  0.818182  0.277803     0.047277      0.954819   \n",
       "5233      0.137539  0.02080  0.363636  0.498142     0.045643      0.886546   \n",
       "5234      0.366081  0.04870  0.454545  0.577614     0.035185      0.786145   \n",
       "\n",
       "      instrumentalness  liveness   valence     tempo  duration_ms  \\\n",
       "0             0.000060  0.987842  0.310660  0.515800     0.059067   \n",
       "1             0.000002  0.108409  0.703553  0.584322     0.042058   \n",
       "2             0.000064  0.125633  0.918782  0.437862     0.031590   \n",
       "3             0.000041  0.391084  0.531980  0.499098     0.040567   \n",
       "4             0.000348  0.105370  0.408122  0.565171     0.063684   \n",
       "...                ...       ...       ...       ...          ...   \n",
       "5230          0.725888  0.084296  0.066497  0.410795     0.254357   \n",
       "5231          0.432487  0.070314  0.036041  0.388495     0.217350   \n",
       "5232          0.983756  0.078217  0.034924  0.334469     0.054302   \n",
       "5233          0.512690  0.112462  0.060000  0.313608     0.074424   \n",
       "5234          0.491371  0.287741  0.256853  0.299640     0.242141   \n",
       "\n",
       "      time_signature  cluster  new_cluster  \n",
       "0                0.8       25            4  \n",
       "1                0.8        0            0  \n",
       "2                0.8       35           44  \n",
       "3                0.8       19           28  \n",
       "4                0.8       19           28  \n",
       "...              ...      ...          ...  \n",
       "5230             0.8       27           14  \n",
       "5231             0.8        5           33  \n",
       "5232             0.6       12           43  \n",
       "5233             0.8       27           14  \n",
       "5234             0.6       27           14  \n",
       "\n",
       "[5235 rows x 14 columns]"
      ]
     },
     "execution_count": 52,
     "metadata": {},
     "output_type": "execute_result"
    }
   ],
   "source": [
    "numeric_data_df"
   ]
  },
  {
   "cell_type": "code",
   "execution_count": 53,
   "metadata": {},
   "outputs": [
    {
     "data": {
      "text/html": [
       "<div>\n",
       "<style scoped>\n",
       "    .dataframe tbody tr th:only-of-type {\n",
       "        vertical-align: middle;\n",
       "    }\n",
       "\n",
       "    .dataframe tbody tr th {\n",
       "        vertical-align: top;\n",
       "    }\n",
       "\n",
       "    .dataframe thead th {\n",
       "        text-align: right;\n",
       "    }\n",
       "</style>\n",
       "<table border=\"1\" class=\"dataframe\">\n",
       "  <thead>\n",
       "    <tr style=\"text-align: right;\">\n",
       "      <th></th>\n",
       "      <th>name</th>\n",
       "      <th>artist</th>\n",
       "      <th>id</th>\n",
       "      <th>html</th>\n",
       "      <th>cluster</th>\n",
       "    </tr>\n",
       "  </thead>\n",
       "  <tbody>\n",
       "    <tr>\n",
       "      <th>0</th>\n",
       "      <td>Se Eu Quiser Falar Com Deus                   ...</td>\n",
       "      <td>Gilberto Gil</td>\n",
       "      <td>1n7JnwviZ7zf0LR1tcGFq7</td>\n",
       "      <td>https://open.spotify.com/track/1n7JnwviZ7zf0LR...</td>\n",
       "      <td>4</td>\n",
       "    </tr>\n",
       "    <tr>\n",
       "      <th>1</th>\n",
       "      <td>Saudade De Bahia                              ...</td>\n",
       "      <td>Antônio Carlos Jobim</td>\n",
       "      <td>5QGM1U0eCYrQuwSJwTm5Zq</td>\n",
       "      <td>https://open.spotify.com/track/5QGM1U0eCYrQuwS...</td>\n",
       "      <td>0</td>\n",
       "    </tr>\n",
       "    <tr>\n",
       "      <th>2</th>\n",
       "      <td>Canta Canta, Minha Gente                      ...</td>\n",
       "      <td>Martinho Da Vila</td>\n",
       "      <td>0NLIFSZxPzQhCwnkn5PJYs</td>\n",
       "      <td>https://open.spotify.com/track/0NLIFSZxPzQhCwn...</td>\n",
       "      <td>44</td>\n",
       "    </tr>\n",
       "    <tr>\n",
       "      <th>3</th>\n",
       "      <td>Mulher Eu Sei                                 ...</td>\n",
       "      <td>Chico César</td>\n",
       "      <td>3mXqOdlLE1k67WsAxryPFs</td>\n",
       "      <td>https://open.spotify.com/track/3mXqOdlLE1k67Ws...</td>\n",
       "      <td>28</td>\n",
       "    </tr>\n",
       "    <tr>\n",
       "      <th>4</th>\n",
       "      <td>Rosa Morena                                   ...</td>\n",
       "      <td>Kurt Elling</td>\n",
       "      <td>7bSzjzjTkWT2CkIPPdp0eA</td>\n",
       "      <td>https://open.spotify.com/track/7bSzjzjTkWT2CkI...</td>\n",
       "      <td>28</td>\n",
       "    </tr>\n",
       "    <tr>\n",
       "      <th>...</th>\n",
       "      <td>...</td>\n",
       "      <td>...</td>\n",
       "      <td>...</td>\n",
       "      <td>...</td>\n",
       "      <td>...</td>\n",
       "    </tr>\n",
       "    <tr>\n",
       "      <th>5230</th>\n",
       "      <td>1812 Festival Overture, Op. 49: 1812 Overture,...</td>\n",
       "      <td>Pyotr Ilyich Tchaikovsky</td>\n",
       "      <td>1aEhYlZtypmipA06SDJ4U3</td>\n",
       "      <td>https://open.spotify.com/track/1aEhYlZtypmipA0...</td>\n",
       "      <td>14</td>\n",
       "    </tr>\n",
       "    <tr>\n",
       "      <th>5231</th>\n",
       "      <td>Winter Fragments pour ensemble instrumental, s...</td>\n",
       "      <td>Tristan Murail</td>\n",
       "      <td>1Gfqe7TAKklmuZf6hxsH6h</td>\n",
       "      <td>https://open.spotify.com/track/1Gfqe7TAKklmuZf...</td>\n",
       "      <td>33</td>\n",
       "    </tr>\n",
       "    <tr>\n",
       "      <th>5232</th>\n",
       "      <td>Schoenberg: 5 Orchestral Pieces, Op. 16: No. 3...</td>\n",
       "      <td>Arnold Schoenberg</td>\n",
       "      <td>2XNwnFrdMDpismp0VUZ7cU</td>\n",
       "      <td>https://open.spotify.com/track/2XNwnFrdMDpismp...</td>\n",
       "      <td>43</td>\n",
       "    </tr>\n",
       "    <tr>\n",
       "      <th>5233</th>\n",
       "      <td>Serenade For Strings In E, Op.22, B. 52: 1. Mo...</td>\n",
       "      <td>Antonín Dvořák</td>\n",
       "      <td>7ucDwgMtE3YJtEfTbuRhy0</td>\n",
       "      <td>https://open.spotify.com/track/7ucDwgMtE3YJtEf...</td>\n",
       "      <td>14</td>\n",
       "    </tr>\n",
       "    <tr>\n",
       "      <th>5234</th>\n",
       "      <td>Ravel: Boléro, M. 81                          ...</td>\n",
       "      <td>Maurice Ravel</td>\n",
       "      <td>7E1ErYYCn0lYjHODZ1qGuB</td>\n",
       "      <td>https://open.spotify.com/track/7E1ErYYCn0lYjHO...</td>\n",
       "      <td>14</td>\n",
       "    </tr>\n",
       "  </tbody>\n",
       "</table>\n",
       "<p>5235 rows × 5 columns</p>\n",
       "</div>"
      ],
      "text/plain": [
       "                                                   name  \\\n",
       "0     Se Eu Quiser Falar Com Deus                   ...   \n",
       "1     Saudade De Bahia                              ...   \n",
       "2     Canta Canta, Minha Gente                      ...   \n",
       "3     Mulher Eu Sei                                 ...   \n",
       "4     Rosa Morena                                   ...   \n",
       "...                                                 ...   \n",
       "5230  1812 Festival Overture, Op. 49: 1812 Overture,...   \n",
       "5231  Winter Fragments pour ensemble instrumental, s...   \n",
       "5232  Schoenberg: 5 Orchestral Pieces, Op. 16: No. 3...   \n",
       "5233  Serenade For Strings In E, Op.22, B. 52: 1. Mo...   \n",
       "5234  Ravel: Boléro, M. 81                          ...   \n",
       "\n",
       "                                                artist  \\\n",
       "0     Gilberto Gil                                       \n",
       "1     Antônio Carlos Jobim                               \n",
       "2     Martinho Da Vila                                   \n",
       "3     Chico César                                        \n",
       "4     Kurt Elling                                        \n",
       "...                                                ...   \n",
       "5230  Pyotr Ilyich Tchaikovsky                           \n",
       "5231  Tristan Murail                                     \n",
       "5232  Arnold Schoenberg                                  \n",
       "5233  Antonín Dvořák                                     \n",
       "5234  Maurice Ravel                                      \n",
       "\n",
       "                           id  \\\n",
       "0     1n7JnwviZ7zf0LR1tcGFq7    \n",
       "1     5QGM1U0eCYrQuwSJwTm5Zq    \n",
       "2     0NLIFSZxPzQhCwnkn5PJYs    \n",
       "3     3mXqOdlLE1k67WsAxryPFs    \n",
       "4     7bSzjzjTkWT2CkIPPdp0eA    \n",
       "...                       ...   \n",
       "5230  1aEhYlZtypmipA06SDJ4U3    \n",
       "5231  1Gfqe7TAKklmuZf6hxsH6h    \n",
       "5232  2XNwnFrdMDpismp0VUZ7cU    \n",
       "5233  7ucDwgMtE3YJtEfTbuRhy0    \n",
       "5234  7E1ErYYCn0lYjHODZ1qGuB    \n",
       "\n",
       "                                                   html  cluster  \n",
       "0     https://open.spotify.com/track/1n7JnwviZ7zf0LR...        4  \n",
       "1     https://open.spotify.com/track/5QGM1U0eCYrQuwS...        0  \n",
       "2     https://open.spotify.com/track/0NLIFSZxPzQhCwn...       44  \n",
       "3     https://open.spotify.com/track/3mXqOdlLE1k67Ws...       28  \n",
       "4     https://open.spotify.com/track/7bSzjzjTkWT2CkI...       28  \n",
       "...                                                 ...      ...  \n",
       "5230  https://open.spotify.com/track/1aEhYlZtypmipA0...       14  \n",
       "5231  https://open.spotify.com/track/1Gfqe7TAKklmuZf...       33  \n",
       "5232  https://open.spotify.com/track/2XNwnFrdMDpismp...       43  \n",
       "5233  https://open.spotify.com/track/7ucDwgMtE3YJtEf...       14  \n",
       "5234  https://open.spotify.com/track/7E1ErYYCn0lYjHO...       14  \n",
       "\n",
       "[5235 rows x 5 columns]"
      ]
     },
     "execution_count": 53,
     "metadata": {},
     "output_type": "execute_result"
    }
   ],
   "source": [
    "\n",
    "final_df\n",
    "\n",
    "\n"
   ]
  },
  {
   "cell_type": "code",
   "execution_count": 56,
   "metadata": {},
   "outputs": [
    {
     "data": {
      "application/vnd.plotly.v1+json": {
       "config": {
        "plotlyServerURL": "https://plot.ly"
       },
       "data": [
        {
         "fill": "toself",
         "name": "Cluster 0",
         "r": [
          0.7483898474210346,
          0.5269385964912281,
          0.1475279106858054,
          0.814036717923726,
          0.06806845545235637,
          0.2252640562248996,
          0.015975790097070088,
          0.11101779270872215,
          0.8247573247840412,
          0.5580063997087911,
          0.049175094580693135,
          0.7982456140350878
         ],
         "theta": [
          "danceability",
          "energy",
          "key",
          "loudness",
          "speechiness",
          "acousticness",
          "instrumentalness",
          "liveness",
          "valence",
          "tempo",
          "duration_ms",
          "time_signature",
          "cluster",
          "new_cluster"
         ],
         "type": "scatterpolar"
        },
        {
         "fill": "toself",
         "name": "Cluster 1",
         "r": [
          0.6816849228421402,
          0.7550194174757281,
          0.5366284201235658,
          0.8881463720987506,
          0.08282727330414366,
          0.08663587066713456,
          0.01940669720565768,
          0.16644534285517554,
          0.5233995367404268,
          0.5447483255047306,
          0.05014898931002192,
          0.7970873786407766
         ],
         "theta": [
          "danceability",
          "energy",
          "key",
          "loudness",
          "speechiness",
          "acousticness",
          "instrumentalness",
          "liveness",
          "valence",
          "tempo",
          "duration_ms",
          "time_signature",
          "cluster",
          "new_cluster"
         ],
         "type": "scatterpolar"
        },
        {
         "fill": "toself",
         "name": "Cluster 2",
         "r": [
          0.2431349932384059,
          0.1632171153846154,
          0.4510489510489511,
          0.6332657634498134,
          0.047762694821518355,
          0.9221887550200802,
          0.8810816087465834,
          0.1362734782947549,
          0.12903943771964077,
          0.538079870734434,
          0.06687602994191608,
          0.43846153846153857
         ],
         "theta": [
          "danceability",
          "energy",
          "key",
          "loudness",
          "speechiness",
          "acousticness",
          "instrumentalness",
          "liveness",
          "valence",
          "tempo",
          "duration_ms",
          "time_signature",
          "cluster",
          "new_cluster"
         ],
         "type": "scatterpolar"
        },
        {
         "fill": "toself",
         "name": "Cluster 3",
         "r": [
          0.2307328843712429,
          0.904430894308943,
          0.16260162601626016,
          0.8346711612595568,
          0.12441681279557895,
          0.003721636627812062,
          0.8642647847798275,
          0.15837925552507806,
          0.14237051710618628,
          0.470062501970877,
          0.05579824094105601,
          0.759349593495935
         ],
         "theta": [
          "danceability",
          "energy",
          "key",
          "loudness",
          "speechiness",
          "acousticness",
          "instrumentalness",
          "liveness",
          "valence",
          "tempo",
          "duration_ms",
          "time_signature",
          "cluster",
          "new_cluster"
         ],
         "type": "scatterpolar"
        },
        {
         "fill": "toself",
         "name": "Cluster 4",
         "r": [
          0.2982546853172227,
          0.9432894736842105,
          0.890749601275917,
          0.8753070933340656,
          0.13696823758743262,
          0.006805104981328825,
          0.06234131080238667,
          0.15590572175118647,
          0.17508326654198947,
          0.5558728764993938,
          0.058108915556570995,
          0.7754385964912281
         ],
         "theta": [
          "danceability",
          "energy",
          "key",
          "loudness",
          "speechiness",
          "acousticness",
          "instrumentalness",
          "liveness",
          "valence",
          "tempo",
          "duration_ms",
          "time_signature",
          "cluster",
          "new_cluster"
         ],
         "type": "scatterpolar"
        },
        {
         "fill": "toself",
         "name": "Cluster 5",
         "r": [
          0.271607991247396,
          0.14223927536231884,
          0.689064558629776,
          0.6835177826951674,
          0.04544851757127972,
          0.9287876142250162,
          0.0643059951445597,
          0.1795868023435091,
          0.14790406827043331,
          0.4960185732639545,
          0.06376355782540416,
          0.6985507246376812
         ],
         "theta": [
          "danceability",
          "energy",
          "key",
          "loudness",
          "speechiness",
          "acousticness",
          "instrumentalness",
          "liveness",
          "valence",
          "tempo",
          "duration_ms",
          "time_signature",
          "cluster",
          "new_cluster"
         ],
         "type": "scatterpolar"
        },
        {
         "fill": "toself",
         "name": "Cluster 6",
         "r": [
          0.3060732752252918,
          0.8886428571428571,
          0.15974025974025977,
          0.851159774007089,
          0.10630563336445689,
          0.01705662765347103,
          0.46088469905728796,
          0.20029671443045305,
          0.2319477882523567,
          0.569901464020348,
          0.060368131506481834,
          0.7457142857142854
         ],
         "theta": [
          "danceability",
          "energy",
          "key",
          "loudness",
          "speechiness",
          "acousticness",
          "instrumentalness",
          "liveness",
          "valence",
          "tempo",
          "duration_ms",
          "time_signature",
          "cluster",
          "new_cluster"
         ],
         "type": "scatterpolar"
        },
        {
         "fill": "toself",
         "name": "Cluster 7",
         "r": [
          0.3736371694489585,
          0.15300476190476187,
          0.12445887445887446,
          0.6947871108275073,
          0.048399730262475356,
          0.9156985083189904,
          0.04066425549915397,
          0.15918970425049453,
          0.19664974619289335,
          0.4744372233682482,
          0.06213163867629459,
          0.75
         ],
         "theta": [
          "danceability",
          "energy",
          "key",
          "loudness",
          "speechiness",
          "acousticness",
          "instrumentalness",
          "liveness",
          "valence",
          "tempo",
          "duration_ms",
          "time_signature",
          "cluster",
          "new_cluster"
         ],
         "type": "scatterpolar"
        },
        {
         "fill": "toself",
         "name": "Cluster 8",
         "r": [
          0.6905722164770769,
          0.7904833333333333,
          0.75,
          0.879677871605099,
          0.1516085693536674,
          0.1633532128514056,
          0.0005060159052453467,
          0.6665991219182709,
          0.6492724196277495,
          0.5524889013505305,
          0.05260486289594725,
          0.8033333333333331
         ],
         "theta": [
          "danceability",
          "energy",
          "key",
          "loudness",
          "speechiness",
          "acousticness",
          "instrumentalness",
          "liveness",
          "valence",
          "tempo",
          "duration_ms",
          "time_signature",
          "cluster",
          "new_cluster"
         ],
         "type": "scatterpolar"
        },
        {
         "fill": "toself",
         "name": "Cluster 9",
         "r": [
          0.2414033700346736,
          0.9171705882352941,
          0.5663101604278076,
          0.8423118600248942,
          0.11848519800076891,
          0.005714946432789984,
          0.8626634816363092,
          0.17252220036950952,
          0.2028217378321887,
          0.5784712864537376,
          0.059565089325683,
          0.7764705882352941
         ],
         "theta": [
          "danceability",
          "energy",
          "key",
          "loudness",
          "speechiness",
          "acousticness",
          "instrumentalness",
          "liveness",
          "valence",
          "tempo",
          "duration_ms",
          "time_signature",
          "cluster",
          "new_cluster"
         ],
         "type": "scatterpolar"
        },
        {
         "fill": "toself",
         "name": "Cluster 10",
         "r": [
          0.5975806257665761,
          0.8228837209302324,
          0.11557434813248767,
          0.8983324904291835,
          0.08150005911063822,
          0.04378782649979764,
          0.020097589265336634,
          0.1737101701970579,
          0.35718726635973713,
          0.5779452854241177,
          0.05018725796511219,
          0.8015503875968991
         ],
         "theta": [
          "danceability",
          "energy",
          "key",
          "loudness",
          "speechiness",
          "acousticness",
          "instrumentalness",
          "liveness",
          "valence",
          "tempo",
          "duration_ms",
          "time_signature",
          "cluster",
          "new_cluster"
         ],
         "type": "scatterpolar"
        },
        {
         "fill": "toself",
         "name": "Cluster 11",
         "r": [
          0.42247899698308655,
          0.16570612396694215,
          0.16378662659654394,
          0.6581954418406382,
          0.04960478222510309,
          0.9413106973347938,
          0.8905902588412971,
          0.15305919097021614,
          0.2253244955321559,
          0.5524599318960992,
          0.06224134647066384,
          0.7768595041322315
         ],
         "theta": [
          "danceability",
          "energy",
          "key",
          "loudness",
          "speechiness",
          "acousticness",
          "instrumentalness",
          "liveness",
          "valence",
          "tempo",
          "duration_ms",
          "time_signature",
          "cluster",
          "new_cluster"
         ],
         "type": "scatterpolar"
        },
        {
         "fill": "toself",
         "name": "Cluster 12",
         "r": [
          0.23154271127383846,
          0.09581355855855857,
          0.7977067977067976,
          0.5935768183168006,
          0.04681053602622231,
          0.9502514562755529,
          0.9009191933049802,
          0.12332758290205098,
          0.09263364887730371,
          0.3760140766028891,
          0.08967454983621405,
          0.7621621621621621
         ],
         "theta": [
          "danceability",
          "energy",
          "key",
          "loudness",
          "speechiness",
          "acousticness",
          "instrumentalness",
          "liveness",
          "valence",
          "tempo",
          "duration_ms",
          "time_signature",
          "cluster",
          "new_cluster"
         ],
         "type": "scatterpolar"
        },
        {
         "fill": "toself",
         "name": "Cluster 13",
         "r": [
          0.5821291819223567,
          0.7150945945945946,
          0.12162162162162164,
          0.8763648556123532,
          0.10286904551610433,
          0.4856317160534028,
          0.021567290574838794,
          0.1367397792929708,
          0.5654273562903004,
          0.6174312894136251,
          0.046376514919959096,
          0.7918918918918918
         ],
         "theta": [
          "danceability",
          "energy",
          "key",
          "loudness",
          "speechiness",
          "acousticness",
          "instrumentalness",
          "liveness",
          "valence",
          "tempo",
          "duration_ms",
          "time_signature",
          "cluster",
          "new_cluster"
         ],
         "type": "scatterpolar"
        },
        {
         "fill": "toself",
         "name": "Cluster 14",
         "r": [
          0.5052254708407758,
          0.8609166666666666,
          0.8402203856749311,
          0.8910403470655825,
          0.10259539842873176,
          0.04686139284410369,
          0.0468190945239194,
          0.17693960885450247,
          0.5361636671281341,
          0.6552426338245768,
          0.050768475919287695,
          0.7939393939393938
         ],
         "theta": [
          "danceability",
          "energy",
          "key",
          "loudness",
          "speechiness",
          "acousticness",
          "instrumentalness",
          "liveness",
          "valence",
          "tempo",
          "duration_ms",
          "time_signature",
          "cluster",
          "new_cluster"
         ],
         "type": "scatterpolar"
        },
        {
         "fill": "toself",
         "name": "Cluster 15",
         "r": [
          0.6147052740434333,
          0.53277,
          0.8,
          0.8187957679893059,
          0.07050000000000001,
          0.6795281124497992,
          0.016059561319796956,
          0.17501317122593718,
          0.7776649746192894,
          0.5909953268844338,
          0.0490120689067247,
          0.7819999999999999
         ],
         "theta": [
          "danceability",
          "energy",
          "key",
          "loudness",
          "speechiness",
          "acousticness",
          "instrumentalness",
          "liveness",
          "valence",
          "tempo",
          "duration_ms",
          "time_signature",
          "cluster",
          "new_cluster"
         ],
         "type": "scatterpolar"
        },
        {
         "fill": "toself",
         "name": "Cluster 16",
         "r": [
          0.7885139170077342,
          0.7074647887323943,
          0.09026888604353395,
          0.8803470131210793,
          0.15061293688054253,
          0.09990584379772613,
          0.0113994890255237,
          0.13875665339555063,
          0.5701294058768857,
          0.5027091235670483,
          0.050164590419259504,
          0.7999999999999997
         ],
         "theta": [
          "danceability",
          "energy",
          "key",
          "loudness",
          "speechiness",
          "acousticness",
          "instrumentalness",
          "liveness",
          "valence",
          "tempo",
          "duration_ms",
          "time_signature",
          "cluster",
          "new_cluster"
         ],
         "type": "scatterpolar"
        },
        {
         "fill": "toself",
         "name": "Cluster 17",
         "r": [
          0.2968300055683716,
          0.9154038461538462,
          0.7604895104895105,
          0.856262054107739,
          0.12562112451818336,
          0.0038374943041396357,
          0.46963100351425224,
          0.20679506663549216,
          0.2040784849668098,
          0.5661680362489979,
          0.06482625706061065,
          0.7730769230769231
         ],
         "theta": [
          "danceability",
          "energy",
          "key",
          "loudness",
          "speechiness",
          "acousticness",
          "instrumentalness",
          "liveness",
          "valence",
          "tempo",
          "duration_ms",
          "time_signature",
          "cluster",
          "new_cluster"
         ],
         "type": "scatterpolar"
        },
        {
         "fill": "toself",
         "name": "Cluster 18",
         "r": [
          0.6969641010488994,
          0.7099166666666668,
          0.906926406926407,
          0.878488249331228,
          0.08982259570494865,
          0.11437908777969019,
          0.010716224014986706,
          0.18081910068992138,
          0.4208423978728547,
          0.5437213354429112,
          0.05246232051740577,
          0.7999999999999998
         ],
         "theta": [
          "danceability",
          "energy",
          "key",
          "loudness",
          "speechiness",
          "acousticness",
          "instrumentalness",
          "liveness",
          "valence",
          "tempo",
          "duration_ms",
          "time_signature",
          "cluster",
          "new_cluster"
         ],
         "type": "scatterpolar"
        },
        {
         "fill": "toself",
         "name": "Cluster 19",
         "r": [
          0.5823326809507124,
          0.29991421735537194,
          0.42975206611570255,
          0.7699594281188977,
          0.05481913610255856,
          0.8025324438248864,
          0.026013570919159287,
          0.1383665335309436,
          0.4948693208037924,
          0.5442166718997837,
          0.05294934496975374,
          0.7785123966942149
         ],
         "theta": [
          "danceability",
          "energy",
          "key",
          "loudness",
          "speechiness",
          "acousticness",
          "instrumentalness",
          "liveness",
          "valence",
          "tempo",
          "duration_ms",
          "time_signature",
          "cluster",
          "new_cluster"
         ],
         "type": "scatterpolar"
        },
        {
         "fill": "toself",
         "name": "Cluster 20",
         "r": [
          0.6971770556007834,
          0.7784893617021278,
          0.7214700193423599,
          0.8554185567210552,
          0.0626060353219302,
          0.08941143296590619,
          0.7288260071281994,
          0.21516307745370666,
          0.7473593260611295,
          0.6074258789185814,
          0.06386483178119622,
          0.7914893617021272
         ],
         "theta": [
          "danceability",
          "energy",
          "key",
          "loudness",
          "speechiness",
          "acousticness",
          "instrumentalness",
          "liveness",
          "valence",
          "tempo",
          "duration_ms",
          "time_signature",
          "cluster",
          "new_cluster"
         ],
         "type": "scatterpolar"
        },
        {
         "fill": "toself",
         "name": "Cluster 21",
         "r": [
          0.7514099745379021,
          0.49931008403361343,
          0.7937356760886172,
          0.8211835612925358,
          0.09734900496146169,
          0.17853317471566943,
          0.02208089237725547,
          0.13895089950873968,
          0.7420296037196606,
          0.49488890747663145,
          0.04941325797453475,
          0.7983193277310923
         ],
         "theta": [
          "danceability",
          "energy",
          "key",
          "loudness",
          "speechiness",
          "acousticness",
          "instrumentalness",
          "liveness",
          "valence",
          "tempo",
          "duration_ms",
          "time_signature",
          "cluster",
          "new_cluster"
         ],
         "type": "scatterpolar"
        },
        {
         "fill": "toself",
         "name": "Cluster 22",
         "r": [
          0.7628725979294748,
          0.8071098901098901,
          0.08241758241758242,
          0.8870576458199947,
          0.0981643084584261,
          0.1407331192903482,
          0.004580454454175266,
          0.16795428482358574,
          0.8522507948903889,
          0.5584789830478881,
          0.049584540064385965,
          0.7989010989010987
         ],
         "theta": [
          "danceability",
          "energy",
          "key",
          "loudness",
          "speechiness",
          "acousticness",
          "instrumentalness",
          "liveness",
          "valence",
          "tempo",
          "duration_ms",
          "time_signature",
          "cluster",
          "new_cluster"
         ],
         "type": "scatterpolar"
        },
        {
         "fill": "toself",
         "name": "Cluster 23",
         "r": [
          0.2126421923474664,
          0.9135312500000001,
          0.11789772727272728,
          0.8413039292002218,
          0.11193661492374726,
          0.0002820323481425703,
          0.8572176395939086,
          0.15898714539007092,
          0.23829473350253805,
          0.7519618323286135,
          0.06319129909064883,
          0.7749999999999999
         ],
         "theta": [
          "danceability",
          "energy",
          "key",
          "loudness",
          "speechiness",
          "acousticness",
          "instrumentalness",
          "liveness",
          "valence",
          "tempo",
          "duration_ms",
          "time_signature",
          "cluster",
          "new_cluster"
         ],
         "type": "scatterpolar"
        },
        {
         "fill": "toself",
         "name": "Cluster 24",
         "r": [
          0.6983069014711767,
          0.8377445255474452,
          0.5122760451227605,
          0.8878783472440145,
          0.10145269786746815,
          0.10021410679213204,
          0.015444041498388232,
          0.19015227150030692,
          0.8352588091444663,
          0.6371864365037864,
          0.04986894990218305,
          0.8014598540145984
         ],
         "theta": [
          "danceability",
          "energy",
          "key",
          "loudness",
          "speechiness",
          "acousticness",
          "instrumentalness",
          "liveness",
          "valence",
          "tempo",
          "duration_ms",
          "time_signature",
          "cluster",
          "new_cluster"
         ],
         "type": "scatterpolar"
        },
        {
         "fill": "toself",
         "name": "Cluster 25",
         "r": [
          0.5188926895235066,
          0.30473846153846157,
          0.6923076923076924,
          0.742886038678481,
          0.07173202614379084,
          0.8098161878282361,
          0.07293353807106599,
          0.7674772036474165,
          0.3749511909410386,
          0.48078648534978274,
          0.05393898955681623,
          0.8000000000000002
         ],
         "theta": [
          "danceability",
          "energy",
          "key",
          "loudness",
          "speechiness",
          "acousticness",
          "instrumentalness",
          "liveness",
          "valence",
          "tempo",
          "duration_ms",
          "time_signature",
          "cluster",
          "new_cluster"
         ],
         "type": "scatterpolar"
        },
        {
         "fill": "toself",
         "name": "Cluster 26",
         "r": [
          0.5950618187808292,
          0.7030088495575221,
          0.6387771520514883,
          0.8826389864687261,
          0.07456282414637438,
          0.06536970003909444,
          0.019241023763532632,
          0.13402641418081074,
          0.20751897938098016,
          0.5794840714994953,
          0.056225637880641686,
          0.7858407079646019
         ],
         "theta": [
          "danceability",
          "energy",
          "key",
          "loudness",
          "speechiness",
          "acousticness",
          "instrumentalness",
          "liveness",
          "valence",
          "tempo",
          "duration_ms",
          "time_signature",
          "cluster",
          "new_cluster"
         ],
         "type": "scatterpolar"
        },
        {
         "fill": "toself",
         "name": "Cluster 27",
         "r": [
          0.2451425200635041,
          0.07804166197183099,
          0.20486555697823305,
          0.5651085279896917,
          0.047470772346497284,
          0.9471689575202217,
          0.863516122113391,
          0.12592933487449523,
          0.08930649889182812,
          0.38010302574360133,
          0.11754746274666099,
          0.7549295774647886
         ],
         "theta": [
          "danceability",
          "energy",
          "key",
          "loudness",
          "speechiness",
          "acousticness",
          "instrumentalness",
          "liveness",
          "valence",
          "tempo",
          "duration_ms",
          "time_signature",
          "cluster",
          "new_cluster"
         ],
         "type": "scatterpolar"
        },
        {
         "fill": "toself",
         "name": "Cluster 28",
         "r": [
          0.2961847849254403,
          0.9313893129770993,
          0.5246356696738377,
          0.8732837120675695,
          0.1381255301102629,
          0.006589059827094639,
          0.06476381849885691,
          0.18234452462160763,
          0.20037276707869955,
          0.5595060267138117,
          0.061762899804112405,
          0.7893129770992364
         ],
         "theta": [
          "danceability",
          "energy",
          "key",
          "loudness",
          "speechiness",
          "acousticness",
          "instrumentalness",
          "liveness",
          "valence",
          "tempo",
          "duration_ms",
          "time_signature",
          "cluster",
          "new_cluster"
         ],
         "type": "scatterpolar"
        },
        {
         "fill": "toself",
         "name": "Cluster 29",
         "r": [
          0.6847866383094965,
          0.7830943396226416,
          0.23842195540308753,
          0.8786663451370388,
          0.0919574957865746,
          0.05762841176024855,
          0.800440570826549,
          0.15765517768729334,
          0.28610669476103817,
          0.5825631068988412,
          0.06066339079340931,
          0.7999999999999997
         ],
         "theta": [
          "danceability",
          "energy",
          "key",
          "loudness",
          "speechiness",
          "acousticness",
          "instrumentalness",
          "liveness",
          "valence",
          "tempo",
          "duration_ms",
          "time_signature",
          "cluster",
          "new_cluster"
         ],
         "type": "scatterpolar"
        },
        {
         "fill": "toself",
         "name": "Cluster 30",
         "r": [
          0.36952396104412655,
          0.8646373626373625,
          0.7742257742257743,
          0.8352920269388592,
          0.08188489070842012,
          0.015624528664106983,
          0.8306018854242204,
          0.25209036151285397,
          0.39741730350867405,
          0.5929433387305251,
          0.05952974334405396,
          0.7868131868131868
         ],
         "theta": [
          "danceability",
          "energy",
          "key",
          "loudness",
          "speechiness",
          "acousticness",
          "instrumentalness",
          "liveness",
          "valence",
          "tempo",
          "duration_ms",
          "time_signature",
          "cluster",
          "new_cluster"
         ],
         "type": "scatterpolar"
        },
        {
         "fill": "toself",
         "name": "Cluster 31",
         "r": [
          0.6198613656608681,
          0.5773762376237624,
          0.16381638163816384,
          0.8639886550684348,
          0.07992191376000346,
          0.10723629667183587,
          0.0102006680404081,
          0.15845596717726482,
          0.24884454942956222,
          0.5862640014176659,
          0.05592748561371935,
          0.7900990099009899
         ],
         "theta": [
          "danceability",
          "energy",
          "key",
          "loudness",
          "speechiness",
          "acousticness",
          "instrumentalness",
          "liveness",
          "valence",
          "tempo",
          "duration_ms",
          "time_signature",
          "cluster",
          "new_cluster"
         ],
         "type": "scatterpolar"
        },
        {
         "fill": "toself",
         "name": "Cluster 32",
         "r": [
          0.5207637760378194,
          0.8378285714285715,
          0.12467532467532466,
          0.8834904539886447,
          0.07819950202303144,
          0.03721077416810097,
          0.02733988535170413,
          0.19760095527572732,
          0.6626033357505439,
          0.6754992556394492,
          0.04833200087805726,
          0.8014285714285713
         ],
         "theta": [
          "danceability",
          "energy",
          "key",
          "loudness",
          "speechiness",
          "acousticness",
          "instrumentalness",
          "liveness",
          "valence",
          "tempo",
          "duration_ms",
          "time_signature",
          "cluster",
          "new_cluster"
         ],
         "type": "scatterpolar"
        },
        {
         "fill": "toself",
         "name": "Cluster 33",
         "r": [
          0.6560278669787187,
          0.4509263157894737,
          0.06985645933014353,
          0.8055885123783997,
          0.06132324274739136,
          0.7442189811879094,
          0.04284206871493454,
          0.17089638991094758,
          0.7403580016029921,
          0.5037880274779196,
          0.04025747802375966,
          0.7915789473684206
         ],
         "theta": [
          "danceability",
          "energy",
          "key",
          "loudness",
          "speechiness",
          "acousticness",
          "instrumentalness",
          "liveness",
          "valence",
          "tempo",
          "duration_ms",
          "time_signature",
          "cluster",
          "new_cluster"
         ],
         "type": "scatterpolar"
        },
        {
         "fill": "toself",
         "name": "Cluster 34",
         "r": [
          0.8160662819798926,
          0.6918165680473373,
          0.5067240451855837,
          0.8697998166839945,
          0.11300743834680486,
          0.11893871343361614,
          0.007001382392695161,
          0.13075484253880326,
          0.7856065839665995,
          0.48587278452153515,
          0.0511335821535218,
          0.7976331360946745
         ],
         "theta": [
          "danceability",
          "energy",
          "key",
          "loudness",
          "speechiness",
          "acousticness",
          "instrumentalness",
          "liveness",
          "valence",
          "tempo",
          "duration_ms",
          "time_signature",
          "cluster",
          "new_cluster"
         ],
         "type": "scatterpolar"
        },
        {
         "fill": "toself",
         "name": "Cluster 35",
         "r": [
          0.7033135125818685,
          0.6789479166666667,
          0.41098484848484845,
          0.8519115505417713,
          0.08797317538126363,
          0.587548109103079,
          0.00748002950507614,
          0.17703900709219855,
          0.861706852791878,
          0.5735921752574108,
          0.042800968311883576,
          0.8020833333333334
         ],
         "theta": [
          "danceability",
          "energy",
          "key",
          "loudness",
          "speechiness",
          "acousticness",
          "instrumentalness",
          "liveness",
          "valence",
          "tempo",
          "duration_ms",
          "time_signature",
          "cluster",
          "new_cluster"
         ],
         "type": "scatterpolar"
        },
        {
         "fill": "toself",
         "name": "Cluster 36",
         "r": [
          0.4011984187877373,
          0.126296935483871,
          0.7316715542521994,
          0.6277154735849035,
          0.05148376554923045,
          0.9534832879906723,
          0.8916734894383495,
          0.11393927509232932,
          0.1823260193220894,
          0.6304052495669831,
          0.057839897828191635,
          0.7596774193548387
         ],
         "theta": [
          "danceability",
          "energy",
          "key",
          "loudness",
          "speechiness",
          "acousticness",
          "instrumentalness",
          "liveness",
          "valence",
          "tempo",
          "duration_ms",
          "time_signature",
          "cluster",
          "new_cluster"
         ],
         "type": "scatterpolar"
        },
        {
         "fill": "toself",
         "name": "Cluster 37",
         "r": [
          0.767365155391063,
          0.7967631578947368,
          0.8779904306220095,
          0.8897086052485718,
          0.108067308794863,
          0.07021223789896427,
          0.01038746679134384,
          0.1518642350557244,
          0.7896019235907025,
          0.5562522596973297,
          0.04858659202635462,
          0.8010526315789471
         ],
         "theta": [
          "danceability",
          "energy",
          "key",
          "loudness",
          "speechiness",
          "acousticness",
          "instrumentalness",
          "liveness",
          "valence",
          "tempo",
          "duration_ms",
          "time_signature",
          "cluster",
          "new_cluster"
         ],
         "type": "scatterpolar"
        },
        {
         "fill": "toself",
         "name": "Cluster 38",
         "r": [
          0.24774129610479143,
          0.9082166666666667,
          0.9030303030303031,
          0.8417627128775282,
          0.12468954248366013,
          0.018230454735609105,
          0.846472081218274,
          0.19170043904086456,
          0.16144077834179354,
          0.5324403398912722,
          0.0613080962238264,
          0.77
         ],
         "theta": [
          "danceability",
          "energy",
          "key",
          "loudness",
          "speechiness",
          "acousticness",
          "instrumentalness",
          "liveness",
          "valence",
          "tempo",
          "duration_ms",
          "time_signature",
          "cluster",
          "new_cluster"
         ],
         "type": "scatterpolar"
        },
        {
         "fill": "toself",
         "name": "Cluster 39",
         "r": [
          0.7481098471791336,
          0.7562888888888888,
          0.8626262626262629,
          0.8762682084777877,
          0.10747034616315662,
          0.4130633645693887,
          0.007959506260575296,
          0.1504007655071485,
          0.8097913141567964,
          0.5673020026896376,
          0.049126988050104375,
          0.7999999999999998
         ],
         "theta": [
          "danceability",
          "energy",
          "key",
          "loudness",
          "speechiness",
          "acousticness",
          "instrumentalness",
          "liveness",
          "valence",
          "tempo",
          "duration_ms",
          "time_signature",
          "cluster",
          "new_cluster"
         ],
         "type": "scatterpolar"
        },
        {
         "fill": "toself",
         "name": "Cluster 40",
         "r": [
          0.29300902381323396,
          0.9074520547945204,
          0.12577833125778332,
          0.8375963551308786,
          0.10006267347121497,
          0.0157100871981075,
          0.8650719699603644,
          0.39162537646944534,
          0.2643293234128364,
          0.5625739776599471,
          0.05723896082332359,
          0.7808219178082191
         ],
         "theta": [
          "danceability",
          "energy",
          "key",
          "loudness",
          "speechiness",
          "acousticness",
          "instrumentalness",
          "liveness",
          "valence",
          "tempo",
          "duration_ms",
          "time_signature",
          "cluster",
          "new_cluster"
         ],
         "type": "scatterpolar"
        },
        {
         "fill": "toself",
         "name": "Cluster 41",
         "r": [
          0.5762076226311658,
          0.2477566265060241,
          0.8335158817086529,
          0.7615820132278323,
          0.05393206814184845,
          0.8562079643876712,
          0.04988950314965446,
          0.13224692081395492,
          0.37246284630909415,
          0.5514745368689112,
          0.05598327502390426,
          0.7855421686746986
         ],
         "theta": [
          "danceability",
          "energy",
          "key",
          "loudness",
          "speechiness",
          "acousticness",
          "instrumentalness",
          "liveness",
          "valence",
          "tempo",
          "duration_ms",
          "time_signature",
          "cluster",
          "new_cluster"
         ],
         "type": "scatterpolar"
        },
        {
         "fill": "toself",
         "name": "Cluster 42",
         "r": [
          0.2900989048869089,
          0.927094017094017,
          0.1258741258741259,
          0.8648153675052048,
          0.13000577248943262,
          0.005288428586139431,
          0.0567559298884984,
          0.18534625343135985,
          0.19098963078658507,
          0.5694350682574431,
          0.05901537370384936,
          0.7538461538461538
         ],
         "theta": [
          "danceability",
          "energy",
          "key",
          "loudness",
          "speechiness",
          "acousticness",
          "instrumentalness",
          "liveness",
          "valence",
          "tempo",
          "duration_ms",
          "time_signature",
          "cluster",
          "new_cluster"
         ],
         "type": "scatterpolar"
        },
        {
         "fill": "toself",
         "name": "Cluster 43",
         "r": [
          0.5122868210260635,
          0.5037711864406779,
          0.7072419106317412,
          0.8320106112492949,
          0.0520577157416639,
          0.45241984888707376,
          0.023116146863976596,
          0.1547267013549019,
          0.37015486535317904,
          0.5639508340719231,
          0.05816727975520885,
          0.7711864406779662
         ],
         "theta": [
          "danceability",
          "energy",
          "key",
          "loudness",
          "speechiness",
          "acousticness",
          "instrumentalness",
          "liveness",
          "valence",
          "tempo",
          "duration_ms",
          "time_signature",
          "cluster",
          "new_cluster"
         ],
         "type": "scatterpolar"
        },
        {
         "fill": "toself",
         "name": "Cluster 44",
         "r": [
          0.5816047204817811,
          0.6038529411764706,
          0.23262032085561496,
          0.8281913169558521,
          0.09437075483788286,
          0.5485175998110089,
          0.0017998551806509403,
          0.6606174384647477,
          0.761242161839355,
          0.5930572621590344,
          0.05013891070330094,
          0.8
         ],
         "theta": [
          "danceability",
          "energy",
          "key",
          "loudness",
          "speechiness",
          "acousticness",
          "instrumentalness",
          "liveness",
          "valence",
          "tempo",
          "duration_ms",
          "time_signature",
          "cluster",
          "new_cluster"
         ],
         "type": "scatterpolar"
        },
        {
         "fill": "toself",
         "name": "Cluster 45",
         "r": [
          0.4749108644986032,
          0.8927462686567165,
          0.7367706919945726,
          0.892753716987752,
          0.10358989366891036,
          0.03656297728226338,
          0.04944520600045458,
          0.5861422371425548,
          0.2502689597696795,
          0.6001175951170825,
          0.06034438370009543,
          0.7791044776119402
         ],
         "theta": [
          "danceability",
          "energy",
          "key",
          "loudness",
          "speechiness",
          "acousticness",
          "instrumentalness",
          "liveness",
          "valence",
          "tempo",
          "duration_ms",
          "time_signature",
          "cluster",
          "new_cluster"
         ],
         "type": "scatterpolar"
        },
        {
         "fill": "toself",
         "name": "Cluster 46",
         "r": [
          0.5774979071256217,
          0.40528571428571425,
          0.12121212121212122,
          0.8084385591476981,
          0.05533120655669676,
          0.554874258940524,
          0.03694056224317138,
          0.14740676412408935,
          0.3492168237853517,
          0.5319988250452292,
          0.0604592597157678,
          0.7714285714285714
         ],
         "theta": [
          "danceability",
          "energy",
          "key",
          "loudness",
          "speechiness",
          "acousticness",
          "instrumentalness",
          "liveness",
          "valence",
          "tempo",
          "duration_ms",
          "time_signature",
          "cluster",
          "new_cluster"
         ],
         "type": "scatterpolar"
        },
        {
         "fill": "toself",
         "name": "Cluster 47",
         "r": [
          0.45240092876236565,
          0.8333018867924528,
          0.16466552315608926,
          0.8510771345066293,
          0.07214000904344967,
          0.07044361123740243,
          0.7806148836318361,
          0.18087973848712507,
          0.674571401206781,
          0.6128293774969207,
          0.0503170938320826,
          0.7886792452830188
         ],
         "theta": [
          "danceability",
          "energy",
          "key",
          "loudness",
          "speechiness",
          "acousticness",
          "instrumentalness",
          "liveness",
          "valence",
          "tempo",
          "duration_ms",
          "time_signature",
          "cluster",
          "new_cluster"
         ],
         "type": "scatterpolar"
        },
        {
         "fill": "toself",
         "name": "Cluster 48",
         "r": [
          0.6265655521084684,
          0.361037037037037,
          0.5639730639730639,
          0.743805525064695,
          0.06049786169611877,
          0.8034359660865684,
          0.7739612709155858,
          0.18908401816203232,
          0.6111242714796014,
          0.5378300820564478,
          0.060273377592815175,
          0.7814814814814811
         ],
         "theta": [
          "danceability",
          "energy",
          "key",
          "loudness",
          "speechiness",
          "acousticness",
          "instrumentalness",
          "liveness",
          "valence",
          "tempo",
          "duration_ms",
          "time_signature",
          "cluster",
          "new_cluster"
         ],
         "type": "scatterpolar"
        },
        {
         "fill": "toself",
         "name": "Cluster 49",
         "r": [
          0.6202439111364689,
          0.8315862068965517,
          0.23667711598746086,
          0.8919736603935651,
          0.10804222071970551,
          0.07698523750173106,
          0.014468526518466654,
          0.6076407085211195,
          0.5369753194468755,
          0.5727467928730153,
          0.054371292873542074,
          0.7965517241379308
         ],
         "theta": [
          "danceability",
          "energy",
          "key",
          "loudness",
          "speechiness",
          "acousticness",
          "instrumentalness",
          "liveness",
          "valence",
          "tempo",
          "duration_ms",
          "time_signature",
          "cluster",
          "new_cluster"
         ],
         "type": "scatterpolar"
        }
       ],
       "layout": {
        "font": {
         "color": "#00cf61"
        },
        "height": 600,
        "paper_bgcolor": "#000000",
        "plot_bgcolor": "#000000",
        "polar": {
         "radialaxis": {
          "range": [
           0,
           1
          ],
          "visible": true
         }
        },
        "showlegend": true,
        "template": {
         "data": {
          "bar": [
           {
            "error_x": {
             "color": "#2a3f5f"
            },
            "error_y": {
             "color": "#2a3f5f"
            },
            "marker": {
             "line": {
              "color": "#E5ECF6",
              "width": 0.5
             },
             "pattern": {
              "fillmode": "overlay",
              "size": 10,
              "solidity": 0.2
             }
            },
            "type": "bar"
           }
          ],
          "barpolar": [
           {
            "marker": {
             "line": {
              "color": "#E5ECF6",
              "width": 0.5
             },
             "pattern": {
              "fillmode": "overlay",
              "size": 10,
              "solidity": 0.2
             }
            },
            "type": "barpolar"
           }
          ],
          "carpet": [
           {
            "aaxis": {
             "endlinecolor": "#2a3f5f",
             "gridcolor": "white",
             "linecolor": "white",
             "minorgridcolor": "white",
             "startlinecolor": "#2a3f5f"
            },
            "baxis": {
             "endlinecolor": "#2a3f5f",
             "gridcolor": "white",
             "linecolor": "white",
             "minorgridcolor": "white",
             "startlinecolor": "#2a3f5f"
            },
            "type": "carpet"
           }
          ],
          "choropleth": [
           {
            "colorbar": {
             "outlinewidth": 0,
             "ticks": ""
            },
            "type": "choropleth"
           }
          ],
          "contour": [
           {
            "colorbar": {
             "outlinewidth": 0,
             "ticks": ""
            },
            "colorscale": [
             [
              0,
              "#0d0887"
             ],
             [
              0.1111111111111111,
              "#46039f"
             ],
             [
              0.2222222222222222,
              "#7201a8"
             ],
             [
              0.3333333333333333,
              "#9c179e"
             ],
             [
              0.4444444444444444,
              "#bd3786"
             ],
             [
              0.5555555555555556,
              "#d8576b"
             ],
             [
              0.6666666666666666,
              "#ed7953"
             ],
             [
              0.7777777777777778,
              "#fb9f3a"
             ],
             [
              0.8888888888888888,
              "#fdca26"
             ],
             [
              1,
              "#f0f921"
             ]
            ],
            "type": "contour"
           }
          ],
          "contourcarpet": [
           {
            "colorbar": {
             "outlinewidth": 0,
             "ticks": ""
            },
            "type": "contourcarpet"
           }
          ],
          "heatmap": [
           {
            "colorbar": {
             "outlinewidth": 0,
             "ticks": ""
            },
            "colorscale": [
             [
              0,
              "#0d0887"
             ],
             [
              0.1111111111111111,
              "#46039f"
             ],
             [
              0.2222222222222222,
              "#7201a8"
             ],
             [
              0.3333333333333333,
              "#9c179e"
             ],
             [
              0.4444444444444444,
              "#bd3786"
             ],
             [
              0.5555555555555556,
              "#d8576b"
             ],
             [
              0.6666666666666666,
              "#ed7953"
             ],
             [
              0.7777777777777778,
              "#fb9f3a"
             ],
             [
              0.8888888888888888,
              "#fdca26"
             ],
             [
              1,
              "#f0f921"
             ]
            ],
            "type": "heatmap"
           }
          ],
          "histogram": [
           {
            "marker": {
             "pattern": {
              "fillmode": "overlay",
              "size": 10,
              "solidity": 0.2
             }
            },
            "type": "histogram"
           }
          ],
          "histogram2d": [
           {
            "colorbar": {
             "outlinewidth": 0,
             "ticks": ""
            },
            "colorscale": [
             [
              0,
              "#0d0887"
             ],
             [
              0.1111111111111111,
              "#46039f"
             ],
             [
              0.2222222222222222,
              "#7201a8"
             ],
             [
              0.3333333333333333,
              "#9c179e"
             ],
             [
              0.4444444444444444,
              "#bd3786"
             ],
             [
              0.5555555555555556,
              "#d8576b"
             ],
             [
              0.6666666666666666,
              "#ed7953"
             ],
             [
              0.7777777777777778,
              "#fb9f3a"
             ],
             [
              0.8888888888888888,
              "#fdca26"
             ],
             [
              1,
              "#f0f921"
             ]
            ],
            "type": "histogram2d"
           }
          ],
          "histogram2dcontour": [
           {
            "colorbar": {
             "outlinewidth": 0,
             "ticks": ""
            },
            "colorscale": [
             [
              0,
              "#0d0887"
             ],
             [
              0.1111111111111111,
              "#46039f"
             ],
             [
              0.2222222222222222,
              "#7201a8"
             ],
             [
              0.3333333333333333,
              "#9c179e"
             ],
             [
              0.4444444444444444,
              "#bd3786"
             ],
             [
              0.5555555555555556,
              "#d8576b"
             ],
             [
              0.6666666666666666,
              "#ed7953"
             ],
             [
              0.7777777777777778,
              "#fb9f3a"
             ],
             [
              0.8888888888888888,
              "#fdca26"
             ],
             [
              1,
              "#f0f921"
             ]
            ],
            "type": "histogram2dcontour"
           }
          ],
          "mesh3d": [
           {
            "colorbar": {
             "outlinewidth": 0,
             "ticks": ""
            },
            "type": "mesh3d"
           }
          ],
          "parcoords": [
           {
            "line": {
             "colorbar": {
              "outlinewidth": 0,
              "ticks": ""
             }
            },
            "type": "parcoords"
           }
          ],
          "pie": [
           {
            "automargin": true,
            "type": "pie"
           }
          ],
          "scatter": [
           {
            "fillpattern": {
             "fillmode": "overlay",
             "size": 10,
             "solidity": 0.2
            },
            "type": "scatter"
           }
          ],
          "scatter3d": [
           {
            "line": {
             "colorbar": {
              "outlinewidth": 0,
              "ticks": ""
             }
            },
            "marker": {
             "colorbar": {
              "outlinewidth": 0,
              "ticks": ""
             }
            },
            "type": "scatter3d"
           }
          ],
          "scattercarpet": [
           {
            "marker": {
             "colorbar": {
              "outlinewidth": 0,
              "ticks": ""
             }
            },
            "type": "scattercarpet"
           }
          ],
          "scattergeo": [
           {
            "marker": {
             "colorbar": {
              "outlinewidth": 0,
              "ticks": ""
             }
            },
            "type": "scattergeo"
           }
          ],
          "scattergl": [
           {
            "marker": {
             "colorbar": {
              "outlinewidth": 0,
              "ticks": ""
             }
            },
            "type": "scattergl"
           }
          ],
          "scattermap": [
           {
            "marker": {
             "colorbar": {
              "outlinewidth": 0,
              "ticks": ""
             }
            },
            "type": "scattermap"
           }
          ],
          "scattermapbox": [
           {
            "marker": {
             "colorbar": {
              "outlinewidth": 0,
              "ticks": ""
             }
            },
            "type": "scattermapbox"
           }
          ],
          "scatterpolar": [
           {
            "marker": {
             "colorbar": {
              "outlinewidth": 0,
              "ticks": ""
             }
            },
            "type": "scatterpolar"
           }
          ],
          "scatterpolargl": [
           {
            "marker": {
             "colorbar": {
              "outlinewidth": 0,
              "ticks": ""
             }
            },
            "type": "scatterpolargl"
           }
          ],
          "scatterternary": [
           {
            "marker": {
             "colorbar": {
              "outlinewidth": 0,
              "ticks": ""
             }
            },
            "type": "scatterternary"
           }
          ],
          "surface": [
           {
            "colorbar": {
             "outlinewidth": 0,
             "ticks": ""
            },
            "colorscale": [
             [
              0,
              "#0d0887"
             ],
             [
              0.1111111111111111,
              "#46039f"
             ],
             [
              0.2222222222222222,
              "#7201a8"
             ],
             [
              0.3333333333333333,
              "#9c179e"
             ],
             [
              0.4444444444444444,
              "#bd3786"
             ],
             [
              0.5555555555555556,
              "#d8576b"
             ],
             [
              0.6666666666666666,
              "#ed7953"
             ],
             [
              0.7777777777777778,
              "#fb9f3a"
             ],
             [
              0.8888888888888888,
              "#fdca26"
             ],
             [
              1,
              "#f0f921"
             ]
            ],
            "type": "surface"
           }
          ],
          "table": [
           {
            "cells": {
             "fill": {
              "color": "#EBF0F8"
             },
             "line": {
              "color": "white"
             }
            },
            "header": {
             "fill": {
              "color": "#C8D4E3"
             },
             "line": {
              "color": "white"
             }
            },
            "type": "table"
           }
          ]
         },
         "layout": {
          "annotationdefaults": {
           "arrowcolor": "#2a3f5f",
           "arrowhead": 0,
           "arrowwidth": 1
          },
          "autotypenumbers": "strict",
          "coloraxis": {
           "colorbar": {
            "outlinewidth": 0,
            "ticks": ""
           }
          },
          "colorscale": {
           "diverging": [
            [
             0,
             "#8e0152"
            ],
            [
             0.1,
             "#c51b7d"
            ],
            [
             0.2,
             "#de77ae"
            ],
            [
             0.3,
             "#f1b6da"
            ],
            [
             0.4,
             "#fde0ef"
            ],
            [
             0.5,
             "#f7f7f7"
            ],
            [
             0.6,
             "#e6f5d0"
            ],
            [
             0.7,
             "#b8e186"
            ],
            [
             0.8,
             "#7fbc41"
            ],
            [
             0.9,
             "#4d9221"
            ],
            [
             1,
             "#276419"
            ]
           ],
           "sequential": [
            [
             0,
             "#0d0887"
            ],
            [
             0.1111111111111111,
             "#46039f"
            ],
            [
             0.2222222222222222,
             "#7201a8"
            ],
            [
             0.3333333333333333,
             "#9c179e"
            ],
            [
             0.4444444444444444,
             "#bd3786"
            ],
            [
             0.5555555555555556,
             "#d8576b"
            ],
            [
             0.6666666666666666,
             "#ed7953"
            ],
            [
             0.7777777777777778,
             "#fb9f3a"
            ],
            [
             0.8888888888888888,
             "#fdca26"
            ],
            [
             1,
             "#f0f921"
            ]
           ],
           "sequentialminus": [
            [
             0,
             "#0d0887"
            ],
            [
             0.1111111111111111,
             "#46039f"
            ],
            [
             0.2222222222222222,
             "#7201a8"
            ],
            [
             0.3333333333333333,
             "#9c179e"
            ],
            [
             0.4444444444444444,
             "#bd3786"
            ],
            [
             0.5555555555555556,
             "#d8576b"
            ],
            [
             0.6666666666666666,
             "#ed7953"
            ],
            [
             0.7777777777777778,
             "#fb9f3a"
            ],
            [
             0.8888888888888888,
             "#fdca26"
            ],
            [
             1,
             "#f0f921"
            ]
           ]
          },
          "colorway": [
           "#636efa",
           "#EF553B",
           "#00cc96",
           "#ab63fa",
           "#FFA15A",
           "#19d3f3",
           "#FF6692",
           "#B6E880",
           "#FF97FF",
           "#FECB52"
          ],
          "font": {
           "color": "#2a3f5f"
          },
          "geo": {
           "bgcolor": "white",
           "lakecolor": "white",
           "landcolor": "#E5ECF6",
           "showlakes": true,
           "showland": true,
           "subunitcolor": "white"
          },
          "hoverlabel": {
           "align": "left"
          },
          "hovermode": "closest",
          "mapbox": {
           "style": "light"
          },
          "paper_bgcolor": "white",
          "plot_bgcolor": "#E5ECF6",
          "polar": {
           "angularaxis": {
            "gridcolor": "white",
            "linecolor": "white",
            "ticks": ""
           },
           "bgcolor": "#E5ECF6",
           "radialaxis": {
            "gridcolor": "white",
            "linecolor": "white",
            "ticks": ""
           }
          },
          "scene": {
           "xaxis": {
            "backgroundcolor": "#E5ECF6",
            "gridcolor": "white",
            "gridwidth": 2,
            "linecolor": "white",
            "showbackground": true,
            "ticks": "",
            "zerolinecolor": "white"
           },
           "yaxis": {
            "backgroundcolor": "#E5ECF6",
            "gridcolor": "white",
            "gridwidth": 2,
            "linecolor": "white",
            "showbackground": true,
            "ticks": "",
            "zerolinecolor": "white"
           },
           "zaxis": {
            "backgroundcolor": "#E5ECF6",
            "gridcolor": "white",
            "gridwidth": 2,
            "linecolor": "white",
            "showbackground": true,
            "ticks": "",
            "zerolinecolor": "white"
           }
          },
          "shapedefaults": {
           "line": {
            "color": "#2a3f5f"
           }
          },
          "ternary": {
           "aaxis": {
            "gridcolor": "white",
            "linecolor": "white",
            "ticks": ""
           },
           "baxis": {
            "gridcolor": "white",
            "linecolor": "white",
            "ticks": ""
           },
           "bgcolor": "#E5ECF6",
           "caxis": {
            "gridcolor": "white",
            "linecolor": "white",
            "ticks": ""
           }
          },
          "title": {
           "x": 0.05
          },
          "xaxis": {
           "automargin": true,
           "gridcolor": "white",
           "linecolor": "white",
           "ticks": "",
           "title": {
            "standoff": 15
           },
           "zerolinecolor": "white",
           "zerolinewidth": 2
          },
          "yaxis": {
           "automargin": true,
           "gridcolor": "white",
           "linecolor": "white",
           "ticks": "",
           "title": {
            "standoff": 15
           },
           "zerolinecolor": "white",
           "zerolinewidth": 2
          }
         }
        },
        "title": {
         "text": "Radar chart of mean preferences by cluster"
        },
        "width": 800
       }
      }
     },
     "metadata": {},
     "output_type": "display_data"
    }
   ],
   "source": [
    "# Create an empty list to store the Scatterpolar object of each cluster\n",
    "scatter_objects = []\n",
    "\n",
    "scaled_features_df = numeric_data_df.copy()\n",
    "\n",
    "# State the label for each arm of the chart\n",
    "categories = scaled_features_df.columns\n",
    "\n",
    "# Iterate over the unique clusters and add an object for each cluster to the list\n",
    "for cluster in sorted(scaled_features_df['cluster'].unique()):\n",
    "\n",
    "  # Find the mean value for each column of the cluster\n",
    "  cluster_means = [scaled_features_df.loc[scaled_features_df[\"cluster\"] == cluster, scaled_features_df.columns[0]].mean(),\n",
    "                  scaled_features_df.loc[scaled_features_df[\"cluster\"] == cluster, scaled_features_df.columns[1]].mean(),\n",
    "                  scaled_features_df.loc[scaled_features_df[\"cluster\"] == cluster, scaled_features_df.columns[2]].mean(),\n",
    "                  scaled_features_df.loc[scaled_features_df[\"cluster\"] == cluster, scaled_features_df.columns[3]].mean(),\n",
    "                  scaled_features_df.loc[scaled_features_df[\"cluster\"] == cluster, scaled_features_df.columns[4]].mean(),\n",
    "                  scaled_features_df.loc[scaled_features_df[\"cluster\"] == cluster, scaled_features_df.columns[5]].mean(),\n",
    "                  scaled_features_df.loc[scaled_features_df[\"cluster\"] == cluster, scaled_features_df.columns[6]].mean(),\n",
    "                  scaled_features_df.loc[scaled_features_df[\"cluster\"] == cluster, scaled_features_df.columns[7]].mean(),\n",
    "                  scaled_features_df.loc[scaled_features_df[\"cluster\"] == cluster, scaled_features_df.columns[8]].mean(),\n",
    "                  scaled_features_df.loc[scaled_features_df[\"cluster\"] == cluster, scaled_features_df.columns[9]].mean(),\n",
    "                  scaled_features_df.loc[scaled_features_df[\"cluster\"] == cluster, scaled_features_df.columns[10]].mean(),\n",
    "                  scaled_features_df.loc[scaled_features_df[\"cluster\"] == cluster, scaled_features_df.columns[11]].mean()]\n",
    "                  # Bonus: see if you can turn this code for `cluster_means` into a list comprehension\n",
    "\n",
    "  # Create a Scatterpolar object for the cluster\n",
    "  cluster_scatter = go.Scatterpolar(\n",
    "    r = cluster_means, # set the radial coordinates\n",
    "    theta = categories, # the names of the columns\n",
    "    fill = 'toself', # fills in the space with colour\n",
    "    name = f'Cluster {cluster}' # adds the name of the cluster\n",
    "  )\n",
    "\n",
    "  # Add the Scatterpolar object to the list\n",
    "  scatter_objects.append(cluster_scatter)\n",
    "\n",
    "# Create the figure (the white area)\n",
    "fig = go.Figure()\n",
    "\n",
    "# Add the scatter objects to the figure\n",
    "fig.add_traces(scatter_objects)\n",
    "\n",
    "# Add extras to the plot, such as title\n",
    "fig.update_layout(\n",
    "  title_text = 'Radar chart of mean preferences by cluster',\n",
    "  height = 600,\n",
    "  width = 800,\n",
    "  polar = dict(\n",
    "    radialaxis = dict(\n",
    "      visible = True, # visibility of the numbers on the arm\n",
    "      range = [0, 1] # scale of the plot\n",
    "    )),\n",
    "  showlegend = True,\n",
    "  paper_bgcolor='#000000',\n",
    "  plot_bgcolor='#000000',\n",
    "  font=dict(color='#00cf61')\n",
    ")\n",
    "\n",
    "# Show the initialised plot and the trace objects\n",
    "fig.show()"
   ]
  }
 ],
 "metadata": {
  "kernelspec": {
   "display_name": ".spotify_env",
   "language": "python",
   "name": "python3"
  },
  "language_info": {
   "codemirror_mode": {
    "name": "ipython",
    "version": 3
   },
   "file_extension": ".py",
   "mimetype": "text/x-python",
   "name": "python",
   "nbconvert_exporter": "python",
   "pygments_lexer": "ipython3",
   "version": "3.10.11"
  }
 },
 "nbformat": 4,
 "nbformat_minor": 2
}
